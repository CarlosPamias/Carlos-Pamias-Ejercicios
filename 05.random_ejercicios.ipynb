{
 "cells": [
  {
   "cell_type": "markdown",
   "id": "3b9c8335",
   "metadata": {},
   "source": [
    "## Ejercicios - random"
   ]
  },
  {
   "cell_type": "code",
   "execution_count": 3,
   "id": "ed13011e",
   "metadata": {},
   "outputs": [],
   "source": [
    "import random"
   ]
  },
  {
   "cell_type": "markdown",
   "id": "eca8b13f",
   "metadata": {},
   "source": [
    "### Ejercicio 1\n",
    "- Crea una lista de 10 numeros enteros aleatorios entre el rango de 10 y 20 utilizando la función random.randint()"
   ]
  },
  {
   "cell_type": "code",
   "execution_count": 4,
   "id": "a9c5468a",
   "metadata": {},
   "outputs": [
    {
     "name": "stdout",
     "output_type": "stream",
     "text": [
      "10\n",
      "16\n",
      "11\n",
      "13\n",
      "15\n",
      "11\n",
      "11\n",
      "12\n",
      "12\n",
      "11\n"
     ]
    }
   ],
   "source": [
    "for i in range(10):\n",
    "    print(random.randint(10,20))"
   ]
  },
  {
   "cell_type": "code",
   "execution_count": null,
   "id": "91329916",
   "metadata": {},
   "outputs": [],
   "source": []
  },
  {
   "cell_type": "code",
   "execution_count": null,
   "id": "afeb807a",
   "metadata": {},
   "outputs": [],
   "source": []
  },
  {
   "cell_type": "markdown",
   "id": "fc1a19d0",
   "metadata": {},
   "source": [
    "### Ejercicio 2\n",
    "- Crea una lista de 10 numeros enteros aleatorios entre el rango de 10 y 20 sin utilizar la función random.randint()"
   ]
  },
  {
   "cell_type": "code",
   "execution_count": 6,
   "id": "0985d30a",
   "metadata": {},
   "outputs": [
    {
     "name": "stdout",
     "output_type": "stream",
     "text": [
      "17\n",
      "14\n",
      "10\n",
      "15\n",
      "16\n",
      "10\n",
      "10\n",
      "19\n",
      "11\n",
      "13\n"
     ]
    }
   ],
   "source": [
    "for i in range(10):\n",
    "    print(random.choice(range(10,21)))"
   ]
  },
  {
   "cell_type": "code",
   "execution_count": null,
   "id": "b04bcddf",
   "metadata": {},
   "outputs": [],
   "source": []
  },
  {
   "cell_type": "code",
   "execution_count": null,
   "id": "07139a13",
   "metadata": {},
   "outputs": [],
   "source": []
  },
  {
   "cell_type": "markdown",
   "id": "381a2b23",
   "metadata": {},
   "source": [
    "### Ejercicio 3\n",
    "- Genera una lista de 100 numero enteros aleatorios entre 0 y 100.\n",
    "- Genera otra lista con solo los números pares de la primera lista.\n",
    "\n",
    "- Extra: Hacer este ejercicio usando 1 solo bucle."
   ]
  },
  {
   "cell_type": "code",
   "execution_count": 7,
   "id": "ed54e490",
   "metadata": {
    "scrolled": true
   },
   "outputs": [
    {
     "name": "stdout",
     "output_type": "stream",
     "text": [
      "Lista de 100 números aleatorios: [33, 71, 76, 93, 26, 3, 75, 14, 40, 17, 88, 71, 53, 95, 30, 82, 13, 47, 61, 96, 7, 61, 50, 11, 9, 17, 2, 85, 49, 4, 64, 73, 95, 12, 100, 8, 15, 36, 73, 72, 36, 84, 7, 8, 14, 5, 8, 100, 66, 55, 56, 44, 51, 82, 24, 27, 60, 7, 16, 0, 50, 37, 48, 14, 67, 2, 67, 46, 60, 61, 31, 71, 89, 34, 15, 1, 8, 53, 81, 95, 74, 90, 27, 43, 19, 12, 80, 21, 68, 83, 86, 97, 72, 75, 1, 17, 83, 5, 14, 42]\n",
      "Lista de números pares: [76, 26, 14, 40, 88, 30, 82, 96, 50, 2, 4, 64, 12, 100, 8, 36, 72, 36, 84, 8, 14, 8, 100, 66, 56, 44, 82, 24, 60, 16, 0, 50, 48, 14, 2, 46, 60, 34, 8, 74, 90, 12, 80, 68, 86, 72, 14, 42]\n"
     ]
    }
   ],
   "source": [
    "\n",
    "numeros_aleatorios = []\n",
    "numeros_pares = []\n",
    "\n",
    "for _ in range(100):\n",
    "    numero = random.choice(range(101))\n",
    "    numeros_aleatorios.append(numero)\n",
    "    if numero % 2 == 0:\n",
    "        numeros_pares.append(numero)\n",
    "\n",
    "print(\"Lista de 100 números aleatorios:\", numeros_aleatorios)\n",
    "print(\"Lista de números pares:\", numeros_pares)\n"
   ]
  },
  {
   "cell_type": "code",
   "execution_count": null,
   "id": "570ff2b3",
   "metadata": {},
   "outputs": [],
   "source": []
  },
  {
   "cell_type": "code",
   "execution_count": null,
   "id": "8ac4e27c",
   "metadata": {},
   "outputs": [],
   "source": []
  },
  {
   "cell_type": "code",
   "execution_count": null,
   "id": "3989b760",
   "metadata": {},
   "outputs": [],
   "source": [
    "##############################################################################################################################"
   ]
  }
 ],
 "metadata": {
  "kernelspec": {
   "display_name": "Python 3",
   "language": "python",
   "name": "python3"
  },
  "language_info": {
   "codemirror_mode": {
    "name": "ipython",
    "version": 3
   },
   "file_extension": ".py",
   "mimetype": "text/x-python",
   "name": "python",
   "nbconvert_exporter": "python",
   "pygments_lexer": "ipython3",
   "version": "3.13.1"
  }
 },
 "nbformat": 4,
 "nbformat_minor": 5
}
