{
 "cells": [
  {
   "cell_type": "markdown",
   "id": "689c1a0e",
   "metadata": {},
   "source": [
    "## Ejercicios - Lists"
   ]
  },
  {
   "cell_type": "code",
   "execution_count": 3,
   "id": "29b1adca",
   "metadata": {},
   "outputs": [],
   "source": [
    "lista = [\"a\", \"b\", \"c\", \"d\", \"e\", 1, 2, 3, 4, 5, False, True]"
   ]
  },
  {
   "cell_type": "markdown",
   "id": "3a92774b",
   "metadata": {},
   "source": [
    "### Ejercicio 1\n",
    "- En listas separadas obtener una lista paras los caracteres, otra para los enteros y otra para lo booleanos, utilizando slicing.\n",
    "- Llamalas **lista_1**, **lista_2**, **lista_3** respectivamente."
   ]
  },
  {
   "cell_type": "code",
   "execution_count": 4,
   "id": "d8846c0d",
   "metadata": {},
   "outputs": [
    {
     "data": {
      "text/plain": [
       "['a', 'b', 'c', 'd', 'e']"
      ]
     },
     "execution_count": 4,
     "metadata": {},
     "output_type": "execute_result"
    }
   ],
   "source": [
    "lista1 = lista[0:5]\n",
    "lista1"
   ]
  },
  {
   "cell_type": "code",
   "execution_count": 5,
   "id": "b869534e",
   "metadata": {},
   "outputs": [
    {
     "data": {
      "text/plain": [
       "[1, 2, 3, 4, 5]"
      ]
     },
     "execution_count": 5,
     "metadata": {},
     "output_type": "execute_result"
    }
   ],
   "source": [
    "lista2 = lista[5:10]\n",
    "lista2"
   ]
  },
  {
   "cell_type": "code",
   "execution_count": 6,
   "id": "f633c099",
   "metadata": {},
   "outputs": [
    {
     "data": {
      "text/plain": [
       "[False, True]"
      ]
     },
     "execution_count": 6,
     "metadata": {},
     "output_type": "execute_result"
    }
   ],
   "source": [
    "lista3 = lista[10:]\n",
    "lista3"
   ]
  },
  {
   "cell_type": "markdown",
   "id": "2c73b574",
   "metadata": {},
   "source": [
    "### Ejercicio 2\n",
    "- Insertar las vocales faltantes a la lista de caracteres."
   ]
  },
  {
   "cell_type": "code",
   "execution_count": 7,
   "id": "7ff75b01",
   "metadata": {},
   "outputs": [
    {
     "data": {
      "text/plain": [
       "['a', 'b', 'c', 'd', 'e', 'i', 'o', 'u']"
      ]
     },
     "execution_count": 7,
     "metadata": {},
     "output_type": "execute_result"
    }
   ],
   "source": [
    "vocales = ['i', 'o', 'u']\n",
    "lista1.extend(vocales)\n",
    "lista1"
   ]
  },
  {
   "cell_type": "code",
   "execution_count": null,
   "id": "d6903710",
   "metadata": {},
   "outputs": [],
   "source": []
  },
  {
   "cell_type": "code",
   "execution_count": null,
   "id": "58d18658",
   "metadata": {},
   "outputs": [],
   "source": []
  },
  {
   "cell_type": "markdown",
   "id": "01569a27",
   "metadata": {},
   "source": [
    "### Ejercicio 3\n",
    "- Eliminar los caracteres que no son vocales de la lista de caracteres."
   ]
  },
  {
   "cell_type": "code",
   "execution_count": 8,
   "id": "0b97f95e",
   "metadata": {},
   "outputs": [
    {
     "data": {
      "text/plain": [
       "['b', 'c', 'd']"
      ]
     },
     "execution_count": 8,
     "metadata": {},
     "output_type": "execute_result"
    }
   ],
   "source": [
    "\n",
    "lista_work = lista1 \n",
    "try:\n",
    "    lista_work.remove('a')\n",
    "    lista_work.remove('e')\n",
    "    lista_work.remove('i')\n",
    "    lista_work.remove('o')\n",
    "    lista_work.remove('u')\n",
    "except ValueError:\n",
    "    print(\"Ha ocurrido un error al borrar, no existe vocal\")\n",
    "lista_work"
   ]
  },
  {
   "cell_type": "code",
   "execution_count": null,
   "id": "8dde3078",
   "metadata": {},
   "outputs": [],
   "source": []
  },
  {
   "cell_type": "code",
   "execution_count": null,
   "id": "f8b25df7",
   "metadata": {},
   "outputs": [],
   "source": []
  },
  {
   "cell_type": "markdown",
   "id": "a1f846a6",
   "metadata": {},
   "source": [
    "### Ejercico 4\n",
    "- De la lista inicial (**lista**) reemplazar los elementos boleanos por 0 y 1 respectivamente."
   ]
  },
  {
   "cell_type": "code",
   "execution_count": 9,
   "id": "ef405145",
   "metadata": {},
   "outputs": [
    {
     "data": {
      "text/plain": [
       "['a', 'b', 'c', 'd', 'e', 1, 2, 3, 4, 5, 0, 1]"
      ]
     },
     "execution_count": 9,
     "metadata": {},
     "output_type": "execute_result"
    }
   ],
   "source": [
    "lista = [\"a\", \"b\", \"c\", \"d\", \"e\", 1, 2, 3, 4, 5, False, True]\n",
    "lista[-1] = 1\n",
    "lista[-2] = 0\n",
    "lista"
   ]
  },
  {
   "cell_type": "code",
   "execution_count": null,
   "id": "9fe4632b",
   "metadata": {},
   "outputs": [],
   "source": []
  },
  {
   "cell_type": "code",
   "execution_count": null,
   "id": "7ff0cd89",
   "metadata": {},
   "outputs": [],
   "source": []
  },
  {
   "cell_type": "markdown",
   "id": "0dc22d68",
   "metadata": {},
   "source": [
    "### Ejercicio 5\n",
    "- Aplicar el metodo **.reverse()** a la lista de números."
   ]
  },
  {
   "cell_type": "code",
   "execution_count": 10,
   "id": "e26f8c1a",
   "metadata": {},
   "outputs": [
    {
     "data": {
      "text/plain": [
       "[5, 4, 3, 2, 1]"
      ]
     },
     "execution_count": 10,
     "metadata": {},
     "output_type": "execute_result"
    }
   ],
   "source": [
    "lista2.reverse()\n",
    "lista2"
   ]
  },
  {
   "cell_type": "code",
   "execution_count": null,
   "id": "f0af2153-1c80-4f7e-93f9-b3a7fe0a6ce4",
   "metadata": {},
   "outputs": [],
   "source": []
  },
  {
   "cell_type": "code",
   "execution_count": null,
   "id": "4271add1",
   "metadata": {},
   "outputs": [],
   "source": []
  },
  {
   "cell_type": "markdown",
   "id": "a7fedc64",
   "metadata": {},
   "source": [
    "### Ejercicio 6\n",
    "- Aplicar el método **.sort()** a la lista de números."
   ]
  },
  {
   "cell_type": "code",
   "execution_count": 13,
   "id": "3a3f630e",
   "metadata": {},
   "outputs": [
    {
     "data": {
      "text/plain": [
       "[1, 2, 3, 4, 5]"
      ]
     },
     "execution_count": 13,
     "metadata": {},
     "output_type": "execute_result"
    }
   ],
   "source": [
    "lista2.sort()\n",
    "lista2"
   ]
  },
  {
   "cell_type": "code",
   "execution_count": null,
   "id": "ee4e49c9-a0f3-488c-a015-c5f7b88249e5",
   "metadata": {},
   "outputs": [],
   "source": []
  },
  {
   "cell_type": "code",
   "execution_count": null,
   "id": "10440560",
   "metadata": {},
   "outputs": [],
   "source": []
  },
  {
   "cell_type": "markdown",
   "id": "6fca8361",
   "metadata": {},
   "source": [
    "### Ejercicio 7\n",
    "- Une las 3 listas para formar la lista inicial otra vez."
   ]
  },
  {
   "cell_type": "code",
   "execution_count": 14,
   "id": "12b94ea1",
   "metadata": {},
   "outputs": [
    {
     "data": {
      "text/plain": [
       "['b', 'c', 'd', 1, 2, 3, 4, 5, False, True]"
      ]
     },
     "execution_count": 14,
     "metadata": {},
     "output_type": "execute_result"
    }
   ],
   "source": [
    "lista_unida = lista1 + lista2 + lista3\n",
    "lista_unida"
   ]
  },
  {
   "cell_type": "code",
   "execution_count": null,
   "id": "eb64e86c",
   "metadata": {},
   "outputs": [],
   "source": []
  },
  {
   "cell_type": "code",
   "execution_count": null,
   "id": "2a29eab4",
   "metadata": {},
   "outputs": [],
   "source": []
  },
  {
   "cell_type": "markdown",
   "id": "105efdd9",
   "metadata": {},
   "source": [
    "### Ejercicio 8\n",
    "- Dada la siguiente lista de empresas:\n",
    "    1. Ordenar cada lista dentro de la lista de empresas en orden alfabetico.\n",
    "    2. Obtener las empresas: Audi, Avianca y KLM, mediante sus índices y crear una nueva lista con esos elementos."
   ]
  },
  {
   "cell_type": "code",
   "execution_count": 11,
   "id": "0e81c6cb",
   "metadata": {},
   "outputs": [
    {
     "data": {
      "text/plain": [
       "[['Cocacola', 'Pepsi'],\n",
       " ['Meta', 'TW', 'IG'],\n",
       " ['Ferrari', 'Audi', 'Ford', 'Nissan'],\n",
       " ['KLM', 'AA', 'Iberia', 'AE', 'Avianca']]"
      ]
     },
     "execution_count": 11,
     "metadata": {},
     "output_type": "execute_result"
    }
   ],
   "source": [
    "empresas = [[\"Cocacola\", \"Pepsi\"],\n",
    "            [\"Meta\", \"TW\", \"IG\"],\n",
    "            [\"Ferrari\", \"Audi\", \"Ford\", \"Nissan\"],\n",
    "            [\"KLM\", \"AA\", \"Iberia\", \"AE\", \"Avianca\"]]\n",
    "\n",
    "empresas"
   ]
  },
  {
   "cell_type": "code",
   "execution_count": 15,
   "id": "4963bdb3",
   "metadata": {},
   "outputs": [
    {
     "name": "stdout",
     "output_type": "stream",
     "text": [
      "[['Cocacola', 'Pepsi'], ['IG', 'Meta', 'TW'], ['Audi', 'Ferrari', 'Ford', 'Nissan'], ['AA', 'AE', 'Avianca', 'Iberia', 'KLM']]\n",
      "['Ferrari', 'KLM', 'AA']\n"
     ]
    }
   ],
   "source": [
    "# 1. Ordenar cada lista dentro de empresas\n",
    "empresas[0] = sorted(empresas[0])\n",
    "empresas[1] = sorted(empresas[1])\n",
    "empresas[2] = sorted(empresas[2])\n",
    "empresas[3] = sorted(empresas[3])\n",
    "\n",
    "# 2. Obtener Audi, Avianca y KLM y crear una nueva lista\n",
    "nueva_lista = [empresas[2][1], empresas[3][4], empresas[3][0]]\n",
    "\n",
    "print(empresas)\n",
    "print(nueva_lista)"
   ]
  },
  {
   "cell_type": "code",
   "execution_count": null,
   "id": "9f9a41fa",
   "metadata": {},
   "outputs": [],
   "source": []
  },
  {
   "cell_type": "code",
   "execution_count": 12,
   "id": "89812952",
   "metadata": {},
   "outputs": [],
   "source": [
    "##############################################################################################################################"
   ]
  }
 ],
 "metadata": {
  "kernelspec": {
   "display_name": "Python 3",
   "language": "python",
   "name": "python3"
  },
  "language_info": {
   "codemirror_mode": {
    "name": "ipython",
    "version": 3
   },
   "file_extension": ".py",
   "mimetype": "text/x-python",
   "name": "python",
   "nbconvert_exporter": "python",
   "pygments_lexer": "ipython3",
   "version": "3.13.1"
  }
 },
 "nbformat": 4,
 "nbformat_minor": 5
}
