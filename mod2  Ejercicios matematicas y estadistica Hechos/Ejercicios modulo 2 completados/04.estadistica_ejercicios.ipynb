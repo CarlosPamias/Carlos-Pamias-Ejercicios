{
 "cells": [
  {
   "cell_type": "markdown",
   "id": "136d8ea3",
   "metadata": {},
   "source": [
    "## Estadística  Ejercicios"
   ]
  },
  {
   "cell_type": "code",
   "execution_count": 1,
   "id": "7320a211",
   "metadata": {},
   "outputs": [],
   "source": [
    "import numpy as np\n",
    "import matplotlib\n",
    "import matplotlib.pyplot as plt\n",
    "import scipy\n",
    "from scipy import stats\n",
    "\n",
    "import random\n",
    "import pickle as pkl"
   ]
  },
  {
   "cell_type": "code",
   "execution_count": 2,
   "id": "72b73a62-1b81-4902-a8ee-c25425a2169f",
   "metadata": {
    "tags": []
   },
   "outputs": [
    {
     "name": "stdout",
     "output_type": "stream",
     "text": [
      "numpy==2.2.0\n",
      "matplotlib==3.10.0\n",
      "scipy==1.14.1\n"
     ]
    }
   ],
   "source": [
    "# Versiones\n",
    "\n",
    "print(f\"numpy=={np.__version__}\")\n",
    "print(f\"matplotlib=={matplotlib.__version__}\")\n",
    "print(f\"scipy=={scipy.__version__}\")"
   ]
  },
  {
   "cell_type": "code",
   "execution_count": 5,
   "id": "2dbace1d",
   "metadata": {},
   "outputs": [],
   "source": [
    "with open(\"./Data/FUELCONSUMPTION_CITY.pkl\", \"br\") as f:\n",
    "    fuel_city = pkl.load(f)\n",
    "with open(\"./Data/FUELCONSUMPTION_HWY.pkl\", \"br\") as f:\n",
    "    fuel_hwy = pkl.load(f)"
   ]
  },
  {
   "cell_type": "code",
   "execution_count": 6,
   "id": "c01b1889",
   "metadata": {},
   "outputs": [
    {
     "data": {
      "text/plain": [
       "array([ 9.9, 11.2,  6. , ..., 13.4, 12.9, 14.9], shape=(1067,))"
      ]
     },
     "execution_count": 6,
     "metadata": {},
     "output_type": "execute_result"
    }
   ],
   "source": [
    "fuel_city # Gasto de combustible en la ciudad"
   ]
  },
  {
   "cell_type": "code",
   "execution_count": null,
   "id": "5501bbc7",
   "metadata": {},
   "outputs": [],
   "source": [
    "fuel_hwy # Gasto de combustible en la autovía"
   ]
  },
  {
   "cell_type": "markdown",
   "id": "9c81ca43",
   "metadata": {},
   "source": [
    "### Ejercicio 01:\n",
    "- Define una función que tome como entrada un array y retorne la varianza. Apóyate en la siguiente fórmula:\n",
    "$$ \\mathbf{S^2} = \\frac{1}{n} \\sum_{i=1}^{n} (x_{i}^{2}- \\overline{x}^2)$$\n",
    "\n",
    "- Comprueba que funciona correctamente comparándola con _**np.var()**_."
   ]
  },
  {
   "cell_type": "code",
   "execution_count": 7,
   "id": "63287467",
   "metadata": {},
   "outputs": [],
   "source": [
    "def calcular_varianza(array):\n",
    "    n = len(array)\n",
    "    media = np.mean(array)\n",
    "    suma_cuadrados = np.sum(np.power(array, 2))\n",
    "    varianza = (suma_cuadrados / n) - (media ** 2)\n",
    "    return varianza\n"
   ]
  },
  {
   "cell_type": "code",
   "execution_count": 8,
   "id": "c3ede09c",
   "metadata": {},
   "outputs": [
    {
     "name": "stdout",
     "output_type": "stream",
     "text": [
      "Varianza calculada con la función personalizada: 16.80451468569308\n",
      "Varianza calculada con np.var(): 16.80451468569305\n"
     ]
    }
   ],
   "source": [
    "\n",
    "# Calcular la varianza usando nuestra función\n",
    "varianza_personalizada = calcular_varianza(fuel_city)\n",
    "\n",
    "# Calcular la varianza usando np.var()\n",
    "varianza_np = np.var(fuel_city)\n",
    "\n",
    "# Mostrar los resultados\n",
    "print(f\"Varianza calculada con la función personalizada: {varianza_personalizada}\")\n",
    "print(f\"Varianza calculada con np.var(): {varianza_np}\")\n"
   ]
  },
  {
   "cell_type": "code",
   "execution_count": null,
   "id": "95420d3b",
   "metadata": {},
   "outputs": [],
   "source": []
  },
  {
   "cell_type": "markdown",
   "id": "1c505847",
   "metadata": {},
   "source": [
    "### Ejercicio 02:\n",
    "- Define una función que tome como entrada un array y retorne la desviación estándar. Apóyate en la siguiente fórmula:\n",
    "\n",
    "$$ \\mathbf{S} = \\sigma = \\sqrt{\\frac{1}{n} \\sum_{i=1}^{n} x_{i}^{2}- \\overline{x}^2}$$\n",
    "\n",
    "- Comprueba que funciona correctamente comprobándola con _**np.std()**_."
   ]
  },
  {
   "cell_type": "code",
   "execution_count": 9,
   "id": "1213ab63",
   "metadata": {},
   "outputs": [],
   "source": [
    "import numpy as np\n",
    "\n",
    "def calcular_desviacion_estandar(array):\n",
    "    n = len(array)\n",
    "    media = np.mean(array)\n",
    "    suma_cuadrados = np.sum(np.power(array, 2))\n",
    "    varianza = (suma_cuadrados / n) - (media ** 2)\n",
    "    desviacion_estandar = np.sqrt(varianza)\n",
    "    return desviacion_estandar\n"
   ]
  },
  {
   "cell_type": "code",
   "execution_count": 10,
   "id": "586efd5b",
   "metadata": {},
   "outputs": [
    {
     "name": "stdout",
     "output_type": "stream",
     "text": [
      "Desviación estándar calculada con la función personalizada: 4.099331004651012\n",
      "VariaDesviación estándarnza calculada con np.var(): 4.099331004651009\n"
     ]
    }
   ],
   "source": [
    "\n",
    "# Calcular la varianza usando nuestra función\n",
    "desviacion_estandar_personalizada = calcular_desviacion_estandar(fuel_city)\n",
    "\n",
    "# Calcular la varianza usando np.var()\n",
    "desviacion_estandar_np = np.std(fuel_city)\n",
    "\n",
    "# Mostrar los resultados\n",
    "print(f\"Desviación estándar calculada con la función personalizada: {desviacion_estandar_personalizada}\")\n",
    "print(f\"VariaDesviación estándarnza calculada con np.var(): {desviacion_estandar_np}\")"
   ]
  },
  {
   "cell_type": "code",
   "execution_count": null,
   "id": "f6bc5089",
   "metadata": {},
   "outputs": [],
   "source": []
  },
  {
   "cell_type": "markdown",
   "id": "d9ae7ca8",
   "metadata": {},
   "source": [
    "### Ejercicio 03:\n",
    "- Define una función que tome como parámetro un array y retorne los siguientes estadísticos en forma de diccionario:\n",
    "    - Mínimo\n",
    "    - Máximo\n",
    "    - Media\n",
    "    - Cuartiles Q1, Q2 (mediana) y Q3\n",
    "    - Rango intercuartil\n",
    "    - Desviación estándar\n",
    "- Prueba la función con los arrays **fuel_city** y **fuel_hwy**."
   ]
  },
  {
   "cell_type": "code",
   "execution_count": 18,
   "id": "bd4982b7",
   "metadata": {},
   "outputs": [],
   "source": [
    "\n",
    "def estadisticos(array):\n",
    "    # Crear diccionario\n",
    "    estadisticas = dict()\n",
    " \n",
    "    # Calcular estadisticas y agregar estadísticas al diccionario\n",
    "    estadisticas['minimo'] = min_valor = np.min(array)\n",
    "    estadisticas['maximo'] = np.max(array)\n",
    "    estadisticas['media'] = np.mean(array)\n",
    "    Q1 = np.percentile(array, 25)\n",
    "    Q3 = np.percentile(array, 75)\n",
    "    estadisticas['Q1'] = Q1\n",
    "    estadisticas['Q2'] = np.median(array)\n",
    "    estadisticas['Q3'] = Q3\n",
    "\n",
    "    estadisticas['rango_intercuartil'] = Q3 - Q1\n",
    "    estadisticas['desviacion_estandar'] = np.std(array)\n",
    "    \n",
    "    # Retornar el diccionario creado\n",
    "    return estadisticas\n",
    "\n",
    "\n"
   ]
  },
  {
   "cell_type": "code",
   "execution_count": 23,
   "id": "19a1c1cf",
   "metadata": {},
   "outputs": [
    {
     "name": "stdout",
     "output_type": "stream",
     "text": [
      "Estadísticos para fuel_city:\n"
     ]
    },
    {
     "data": {
      "text/plain": [
       "{'minimo': np.float64(4.6),\n",
       " 'maximo': np.float64(30.2),\n",
       " 'media': np.float64(13.296532333645736),\n",
       " 'Q1': np.float64(10.25),\n",
       " 'Q2': np.float64(12.6),\n",
       " 'Q3': np.float64(15.55),\n",
       " 'rango_intercuartil': np.float64(5.300000000000001),\n",
       " 'desviacion_estandar': np.float64(4.099331004651009)}"
      ]
     },
     "execution_count": 23,
     "metadata": {},
     "output_type": "execute_result"
    }
   ],
   "source": [
    "# Calcular los estadísticos para fuel_city\n",
    "estadisticos_fuel_city = estadisticos(fuel_city)\n",
    "print(\"Estadísticos para fuel_city:\")\n",
    "estadisticos_fuel_city\n",
    "\n"
   ]
  },
  {
   "cell_type": "code",
   "execution_count": 24,
   "id": "f4968122",
   "metadata": {},
   "outputs": [
    {
     "name": "stdout",
     "output_type": "stream",
     "text": [
      "Estadísticos para fuel_hwy:\n"
     ]
    },
    {
     "data": {
      "text/plain": [
       "{'minimo': np.float64(4.9),\n",
       " 'maximo': np.float64(20.5),\n",
       " 'media': np.float64(9.474601686972822),\n",
       " 'Q1': np.float64(7.5),\n",
       " 'Q2': np.float64(8.8),\n",
       " 'Q3': np.float64(10.850000000000001),\n",
       " 'rango_intercuartil': np.float64(3.3500000000000014),\n",
       " 'desviacion_estandar': np.float64(2.793200625370099)}"
      ]
     },
     "execution_count": 24,
     "metadata": {},
     "output_type": "execute_result"
    }
   ],
   "source": [
    "# Calcular los estadísticos para fuel_hwy\n",
    "estadisticos_fuel_hwy = estadisticos(fuel_hwy)\n",
    "print(\"Estadísticos para fuel_hwy:\")\n",
    "estadisticos_fuel_hwy"
   ]
  },
  {
   "cell_type": "markdown",
   "id": "0345cc95",
   "metadata": {},
   "source": [
    "### Ejercicio 04:\n",
    "- Define una función que toma un array como entrada, y retorna el mismo array sin los outliers.\n",
    "- Utiliza la **Puntuación Z** para el filtrado de valores atípicos.\n",
    "- Prueba la función con los arrays _**fuel_city**_ y _**fuel_hwy**_, y calcula qué porcentaje de datos se ha conservado tras el filtrado de outliers para cada caso."
   ]
  },
  {
   "cell_type": "code",
   "execution_count": 30,
   "id": "34c3dc41",
   "metadata": {},
   "outputs": [],
   "source": [
    "import numpy as np\n",
    "\n",
    "def filtrar_outliers(array, z=3.0):\n",
    "    # Calcular la media y desviación estándar del array\n",
    "    media = np.mean(array)\n",
    "    desviacion_estandar = np.std(array)\n",
    "    \n",
    "    # Calcular la puntuación Z para cada valor del array\n",
    "    z_scores = (array - media) / desviacion_estandar\n",
    "    \n",
    "    # Filtrar los valores que tienen una puntuación Z menor que el umbral\n",
    "    array_filtrado = array[np.abs(z_scores) < z]\n",
    "    \n",
    "    return array_filtrado\n"
   ]
  },
  {
   "cell_type": "code",
   "execution_count": 31,
   "id": "f33af770",
   "metadata": {},
   "outputs": [
    {
     "name": "stdout",
     "output_type": "stream",
     "text": [
      "Porcentaje de datos conservados en fuel_city: 99.34%\n",
      "Porcentaje de datos conservados en fuel_hwy: 98.13%\n"
     ]
    }
   ],
   "source": [
    "# Filtrar outliers en fuel_city\n",
    "fuel_city_filtrado = filtrar_outliers(fuel_city)\n",
    "porcentaje_fuel_city = (len(fuel_city_filtrado) / len(fuel_city)) * 100\n",
    "\n",
    "# Filtrar outliers en fuel_hwy\n",
    "fuel_hwy_filtrado = filtrar_outliers(fuel_hwy)\n",
    "porcentaje_fuel_hwy = (len(fuel_hwy_filtrado) / len(fuel_hwy)) * 100\n",
    "\n",
    "# Mostrar los resultados\n",
    "print(f\"Porcentaje de datos conservados en fuel_city: {porcentaje_fuel_city:.2f}%\")\n",
    "\n",
    "print(f\"Porcentaje de datos conservados en fuel_hwy: {porcentaje_fuel_hwy:.2f}%\")\n"
   ]
  },
  {
   "cell_type": "code",
   "execution_count": 32,
   "id": "f570b5cc",
   "metadata": {
    "scrolled": true,
    "tags": []
   },
   "outputs": [
    {
     "data": {
      "image/png": "[encoded data removed]",
      "text/plain": [
       "<Figure size 640x480 with 1 Axes>"
      ]
     },
     "metadata": {},
     "output_type": "display_data"
    }
   ],
   "source": [
    "plt.hist(fuel_city, bins = 40, color = \"skyblue\", alpha=0.5)\n",
    "plt.hist(fuel_city_filtrado, bins = 30, color = \"red\");"
   ]
  },
  {
   "cell_type": "code",
   "execution_count": 33,
   "id": "d45e1101",
   "metadata": {},
   "outputs": [
    {
     "data": {
      "image/png": "[encoded data removed]",
      "text/plain": [
       "<Figure size 640x480 with 1 Axes>"
      ]
     },
     "metadata": {},
     "output_type": "display_data"
    }
   ],
   "source": [
    "plt.hist(fuel_hwy, bins = 40, color = \"skyblue\", alpha=0.5)\n",
    "plt.hist(fuel_hwy_filtrado, bins = 30, color = \"red\");"
   ]
  },
  {
   "cell_type": "markdown",
   "id": "20871489",
   "metadata": {},
   "source": [
    "### Ejercicio 05:\n",
    "- Repite el ejercicio 4 usando la **Valla de Tukey** para el filtrado de outliers."
   ]
  },
  {
   "cell_type": "code",
   "execution_count": 34,
   "id": "bb1ff5ae",
   "metadata": {},
   "outputs": [],
   "source": [
    "\n",
    "\n",
    "def filtrar_outliers_tukey(array, k=1.5):\n",
    "    # Calcular los cuartiles y el rango intercuartil\n",
    "    Q1 = np.percentile(array, 25)\n",
    "    Q3 = np.percentile(array, 75)\n",
    "    IQR = Q3 - Q1\n",
    "    \n",
    "    # Calcular los límites inferior y superior\n",
    "    limite_inferior = Q1 - k * IQR\n",
    "    limite_superior = Q3 + k * IQR\n",
    "    \n",
    "    # Filtrar los valores que están dentro de los límites\n",
    "    array_filtrado = array[(array >= limite_inferior) & (array <= limite_superior)]\n",
    "    \n",
    "    return array_filtrado\n"
   ]
  },
  {
   "cell_type": "code",
   "execution_count": 35,
   "id": "71f76f16",
   "metadata": {},
   "outputs": [
    {
     "name": "stdout",
     "output_type": "stream",
     "text": [
      "Porcentaje de datos conservados en fuel_city: 97.56%\n",
      "Porcentaje de datos conservados en fuel_hwy: 96.72%\n"
     ]
    }
   ],
   "source": [
    "# Filtrar outliers en fuel_city\n",
    "fuel_city_filtrado = filtrar_outliers_tukey(fuel_city)\n",
    "porcentaje_fuel_city = (len(fuel_city_filtrado) / len(fuel_city)) * 100\n",
    "\n",
    "# Filtrar outliers en fuel_hwy\n",
    "fuel_hwy_filtrado = filtrar_outliers_tukey(fuel_hwy)\n",
    "porcentaje_fuel_hwy = (len(fuel_hwy_filtrado) / len(fuel_hwy)) * 100\n",
    "\n",
    "# Mostrar los resultados\n",
    "print(f\"Porcentaje de datos conservados en fuel_city: {porcentaje_fuel_city:.2f}%\")\n",
    "\n",
    "print(f\"Porcentaje de datos conservados en fuel_hwy: {porcentaje_fuel_hwy:.2f}%\")\n"
   ]
  },
  {
   "cell_type": "code",
   "execution_count": 36,
   "id": "4a89ac6c",
   "metadata": {},
   "outputs": [
    {
     "data": {
      "image/png": "[encoded data removed]",
      "text/plain": [
       "<Figure size 640x480 with 1 Axes>"
      ]
     },
     "metadata": {},
     "output_type": "display_data"
    }
   ],
   "source": [
    "plt.hist(fuel_city, bins = 40, color = \"skyblue\", alpha=0.5)\n",
    "plt.hist(fuel_city_filtrado, bins = 30, color = \"red\");"
   ]
  },
  {
   "cell_type": "code",
   "execution_count": 37,
   "id": "e4d3f070",
   "metadata": {},
   "outputs": [
    {
     "data": {
      "image/png": "[encoded data removed]",
      "text/plain": [
       "<Figure size 640x480 with 1 Axes>"
      ]
     },
     "metadata": {},
     "output_type": "display_data"
    }
   ],
   "source": [
    "plt.hist(fuel_hwy, bins = 40, color = \"skyblue\", alpha=0.5)\n",
    "plt.hist(fuel_hwy_filtrado, bins = 30, color = \"red\");"
   ]
  },
  {
   "cell_type": "markdown",
   "id": "d620e448",
   "metadata": {},
   "source": [
    "### Ejercicio 06:\n",
    "- Define una función que tome como parámetro un array y dibuje un plot. El plot debe tener:\n",
    "    - La distribución de los datos del array como un histograma de color verde pastel.\n",
    "    - Una línea vertical de color rojo que represente el promedio.\n",
    "    - Una línea vertical de color dorado que represente la mediana.\n",
    "    - Dos líneas verticales discontinuas de color gris claro que representen $-z$ y $z$.\n",
    "    - Dos líneas verticales discontinuas de color gris oscuro que representen $-3z$ y $3z$.\n",
    "    - Los outliers se tienen que marcar con un color naranja chillón.\n",
    "    \n",
    "- Aprovecha las funciones del ejercicio 1 y del ejercicio 3 para obtener los estadísticos necesarios y filtrar los outliers.\n",
    "- Guiate por los notebooks de teoría para cambiar el color de las gráficas y hacer las lineas verticales."
   ]
  },
  {
   "cell_type": "code",
   "execution_count": 41,
   "id": "2822ce59",
   "metadata": {},
   "outputs": [
    {
     "data": {
      "image/png": "[encoded data removed]",
      "text/plain": [
       "<Figure size 640x480 with 1 Axes>"
      ]
     },
     "metadata": {},
     "output_type": "display_data"
    }
   ],
   "source": [
    "\n",
    "def plot_data(array):\n",
    "    # Calcular estadísticos\n",
    "    media = np.mean(array)\n",
    "    mediana = np.median(array)\n",
    "    desviacion_estandar = np.std(array)\n",
    "    \n",
    "    # Filtrar outliers\n",
    "    outliers = array[(array < media - 3*desviacion_estandar) | (array > media + 3*desviacion_estandar)]\n",
    "    \n",
    "    # Crear el histograma\n",
    "    plt.hist(array, bins=30, color='palegreen', edgecolor='black')\n",
    "    \n",
    "    # Agregar líneas verticales\n",
    "    plt.axvline(media, color='red', linestyle='-', linewidth=2, label='Media')\n",
    "    plt.axvline(mediana, color='gold', linestyle='-', linewidth=2, label='Mediana')\n",
    "    plt.axvline(media + desviacion_estandar, color='lightgrey', linestyle='--', linewidth=2, label='+z')\n",
    "    plt.axvline(media - desviacion_estandar, color='lightgrey', linestyle='--', linewidth=2, label='-z')\n",
    "    plt.axvline(media + 3*desviacion_estandar, color='grey', linestyle='--', linewidth=2, label='+3z')\n",
    "    plt.axvline(media - 3*desviacion_estandar, color='grey', linestyle='--', linewidth=2, label='-3z')\n",
    "    \n",
    "    # Marcar los outliers\n",
    "    plt.scatter(outliers, np.zeros_like(outliers), color='orange', s=100, label='Outliers', zorder=5)\n",
    "    \n",
    "    # Agregar leyenda y título\n",
    "    plt.legend()\n",
    "    plt.title('Distribución de datos')\n",
    "    plt.xlabel('Valor')\n",
    "    plt.ylabel('Frecuencia')\n",
    "    \n",
    "    # Mostrar el gráfico\n",
    "    plt.show()\n",
    "\n",
    "# Ejemplo de uso\n",
    "plot_data(fuel_city)\n"
   ]
  },
  {
   "cell_type": "code",
   "execution_count": null,
   "id": "375daf80",
   "metadata": {},
   "outputs": [],
   "source": []
  },
  {
   "cell_type": "code",
   "execution_count": null,
   "id": "8da02181",
   "metadata": {},
   "outputs": [],
   "source": []
  },
  {
   "cell_type": "markdown",
   "id": "92312187",
   "metadata": {},
   "source": [
    "### Ejercicio 07:\n",
    "- Define una función que estandarice los datos de un array usando la siguiente fórmula:\n",
    "\n",
    "$$\n",
    "z = \\frac{x_{i} - \\overline{x}}{\\sigma_{x}} = \\frac{x_{i} - mean(x)}{std(x)}\n",
    "$$\n",
    "\n",
    "- Prueba estandarizar un array y hacer un plot usando la función del ejercicio anterior. ¿Qué diferencias ves?"
   ]
  },
  {
   "cell_type": "code",
   "execution_count": 42,
   "id": "2c20293e",
   "metadata": {},
   "outputs": [],
   "source": [
    "def estandarizar(array):\n",
    "    media = np.mean(array)\n",
    "    desviacion_estandar = np.std(array)\n",
    "    return (array - media) / desviacion_estandar\n"
   ]
  },
  {
   "cell_type": "code",
   "execution_count": 43,
   "id": "e27c2a4b",
   "metadata": {},
   "outputs": [],
   "source": [
    "def plot_data(array):\n",
    "    # Calcular estadísticos\n",
    "    media = np.mean(array)\n",
    "    mediana = np.median(array)\n",
    "    desviacion_estandar = np.std(array)\n",
    "    \n",
    "    z_scores = estandarizar(array)\n",
    "    \n",
    "    # Filtrar outliers\n",
    "    outliers = array[(z_scores < -3) | (z_scores > 3)]\n",
    "    \n",
    "    # Crear el histograma\n",
    "    plt.hist(array, bins=30, color='palegreen', edgecolor='black')\n",
    "    \n",
    "    # Agregar líneas verticales\n",
    "    plt.axvline(media, color='red', linestyle='-', linewidth=2, label='Media')\n",
    "    plt.axvline(mediana, color='gold', linestyle='-', linewidth=2, label='Mediana')\n",
    "    plt.axvline(media + desviacion_estandar, color='lightgrey', linestyle='--', linewidth=2, label='+z')\n",
    "    plt.axvline(media - desviacion_estandar, color='lightgrey', linestyle='--', linewidth=2, label='-z')\n",
    "    plt.axvline(media + 3*desviacion_estandar, color='grey', linestyle='--', linewidth=2, label='+3z')\n",
    "    plt.axvline(media - 3*desviacion_estandar, color='grey', linestyle='--', linewidth=2, label='-3z')\n",
    "    \n",
    "    # Marcar los outliers\n",
    "    plt.scatter(outliers, np.zeros_like(outliers), color='orange', s=100, label='Outliers', zorder=5)\n",
    "    \n",
    "    # Agregar leyenda y título\n",
    "    plt.legend()\n",
    "    plt.title('Distribución de datos')\n",
    "    plt.xlabel('Valor')\n",
    "    plt.ylabel('Frecuencia')\n",
    "    \n",
    "    # Mostrar el gráfico\n",
    "    plt.show()\n",
    "\n"
   ]
  },
  {
   "cell_type": "code",
   "execution_count": 44,
   "id": "08f390b7",
   "metadata": {
    "scrolled": true
   },
   "outputs": [
    {
     "data": {
      "image/png": "[encoded data removed]",
      "text/plain": [
       "<Figure size 640x480 with 1 Axes>"
      ]
     },
     "metadata": {},
     "output_type": "display_data"
    }
   ],
   "source": [
    "# Ejemplo de uso\n",
    "plot_data(fuel_city)"
   ]
  },
  {
   "cell_type": "markdown",
   "id": "c58e07c9",
   "metadata": {},
   "source": [
    "### Ejercicio 08:\n",
    "- Aplica una transformación de logaritmo neperiano (_**np.log**_) a los datos de **fuel_city** y **fuel_hwy** y vuelve a probar a usar la función del ejercicio 6.\n",
    "- ¿Cómo son ahora las distribuciones?\n",
    "- ¿Qué ocurre con los outliers?"
   ]
  },
  {
   "cell_type": "code",
   "execution_count": 45,
   "id": "d9e078e6",
   "metadata": {},
   "outputs": [],
   "source": [
    "# Aplicamos la transformación de logaritmo natural\n",
    "log_fuel_city = np.log(fuel_city)\n",
    "log_fuel_hwy = np.log(fuel_hwy)"
   ]
  },
  {
   "cell_type": "code",
   "execution_count": 48,
   "id": "8de23669",
   "metadata": {},
   "outputs": [],
   "source": [
    "# Definimos la función para graficar\n",
    "def plot_data(array, title):\n",
    "    # Calcular estadísticos\n",
    "    media = np.mean(array)\n",
    "    mediana = np.median(array)\n",
    "    desviacion_estandar = np.std(array)\n",
    "    \n",
    "    # Filtrar outliers\n",
    "    outliers = array[(array < media - 3*desviacion_estandar) | (array > media + 3*desviacion_estandar)]\n",
    "    \n",
    "    # Crear el histograma\n",
    "    plt.hist(array, bins=30, color='palegreen', edgecolor='black')\n",
    "    \n",
    "    # Agregar líneas verticales\n",
    "    plt.axvline(media, color='red', linestyle='-', linewidth=2, label='Media')\n",
    "    plt.axvline(mediana, color='gold', linestyle='-', linewidth=2, label='Mediana')\n",
    "    plt.axvline(media + desviacion_estandar, color='lightgrey', linestyle='--', linewidth=2, label='+z')\n",
    "    plt.axvline(media - desviacion_estandar, color='lightgrey', linestyle='--', linewidth=2, label='-z')\n",
    "    plt.axvline(media + 3*desviacion_estandar, color='grey', linestyle='--', linewidth=2, label='+3z')\n",
    "    plt.axvline(media - 3*desviacion_estandar, color='grey', linestyle='--', linewidth=2, label='-3z')\n",
    "    \n",
    "    # Marcar los outliers\n",
    "    plt.scatter(outliers, np.zeros_like(outliers), color='orange', s=100, label='Outliers', zorder=5)\n",
    "    \n",
    "    # Agregar leyenda y título\n",
    "    plt.legend()\n",
    "    plt.title(title)\n",
    "    plt.xlabel('Valor')\n",
    "    plt.ylabel('Frecuencia')\n",
    "    \n",
    "    # Mostrar el gráfico\n",
    "    plt.show()"
   ]
  },
  {
   "cell_type": "code",
   "execution_count": 49,
   "id": "7ae349fa",
   "metadata": {},
   "outputs": [
    {
     "data": {
      "image/png": "[encoded data removed]",
      "text/plain": [
       "<Figure size 640x480 with 1 Axes>"
      ]
     },
     "metadata": {},
     "output_type": "display_data"
    }
   ],
   "source": [
    "# Graficamos los datos transformados\n",
    "plot_data(log_fuel_city, 'Distribución de fuel_hwy (log)')"
   ]
  },
  {
   "cell_type": "code",
   "execution_count": 50,
   "id": "d6f0ddb4",
   "metadata": {},
   "outputs": [
    {
     "data": {
      "image/png": "[encoded data removed]",
      "text/plain": [
       "<Figure size 640x480 with 1 Axes>"
      ]
     },
     "metadata": {},
     "output_type": "display_data"
    }
   ],
   "source": [
    "# Graficamos los datos transformados\n",
    "plot_data(log_fuel_hwy, 'Distribución de fuel_hwy (log)')"
   ]
  },
  {
   "cell_type": "markdown",
   "id": "18fbbe24",
   "metadata": {},
   "source": [
    "### Ejercicio 09:\n",
    "- Defina una función que calcule la correlación entre dos arrays. Apoyate en las siguientes fórmulas:\n",
    "\n",
    "$$\n",
    "\\Large Cov(X, Y) = \\frac{\\sum_{i=1}^{n}(x_{i} - \\bar{x})(y_{i} - \\bar{y})}{n}\\\\\n",
    "$$\n",
    "\n",
    "<br>\n",
    "\n",
    "$$\n",
    "\\Large \\rho = \\frac{Cov(X, Y)}{\\sigma_{x}\\sigma_{y}}\n",
    "$$\n",
    "\n",
    "- Usa la función para calcular la correlación entre **fuel_city** y **fuel_hwy**.\n",
    "- Comprueba que funciona correctamente contrastando con el resultado de la función _**stats.pearsonr()**_."
   ]
  },
  {
   "cell_type": "code",
   "execution_count": 51,
   "id": "ff824254",
   "metadata": {},
   "outputs": [],
   "source": [
    "def calcular_correlacion(x, y):\n",
    "    # Calcular la media de x y y\n",
    "    media_x = np.mean(x)\n",
    "    media_y = np.mean(y)\n",
    "    \n",
    "    # Calcular la covarianza\n",
    "    covarianza = np.sum((x - media_x) * (y - media_y)) / len(x)\n",
    "    \n",
    "    # Calcular las desviaciones estándar de x y y\n",
    "    desviacion_x = np.std(x)\n",
    "    desviacion_y = np.std(y)\n",
    "    \n",
    "    # Calcular la correlación\n",
    "    correlacion = covarianza / (desviacion_x * desviacion_y)\n",
    "    \n",
    "    return correlacion"
   ]
  },
  {
   "cell_type": "code",
   "execution_count": 52,
   "id": "614ad95d",
   "metadata": {},
   "outputs": [
    {
     "name": "stdout",
     "output_type": "stream",
     "text": [
      "Correlación calculada manualmente: 0.9657182219820531\n",
      "Correlación calculada con scipy: 0.965718221982053\n"
     ]
    }
   ],
   "source": [
    "# Calcular la correlación usando la función definida\n",
    "correlacion_manual = calcular_correlacion(fuel_city, fuel_hwy)\n",
    "print(\"Correlación calculada manualmente:\", correlacion_manual)\n",
    "\n",
    "# Calcular la correlación usando scipy\n",
    "correlacion_scipy, _ = stats.pearsonr(fuel_city, fuel_hwy)\n",
    "print(\"Correlación calculada con scipy:\", correlacion_scipy)"
   ]
  },
  {
   "cell_type": "code",
   "execution_count": null,
   "id": "52292226",
   "metadata": {},
   "outputs": [],
   "source": []
  },
  {
   "cell_type": "markdown",
   "id": "43b83070",
   "metadata": {},
   "source": [
    "### Ejercicio 10:\n",
    "- Elige un array y toma 50 elementos aleatorios. Calcula las estadísticas para ese nuevo conjunto de datos.\n",
    "- ¿Son similares estos resultados a los obtenidos de la población total?"
   ]
  },
  {
   "cell_type": "code",
   "execution_count": 53,
   "id": "d4f15b0d",
   "metadata": {},
   "outputs": [
    {
     "name": "stdout",
     "output_type": "stream",
     "text": [
      "Población total - Media: 13.296532333645736 Mediana: 12.6 Desviación estándar: 4.099331004651009\n",
      "Muestra aleatoria - Media: 13.718000000000002 Mediana: 13.100000000000001 Desviación estándar: 4.147948408550906\n"
     ]
    }
   ],
   "source": [
    "\n",
    "# Tomamos una muestra aleatoria de 50 elementos\n",
    "muestra_aleatoria = np.random.choice(fuel_city, 50, replace=False)\n",
    "\n",
    "# Calculamos las estadísticas para la población total\n",
    "media_total = np.mean(fuel_city)\n",
    "mediana_total = np.median(fuel_city)\n",
    "desviacion_total = np.std(fuel_city)\n",
    "\n",
    "# Calculamos las estadísticas para la muestra aleatoria\n",
    "media_muestra = np.mean(muestra_aleatoria)\n",
    "mediana_muestra = np.median(muestra_aleatoria)\n",
    "desviacion_muestra = np.std(muestra_aleatoria)\n"
   ]
  },
  {
   "cell_type": "code",
   "execution_count": 57,
   "id": "a87da64b",
   "metadata": {},
   "outputs": [
    {
     "name": "stdout",
     "output_type": "stream",
     "text": [
      "Población total   : Media: 13.297, Mediana: 12.600, Desviación estándar: 4.099\n",
      "Muestra aleatoria : Media: 13.718, Mediana: 13.100, Desviación estándar: 4.148\n"
     ]
    }
   ],
   "source": [
    "# Imprimimos los resultados\n",
    "print(f'Población total   : Media: {media_total:.3f}, Mediana: {mediana_total:.3f}, Desviación estándar: {desviacion_total:.3f}')\n",
    "print(f'Muestra aleatoria : Media: {media_muestra:.3f}, Mediana: {mediana_muestra:.3f}, Desviación estándar: {desviacion_muestra:.3f}')\n"
   ]
  },
  {
   "cell_type": "markdown",
   "id": "9e6aec89",
   "metadata": {},
   "source": [
    "### Ejercicio 11:\n",
    "- Repite el ejercicio anterior, esta vez creando 5 conjuntos de 50 elementos aleatorios.\n",
    "    - Calcula las estadísticas para cada conjunto de 50 elementos, guarda estos datos.\n",
    "    - Calcula las estadísticas de los resultados anteriores.\n",
    "    - ¿Son similares estos datos con los obtenidos de la población total?\n",
    "    - Prueba hacerlo creando 100 conjuntos de 50 elementos esta vez."
   ]
  },
  {
   "cell_type": "code",
   "execution_count": 58,
   "id": "d8da7d8b",
   "metadata": {},
   "outputs": [
    {
     "name": "stdout",
     "output_type": "stream",
     "text": [
      "Estadísticas de los 5 conjuntos:\n",
      "Conjunto 1: {'minimo': np.float64(6.6), 'maximo': np.float64(20.6), 'media': np.float64(12.27), 'Q1': np.float64(9.325000000000001), 'Q2': np.float64(11.5), 'Q3': np.float64(14.675), 'rango_intercuartil': np.float64(5.35), 'desviacion_estandar': np.float64(3.560407280073447)}\n",
      "Conjunto 2: {'minimo': np.float64(7.8), 'maximo': np.float64(24.5), 'media': np.float64(13.132), 'Q1': np.float64(10.25), 'Q2': np.float64(12.4), 'Q3': np.float64(14.675), 'rango_intercuartil': np.float64(4.425000000000001), 'desviacion_estandar': np.float64(3.9583552139746123)}\n",
      "Conjunto 3: {'minimo': np.float64(6.0), 'maximo': np.float64(25.3), 'media': np.float64(13.624), 'Q1': np.float64(10.425), 'Q2': np.float64(13.5), 'Q3': np.float64(15.375), 'rango_intercuartil': np.float64(4.949999999999999), 'desviacion_estandar': np.float64(4.255375894089734)}\n",
      "Conjunto 4: {'minimo': np.float64(4.7), 'maximo': np.float64(30.2), 'media': np.float64(13.725999999999999), 'Q1': np.float64(10.6), 'Q2': np.float64(13.3), 'Q3': np.float64(15.55), 'rango_intercuartil': np.float64(4.950000000000001), 'desviacion_estandar': np.float64(4.646840216749442)}\n",
      "Conjunto 5: {'minimo': np.float64(6.0), 'maximo': np.float64(25.0), 'media': np.float64(13.362), 'Q1': np.float64(10.325000000000001), 'Q2': np.float64(12.45), 'Q3': np.float64(15.85), 'rango_intercuartil': np.float64(5.524999999999999), 'desviacion_estandar': np.float64(4.307987465162823)}\n"
     ]
    }
   ],
   "source": [
    "\n",
    "# Crear 5 conjuntos de 50 elementos aleatorios y calcular estadísticas\n",
    "estadisticas_5_conjuntos = []\n",
    "for _ in range(5):\n",
    "    muestra = np.random.choice(fuel_city, 50, replace=False)\n",
    "    estadisticas_5_conjuntos.append(estadisticos(muestra))\n",
    "\n",
    "# Imprimir las estadísticas de los 5 conjuntos\n",
    "print(\"Estadísticas de los 5 conjuntos:\")\n",
    "for i, estadisticas in enumerate(estadisticas_5_conjuntos, 1):\n",
    "    print(f\"Conjunto {i}: {estadisticas}\")\n",
    "\n",
    "# Calcular estadísticas de los resultados anteriores\n",
    "medias_5 = [e['media'] for e in estadisticas_5_conjuntos]\n",
    "medianas_5 = [e['Q2'] for e in estadisticas_5_conjuntos]\n",
    "desviaciones_5 = [e['desviacion_estandar'] for e in estadisticas_5_conjuntos]\n",
    "\n",
    "media_de_medias_5 = np.mean(medias_5)\n",
    "mediana_de_medianas_5 = np.median(medianas_5)\n",
    "desviacion_de_desviaciones_5 = np.mean(desviaciones_5)\n",
    "\n"
   ]
  },
  {
   "cell_type": "code",
   "execution_count": 60,
   "id": "abf3e30d",
   "metadata": {},
   "outputs": [
    {
     "name": "stdout",
     "output_type": "stream",
     "text": [
      "Media de medias (5 conjuntos): 13.222800000000001\n",
      "Mediana de medianas (5 conjuntos): 12.45\n",
      "Desviación de desviaciones (5 conjuntos): 4.145793214010011\n"
     ]
    }
   ],
   "source": [
    "print(f'Media de medias (5 conjuntos): {media_de_medias_5}')\n",
    "print(f'Mediana de medianas (5 conjuntos): {mediana_de_medianas_5}')\n",
    "print(f'Desviación de desviaciones (5 conjuntos): {desviacion_de_desviaciones_5}')"
   ]
  },
  {
   "cell_type": "code",
   "execution_count": 61,
   "id": "281e60f9",
   "metadata": {},
   "outputs": [
    {
     "name": "stdout",
     "output_type": "stream",
     "text": [
      "\n",
      "Estadísticas de los 100 conjuntos (muestra de los primeros 5):\n",
      "Conjunto 1: {'minimo': np.float64(6.6), 'maximo': np.float64(30.0), 'media': np.float64(13.137999999999998), 'Q1': np.float64(9.850000000000001), 'Q2': np.float64(11.9), 'Q3': np.float64(14.5), 'rango_intercuartil': np.float64(4.649999999999999), 'desviacion_estandar': np.float64(4.876018457717321)}\n",
      "Conjunto 2: {'minimo': np.float64(5.8), 'maximo': np.float64(25.5), 'media': np.float64(12.772), 'Q1': np.float64(9.75), 'Q2': np.float64(12.1), 'Q3': np.float64(14.375), 'rango_intercuartil': np.float64(4.625), 'desviacion_estandar': np.float64(4.280889627168633)}\n",
      "Conjunto 3: {'minimo': np.float64(5.6), 'maximo': np.float64(30.2), 'media': np.float64(13.671999999999999), 'Q1': np.float64(10.0), 'Q2': np.float64(12.9), 'Q3': np.float64(16.55), 'rango_intercuartil': np.float64(6.550000000000001), 'desviacion_estandar': np.float64(4.844999071207341)}\n",
      "Conjunto 4: {'minimo': np.float64(7.2), 'maximo': np.float64(26.7), 'media': np.float64(13.261999999999999), 'Q1': np.float64(10.575), 'Q2': np.float64(12.45), 'Q3': np.float64(15.3), 'rango_intercuartil': np.float64(4.725000000000001), 'desviacion_estandar': np.float64(4.143857623036776)}\n",
      "Conjunto 5: {'minimo': np.float64(5.5), 'maximo': np.float64(21.5), 'media': np.float64(13.17), 'Q1': np.float64(10.5), 'Q2': np.float64(12.2), 'Q3': np.float64(16.175), 'rango_intercuartil': np.float64(5.675000000000001), 'desviacion_estandar': np.float64(3.974682377247269)}\n"
     ]
    }
   ],
   "source": [
    "# Ahora, repitamos el proceso para 100 conjuntos\n",
    "estadisticas_100_conjuntos = []\n",
    "for _ in range(100):\n",
    "    muestra = np.random.choice(fuel_city, 50, replace=False)\n",
    "    estadisticas_100_conjuntos.append(estadisticos(muestra))\n",
    "\n",
    "# Imprimir algunas estadísticas de los 100 conjuntos (solo las primeras 5 para no sobrecargar la salida)\n",
    "print(\"\\nEstadísticas de los 100 conjuntos (muestra de los primeros 5):\")\n",
    "for i, estadisticas in enumerate(estadisticas_100_conjuntos[:5], 1):\n",
    "    print(f\"Conjunto {i}: {estadisticas}\")\n",
    "\n",
    "# Calcular estadísticas de los resultados anteriores\n",
    "medias_100 = [e['media'] for e in estadisticas_100_conjuntos]\n",
    "medianas_100 = [e['Q2'] for e in estadisticas_100_conjuntos]\n",
    "desviaciones_100 = [e['desviacion_estandar'] for e in estadisticas_100_conjuntos]\n",
    "\n",
    "media_de_medias_100 = np.mean(medias_100)\n",
    "mediana_de_medianas_100 = np.median(medianas_100)\n",
    "desviacion_de_desviaciones_100 = np.mean(desviaciones_100)\n",
    "\n"
   ]
  },
  {
   "cell_type": "code",
   "execution_count": 62,
   "id": "e8fb1bf2",
   "metadata": {},
   "outputs": [
    {
     "name": "stdout",
     "output_type": "stream",
     "text": [
      "Media de medias (100 conjuntos): 13.26442\n",
      "Mediana de medianas (100 conjuntos): 12.525\n",
      "Desviación de desviaciones (100 conjuntos): 4.104663249699829\n"
     ]
    }
   ],
   "source": [
    "print(f'Media de medias (100 conjuntos): {media_de_medias_100}')\n",
    "print(f'Mediana de medianas (100 conjuntos): {mediana_de_medianas_100}')\n",
    "print(f'Desviación de desviaciones (100 conjuntos): {desviacion_de_desviaciones_100}')\n"
   ]
  },
  {
   "cell_type": "markdown",
   "id": "df5757a4-047e-4a49-ab47-1e53acf29dac",
   "metadata": {},
   "source": [
    "### Ejercicio 12:\n",
    "- Realiza un contraste de hipótesis y comprueba si se gasta más combustible en la ciudad que en la autovía.\n",
    "    - **fuel_city**: gasto en ciudad\n",
    "    - **fuel_hwy**: gasto en autovía\n",
    "    - $H_0$: el gasto de combustible en la ciudad es igual o menor al gasto en la autovía.\n",
    "    - $H_1$: el gasto de combustible en la ciudad es mayor al gasto en la autovía.\n",
    "    \n",
    "_**Pista**: hay que aplicar una prueba **t de Student** para **muestras pareadas** `stats.ttest_rel()`, o una prueba **Wilcoxon** para **muestras pareadas** `stats.wilcoxon()`, dependiendo de si se cumplen los supuestos de normalidad y homogeneidad de varianzas. Pueden especificar el parámetro `alternative` con el argumento `\"greater\"` para un contraste de tipo `a>b`._"
   ]
  },
  {
   "cell_type": "code",
   "execution_count": 78,
   "id": "79e2688a",
   "metadata": {},
   "outputs": [],
   "source": [
    "alpha = 0.05"
   ]
  },
  {
   "cell_type": "code",
   "execution_count": 68,
   "id": "1ac48782",
   "metadata": {},
   "outputs": [
    {
     "name": "stdout",
     "output_type": "stream",
     "text": [
      "Prueba de normalidad para fuel_city: 6.448140852748941e-29\n",
      "Prueba de normalidad para fuel_hwy: 1.7367717953636e-50\n"
     ]
    }
   ],
   "source": [
    "# Verificamos los supuestos de normalidad con la \n",
    "_, p_city = stats.normaltest(fuel_city)\n",
    "_, p_hwy = stats.normaltest(fuel_hwy)\n",
    "\n",
    "print(f'Prueba de normalidad para fuel_city: {p_city}')\n",
    "print(f'Prueba de normalidad para fuel_hwy: {p_hwy}')\n"
   ]
  },
  {
   "cell_type": "code",
   "execution_count": 74,
   "id": "b234845d",
   "metadata": {},
   "outputs": [
    {
     "name": "stdout",
     "output_type": "stream",
     "text": [
      "Prueba de Shapiro-Wilk para fuel_city: 3.2304429584468415e-18\n",
      "\"Prueba de Shapiro-Wilk para fuel_hwy: 1.2584578635372469e-24\n"
     ]
    }
   ],
   "source": [
    "# Verificamos los supuestos de normalidad con la prueba de Shapiro-Wilk ver\n",
    "_,p_city = stats.shapiro(fuel_city)\n",
    "_,p_hwy = stats.shapiro(fuel_hwy)\n",
    "\n",
    "print(f'Prueba de Shapiro-Wilk para fuel_city: {p_city}')\n",
    "print(f'\"Prueba de Shapiro-Wilk para fuel_hwy: {p_hwy}')\n",
    "\n"
   ]
  },
  {
   "cell_type": "code",
   "execution_count": 72,
   "id": "630480b4",
   "metadata": {},
   "outputs": [
    {
     "name": "stdout",
     "output_type": "stream",
     "text": [
      "Prueba de Levene: 1.6747842967728482e-25\n"
     ]
    }
   ],
   "source": [
    "# Verificamos la homogeneidad de varianzas con la prueba de Levene\n",
    "_,p_var = stats.levene(fuel_city, fuel_hwy)\n",
    "print(f'Prueba de Levene: {p_var}')\n",
    "\n"
   ]
  },
  {
   "cell_type": "code",
   "execution_count": 81,
   "id": "d5ef88d3",
   "metadata": {},
   "outputs": [
    {
     "name": "stdout",
     "output_type": "stream",
     "text": [
      "Prueba de Wilcoxon para muestras pareadas: 2.9678958260437154e-176\n",
      "H1 VERDADERO - Hay diferencias significativas entre el consumo en ciudad y en autovía Rechazamos la hipótesis nula\n"
     ]
    }
   ],
   "source": [
    "# Si ambas distribuciones son normales y las varianzas son homogéneas, usamos t de Student\n",
    "# Si no, usamos Wilcoxon\n",
    "suposiciones = p_city > alpha and p_hwy > alpha and p_var > alpha\n",
    "\n",
    "\n",
    "if suposiciones:\n",
    "    # prueba parametrica\n",
    "    _,p_consumo = stats.ttest_rel(fuel_city, fuel_hwy, alternative='greater')\n",
    "    print(\"Prueba t de Student para muestras pareadas:\", p_consumo)\n",
    "else:\n",
    "    # prueba no parametrica\n",
    "    _,p_consumo = stats.wilcoxon(fuel_city, fuel_hwy, alternative='greater')\n",
    "    print(\"Prueba de Wilcoxon para muestras pareadas:\", p_consumo)\n",
    "    \n",
    "if p_consumo < alpha:\n",
    "    print(\"H1 VERDADERO - Hay diferencias significativas entre el consumo en ciudad y en autovía Rechazamos la hipótesis nula\")\n",
    "else:\n",
    "    print(\"H0 VERDADERO - No hay diferencias significativas entre el consumo en ciudad y en autovía No rechazamos la hipótesis nula\")"
   ]
  },
  {
   "cell_type": "code",
   "execution_count": null,
   "id": "b8339f79",
   "metadata": {},
   "outputs": [],
   "source": []
  },
  {
   "cell_type": "code",
   "execution_count": null,
   "id": "767e21c0",
   "metadata": {},
   "outputs": [],
   "source": []
  },
  {
   "cell_type": "code",
   "execution_count": null,
   "id": "6dcfe91f",
   "metadata": {},
   "outputs": [],
   "source": []
  },
  {
   "cell_type": "code",
   "execution_count": null,
   "id": "8efa5c5d",
   "metadata": {
    "tags": []
   },
   "outputs": [],
   "source": [
    "##############################################################################################################################"
   ]
  }
 ],
 "metadata": {
  "kernelspec": {
   "display_name": "Python 3",
   "language": "python",
   "name": "python3"
  },
  "language_info": {
   "codemirror_mode": {
    "name": "ipython",
    "version": 3
   },
   "file_extension": ".py",
   "mimetype": "text/x-python",
   "name": "python",
   "nbconvert_exporter": "python",
   "pygments_lexer": "ipython3",
   "version": "3.13.1"
  }
 },
 "nbformat": 4,
 "nbformat_minor": 5
}
