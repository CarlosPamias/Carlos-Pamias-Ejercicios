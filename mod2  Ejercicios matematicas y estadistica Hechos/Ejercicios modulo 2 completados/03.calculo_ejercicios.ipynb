{
 "cells": [
  {
   "cell_type": "markdown",
   "id": "d8dae965-3470-4b4f-8274-93fddc43dc44",
   "metadata": {},
   "source": [
    "## Ejercicios - Cálculo Diferencial"
   ]
  },
  {
   "cell_type": "code",
   "execution_count": 3,
   "id": "04e4fedf-520c-403e-9c37-29bd074fe8bf",
   "metadata": {
    "tags": []
   },
   "outputs": [],
   "source": [
    "import numpy as np\n",
    "import matplotlib\n",
    "import matplotlib.pyplot as plt"
   ]
  },
  {
   "cell_type": "code",
   "execution_count": 4,
   "id": "9b68b171-d3ec-48e4-9ba7-3da5ac3fb801",
   "metadata": {
    "tags": []
   },
   "outputs": [
    {
     "name": "stdout",
     "output_type": "stream",
     "text": [
      "numpy==2.2.0\n",
      "matplotlib==3.10.0\n"
     ]
    }
   ],
   "source": [
    "# Versiones\n",
    "\n",
    "print(f\"numpy=={np.__version__}\")\n",
    "print(f\"matplotlib=={matplotlib.__version__}\")"
   ]
  },
  {
   "cell_type": "markdown",
   "id": "4f7153d8-720d-4dba-8325-d852fa6d9615",
   "metadata": {},
   "source": [
    "### Ejercicio 1:\n",
    "\n",
    "- Define una función en Python, llamala _**python_sqrt**_, esta función debe recibir un valor $x$ y retornar la raíz cuadrada de $x$.\n",
    "$$f(x) = \\sqrt[]{x}$$\n",
    "\n",
    "- Define una función en Python, llamala _**derivada_sqrt**_, esta función debe de recibir un valor $a$ y debe de tener como parámetro por defecto $h = 0.0000001$, debe retornar la derivada de $f(x)$ en el punto $a$. Usa la función _**python_sqrt**_ creada en el punto anterior.\n",
    "\n",
    "$$\n",
    "\\large f'(x) = \\frac{dy}{dx} = \\lim_{h \\to 0} \\frac{f(x + h) - f(x)}{h}\n",
    "$$\n",
    "\n",
    "- Calcula la derivada para los números del 1 al 100."
   ]
  },
  {
   "cell_type": "code",
   "execution_count": 5,
   "id": "67bf4e2b-257d-447f-8a5c-472f303f6688",
   "metadata": {},
   "outputs": [],
   "source": [
    "\n",
    "def python_sqrt(x):\n",
    "    return np.sqrt(x)\n"
   ]
  },
  {
   "cell_type": "code",
   "execution_count": 6,
   "id": "d827f3b5",
   "metadata": {},
   "outputs": [],
   "source": [
    "\n",
    "def derivada_sqrt(a, h=0.0000001):\n",
    "    return (python_sqrt(a + h) - python_sqrt(a)) / h\n",
    "\n"
   ]
  },
  {
   "cell_type": "code",
   "execution_count": 7,
   "id": "f23ea191",
   "metadata": {},
   "outputs": [
    {
     "name": "stdout",
     "output_type": "stream",
     "text": [
      "Derivada de sqrt en el punto 1: 0.4999999880794803\n",
      "Derivada de sqrt en el punto 2: 0.3535533843468386\n",
      "Derivada de sqrt en el punto 3: 0.288675132686933\n",
      "Derivada de sqrt en el punto 4: 0.24999999848063226\n",
      "Derivada de sqrt en el punto 5: 0.22360679530208927\n",
      "Derivada de sqrt en el punto 6: 0.20412414869497297\n",
      "Derivada de sqrt en el punto 7: 0.18898223430596772\n",
      "Derivada de sqrt en el punto 8: 0.17677669106319627\n",
      "Derivada de sqrt en el punto 9: 0.1666666671340522\n",
      "Derivada de sqrt en el punto 10: 0.15811387754638417\n",
      "Derivada de sqrt en el punto 11: 0.15075567016964442\n",
      "Derivada de sqrt en el punto 12: 0.14433756856391255\n",
      "Derivada de sqrt en el punto 13: 0.13867504922160379\n",
      "Derivada de sqrt en el punto 14: 0.13363062212334853\n",
      "Derivada de sqrt en el punto 15: 0.1290994422475933\n",
      "Derivada de sqrt en el punto 16: 0.12500000146076218\n",
      "Derivada de sqrt en el punto 17: 0.12126781356869287\n",
      "Derivada de sqrt en el punto 18: 0.11785113329665364\n",
      "Derivada de sqrt en el punto 19: 0.1147078609875507\n",
      "Derivada de sqrt en el punto 20: 0.11180340209193673\n",
      "Derivada de sqrt en el punto 21: 0.10910894410187666\n",
      "Derivada de sqrt en el punto 22: 0.10660035520970723\n",
      "Derivada de sqrt en el punto 23: 0.10425721619355954\n",
      "Derivada de sqrt en el punto 24: 0.10206207434748649\n",
      "Derivada de sqrt en el punto 25: 0.0999999993922529\n",
      "Derivada de sqrt en el punto 26: 0.09805806833185216\n",
      "Derivada de sqrt en el punto 27: 0.09622504570927504\n",
      "Derivada de sqrt en el punto 28: 0.09449111715298386\n",
      "Derivada de sqrt en el punto 29: 0.09284767621409173\n",
      "Derivada de sqrt en el punto 30: 0.09128709343997343\n",
      "Derivada de sqrt en el punto 31: 0.08980265420177602\n",
      "Derivada de sqrt en el punto 32: 0.08838834553159813\n",
      "Derivada de sqrt en el punto 33: 0.08703882947713737\n",
      "Derivada de sqrt en el punto 34: 0.08574929211135895\n",
      "Derivada de sqrt en el punto 35: 0.08451542576892734\n",
      "Derivada de sqrt en el punto 36: 0.08333333134658005\n",
      "Derivada de sqrt en el punto 37: 0.08219950053955927\n",
      "Derivada de sqrt en el punto 38: 0.08111071814198567\n",
      "Derivada de sqrt en el punto 39: 0.08006407981042685\n",
      "Derivada de sqrt en el punto 40: 0.07905693877319209\n",
      "Derivada de sqrt en el punto 41: 0.07808687918497981\n",
      "Derivada de sqrt en el punto 42: 0.07715167171795656\n",
      "Derivada de sqrt en el punto 43: 0.07624929132532543\n",
      "Derivada de sqrt en el punto 44: 0.07537783730526826\n",
      "Derivada de sqrt en el punto 45: 0.07453559547343502\n",
      "Derivada de sqrt en el punto 46: 0.07372097599045446\n",
      "Derivada de sqrt en el punto 47: 0.07293249559836568\n",
      "Derivada de sqrt en el punto 48: 0.07216878650240233\n",
      "Derivada de sqrt en el punto 49: 0.07142856972564005\n",
      "Derivada de sqrt en el punto 50: 0.07071067287256483\n",
      "Derivada de sqrt en el punto 51: 0.07001400348372044\n",
      "Derivada de sqrt en el punto 52: 0.06933753127214004\n",
      "Derivada de sqrt en el punto 53: 0.06868028812334614\n",
      "Derivada de sqrt en el punto 54: 0.06804137697713486\n",
      "Derivada de sqrt en el punto 55: 0.06741998959114426\n",
      "Derivada de sqrt en el punto 56: 0.06681530884122822\n",
      "Derivada de sqrt en el punto 57: 0.06622661530286678\n",
      "Derivada de sqrt en el punto 58: 0.06565321619689257\n",
      "Derivada de sqrt en el punto 59: 0.06509446315305922\n",
      "Derivada de sqrt en el punto 60: 0.06454971668290455\n",
      "Derivada de sqrt en el punto 61: 0.06401844387937672\n",
      "Derivada de sqrt en el punto 62: 0.06350006742650294\n",
      "Derivada de sqrt en el punto 63: 0.06299407218079978\n",
      "Derivada de sqrt en el punto 64: 0.06249999628948899\n",
      "Derivada de sqrt en el punto 65: 0.06201736013622394\n",
      "Derivada de sqrt en el punto 66: 0.061545737395363176\n",
      "Derivada de sqrt en el punto 67: 0.06108471950483363\n",
      "Derivada de sqrt en el punto 68: 0.06063389790256224\n",
      "Derivada de sqrt en el punto 69: 0.06019291731718113\n",
      "Derivada de sqrt en el punto 70: 0.05976142247732241\n",
      "Derivada de sqrt en el punto 71: 0.05933907587518661\n",
      "Derivada de sqrt en el punto 72: 0.05892557553011102\n",
      "Derivada de sqrt en el punto 73: 0.058520583934296155\n",
      "Derivada de sqrt en el punto 74: 0.058123816870647715\n",
      "Derivada de sqrt en el punto 75: 0.05773500788563979\n",
      "Derivada de sqrt en el punto 76: 0.05735392605288325\n",
      "Derivada de sqrt en el punto 77: 0.056980287155283804\n",
      "Derivada de sqrt en el punto 78: 0.056613842502883926\n",
      "Derivada de sqrt en el punto 79: 0.056254396696431286\n",
      "Derivada de sqrt en el punto 80: 0.05590168328239997\n",
      "Derivada de sqrt en el punto 81: 0.05555556015224283\n",
      "Derivada de sqrt en el punto 82: 0.05521576085243396\n",
      "Derivada de sqrt en el punto 83: 0.054882125510857804\n",
      "Derivada de sqrt en el punto 84: 0.05455447649183043\n",
      "Derivada de sqrt en el punto 85: 0.0542326183960995\n",
      "Derivada de sqrt en el punto 86: 0.05391637358798107\n",
      "Derivada de sqrt en el punto 87: 0.05360561772249639\n",
      "Derivada de sqrt en el punto 88: 0.05330017316396152\n",
      "Derivada de sqrt en el punto 89: 0.0529998978038293\n",
      "Derivada de sqrt en el punto 90: 0.05270463176998419\n",
      "Derivada de sqrt en el punto 91: 0.05241425071744743\n",
      "Derivada de sqrt en el punto 92: 0.05212861253767187\n",
      "Derivada de sqrt en el punto 93: 0.051847575122110356\n",
      "Derivada de sqrt en el punto 94: 0.05157104965292092\n",
      "Derivada de sqrt en el punto 95: 0.051298929548693195\n",
      "Derivada de sqrt en el punto 96: 0.05103103717374324\n",
      "Derivada de sqrt en el punto 97: 0.05076731923736588\n",
      "Derivada de sqrt en el punto 98: 0.050507615867445566\n",
      "Derivada de sqrt en el punto 99: 0.050251891536845505\n",
      "Derivada de sqrt en el punto 100: 0.05000000413701855\n"
     ]
    }
   ],
   "source": [
    "# Guardar las derivadas en una lista\n",
    "derivadas = []\n",
    "\n",
    "for i in range(1, 101):\n",
    "    derivada = derivada_sqrt(i)\n",
    "    derivadas.append(derivada)\n",
    "\n",
    "# Mostrar las derivadas guardadas en la lista\n",
    "for i, derivada in enumerate(derivadas, start=1):\n",
    "    print(f\"Derivada de sqrt en el punto {i}: {derivada}\")\n",
    "\n"
   ]
  },
  {
   "cell_type": "markdown",
   "id": "78be2e17-6967-41b8-8689-45b0287244dd",
   "metadata": {},
   "source": [
    "### Ejercicio 2:\n",
    "\n",
    "- Define una función en Python, llamala _**recta_tangente**_, esta función debe recibir un valor $a$ y retornar:\n",
    "    - El punto $a$.\n",
    "    - El punto $a$ evaluado en la función $f(x)$. En otras palabras, debe retornar $f(a)$.\n",
    "    - La derivada de $f(x)$ en $a$. En decir $f'(a)$.\n",
    "\n",
    "$$y = f'(a)\\cdot(x - a) + f(a)$$\n",
    "\n",
    "- Prueba la función con los números del 1 al 10.\n",
    "\n",
    "La función retornará los elementos necesarios para calcular la recta, no la recta en si.\n",
    "\n",
    "Usaremos $f(x) = \\sqrt[]{x}$, para reutilizar las funciones del ejercicio anterior."
   ]
  },
  {
   "cell_type": "code",
   "execution_count": 8,
   "id": "c4b722ce-86da-48c8-9026-8e78b52413ba",
   "metadata": {},
   "outputs": [],
   "source": [
    "\n",
    "def recta_tangente(a):\n",
    "    f_a = python_sqrt(a)\n",
    "    f_prime_a = derivada_sqrt(a)\n",
    "    return a, f_a, f_prime_a\n"
   ]
  },
  {
   "cell_type": "code",
   "execution_count": 9,
   "id": "46febc22-f564-47a7-b42e-e209f0e91d84",
   "metadata": {},
   "outputs": [
    {
     "name": "stdout",
     "output_type": "stream",
     "text": [
      "a = 1, f(a) = 1.0, f'(a) = 0.4999999880794803\n",
      "a = 2, f(a) = 1.4142135623730951, f'(a) = 0.3535533843468386\n",
      "a = 3, f(a) = 1.7320508075688772, f'(a) = 0.288675132686933\n",
      "a = 4, f(a) = 2.0, f'(a) = 0.24999999848063226\n",
      "a = 5, f(a) = 2.23606797749979, f'(a) = 0.22360679530208927\n",
      "a = 6, f(a) = 2.449489742783178, f'(a) = 0.20412414869497297\n",
      "a = 7, f(a) = 2.6457513110645907, f'(a) = 0.18898223430596772\n",
      "a = 8, f(a) = 2.8284271247461903, f'(a) = 0.17677669106319627\n",
      "a = 9, f(a) = 3.0, f'(a) = 0.1666666671340522\n",
      "a = 10, f(a) = 3.1622776601683795, f'(a) = 0.15811387754638417\n",
      "a = 11, f(a) = 3.3166247903554, f'(a) = 0.15075567016964442\n",
      "a = 12, f(a) = 3.4641016151377544, f'(a) = 0.14433756856391255\n",
      "a = 13, f(a) = 3.605551275463989, f'(a) = 0.13867504922160379\n",
      "a = 14, f(a) = 3.7416573867739413, f'(a) = 0.13363062212334853\n",
      "a = 15, f(a) = 3.872983346207417, f'(a) = 0.1290994422475933\n",
      "a = 16, f(a) = 4.0, f'(a) = 0.12500000146076218\n",
      "a = 17, f(a) = 4.123105625617661, f'(a) = 0.12126781356869287\n",
      "a = 18, f(a) = 4.242640687119285, f'(a) = 0.11785113329665364\n",
      "a = 19, f(a) = 4.358898943540674, f'(a) = 0.1147078609875507\n",
      "a = 20, f(a) = 4.47213595499958, f'(a) = 0.11180340209193673\n",
      "a = 21, f(a) = 4.58257569495584, f'(a) = 0.10910894410187666\n",
      "a = 22, f(a) = 4.69041575982343, f'(a) = 0.10660035520970723\n",
      "a = 23, f(a) = 4.795831523312719, f'(a) = 0.10425721619355954\n",
      "a = 24, f(a) = 4.898979485566356, f'(a) = 0.10206207434748649\n",
      "a = 25, f(a) = 5.0, f'(a) = 0.0999999993922529\n",
      "a = 26, f(a) = 5.0990195135927845, f'(a) = 0.09805806833185216\n",
      "a = 27, f(a) = 5.196152422706632, f'(a) = 0.09622504570927504\n",
      "a = 28, f(a) = 5.291502622129181, f'(a) = 0.09449111715298386\n",
      "a = 29, f(a) = 5.385164807134504, f'(a) = 0.09284767621409173\n",
      "a = 30, f(a) = 5.477225575051661, f'(a) = 0.09128709343997343\n",
      "a = 31, f(a) = 5.5677643628300215, f'(a) = 0.08980265420177602\n",
      "a = 32, f(a) = 5.656854249492381, f'(a) = 0.08838834553159813\n",
      "a = 33, f(a) = 5.744562646538029, f'(a) = 0.08703882947713737\n",
      "a = 34, f(a) = 5.830951894845301, f'(a) = 0.08574929211135895\n",
      "a = 35, f(a) = 5.916079783099616, f'(a) = 0.08451542576892734\n",
      "a = 36, f(a) = 6.0, f'(a) = 0.08333333134658005\n",
      "a = 37, f(a) = 6.082762530298219, f'(a) = 0.08219950053955927\n",
      "a = 38, f(a) = 6.164414002968976, f'(a) = 0.08111071814198567\n",
      "a = 39, f(a) = 6.244997998398398, f'(a) = 0.08006407981042685\n",
      "a = 40, f(a) = 6.324555320336759, f'(a) = 0.07905693877319209\n",
      "a = 41, f(a) = 6.4031242374328485, f'(a) = 0.07808687918497981\n",
      "a = 42, f(a) = 6.48074069840786, f'(a) = 0.07715167171795656\n",
      "a = 43, f(a) = 6.557438524302, f'(a) = 0.07624929132532543\n",
      "a = 44, f(a) = 6.6332495807108, f'(a) = 0.07537783730526826\n",
      "a = 45, f(a) = 6.708203932499369, f'(a) = 0.07453559547343502\n",
      "a = 46, f(a) = 6.782329983125268, f'(a) = 0.07372097599045446\n",
      "a = 47, f(a) = 6.855654600401044, f'(a) = 0.07293249559836568\n",
      "a = 48, f(a) = 6.928203230275509, f'(a) = 0.07216878650240233\n",
      "a = 49, f(a) = 7.0, f'(a) = 0.07142856972564005\n",
      "a = 50, f(a) = 7.0710678118654755, f'(a) = 0.07071067287256483\n",
      "a = 51, f(a) = 7.14142842854285, f'(a) = 0.07001400348372044\n",
      "a = 52, f(a) = 7.211102550927978, f'(a) = 0.06933753127214004\n",
      "a = 53, f(a) = 7.280109889280518, f'(a) = 0.06868028812334614\n",
      "a = 54, f(a) = 7.3484692283495345, f'(a) = 0.06804137697713486\n",
      "a = 55, f(a) = 7.416198487095663, f'(a) = 0.06741998959114426\n",
      "a = 56, f(a) = 7.483314773547883, f'(a) = 0.06681530884122822\n",
      "a = 57, f(a) = 7.54983443527075, f'(a) = 0.06622661530286678\n",
      "a = 58, f(a) = 7.615773105863909, f'(a) = 0.06565321619689257\n",
      "a = 59, f(a) = 7.681145747868608, f'(a) = 0.06509446315305922\n",
      "a = 60, f(a) = 7.745966692414834, f'(a) = 0.06454971668290455\n",
      "a = 61, f(a) = 7.810249675906654, f'(a) = 0.06401844387937672\n",
      "a = 62, f(a) = 7.874007874011811, f'(a) = 0.06350006742650294\n",
      "a = 63, f(a) = 7.937253933193772, f'(a) = 0.06299407218079978\n",
      "a = 64, f(a) = 8.0, f'(a) = 0.06249999628948899\n",
      "a = 65, f(a) = 8.06225774829855, f'(a) = 0.06201736013622394\n",
      "a = 66, f(a) = 8.12403840463596, f'(a) = 0.061545737395363176\n",
      "a = 67, f(a) = 8.18535277187245, f'(a) = 0.06108471950483363\n",
      "a = 68, f(a) = 8.246211251235321, f'(a) = 0.06063389790256224\n",
      "a = 69, f(a) = 8.306623862918075, f'(a) = 0.06019291731718113\n",
      "a = 70, f(a) = 8.366600265340756, f'(a) = 0.05976142247732241\n",
      "a = 71, f(a) = 8.426149773176359, f'(a) = 0.05933907587518661\n",
      "a = 72, f(a) = 8.48528137423857, f'(a) = 0.05892557553011102\n",
      "a = 73, f(a) = 8.54400374531753, f'(a) = 0.058520583934296155\n",
      "a = 74, f(a) = 8.602325267042627, f'(a) = 0.058123816870647715\n",
      "a = 75, f(a) = 8.660254037844387, f'(a) = 0.05773500788563979\n",
      "a = 76, f(a) = 8.717797887081348, f'(a) = 0.05735392605288325\n",
      "a = 77, f(a) = 8.774964387392123, f'(a) = 0.056980287155283804\n",
      "a = 78, f(a) = 8.831760866327848, f'(a) = 0.056613842502883926\n",
      "a = 79, f(a) = 8.888194417315589, f'(a) = 0.056254396696431286\n",
      "a = 80, f(a) = 8.94427190999916, f'(a) = 0.05590168328239997\n",
      "a = 81, f(a) = 9.0, f'(a) = 0.05555556015224283\n",
      "a = 82, f(a) = 9.055385138137417, f'(a) = 0.05521576085243396\n",
      "a = 83, f(a) = 9.1104335791443, f'(a) = 0.054882125510857804\n",
      "a = 84, f(a) = 9.16515138991168, f'(a) = 0.05455447649183043\n",
      "a = 85, f(a) = 9.219544457292887, f'(a) = 0.0542326183960995\n",
      "a = 86, f(a) = 9.273618495495704, f'(a) = 0.05391637358798107\n",
      "a = 87, f(a) = 9.327379053088816, f'(a) = 0.05360561772249639\n",
      "a = 88, f(a) = 9.38083151964686, f'(a) = 0.05330017316396152\n",
      "a = 89, f(a) = 9.433981132056603, f'(a) = 0.0529998978038293\n",
      "a = 90, f(a) = 9.486832980505138, f'(a) = 0.05270463176998419\n",
      "a = 91, f(a) = 9.539392014169456, f'(a) = 0.05241425071744743\n",
      "a = 92, f(a) = 9.591663046625438, f'(a) = 0.05212861253767187\n",
      "a = 93, f(a) = 9.643650760992955, f'(a) = 0.051847575122110356\n",
      "a = 94, f(a) = 9.695359714832659, f'(a) = 0.05157104965292092\n",
      "a = 95, f(a) = 9.746794344808963, f'(a) = 0.051298929548693195\n",
      "a = 96, f(a) = 9.797958971132712, f'(a) = 0.05103103717374324\n",
      "a = 97, f(a) = 9.848857801796104, f'(a) = 0.05076731923736588\n",
      "a = 98, f(a) = 9.899494936611665, f'(a) = 0.050507615867445566\n",
      "a = 99, f(a) = 9.9498743710662, f'(a) = 0.050251891536845505\n",
      "a = 100, f(a) = 10.0, f'(a) = 0.05000000413701855\n"
     ]
    }
   ],
   "source": [
    "\n",
    "# Guardar las derivadas en una lista\n",
    "derivadas = []\n",
    "\n",
    "for a in range(1, 101):\n",
    "    punto, valor_funcion, derivada = recta_tangente(a)\n",
    "    derivadas.append((punto, valor_funcion, derivada))\n",
    "\n",
    "# Mostrar las derivadas guardadas en la lista\n",
    "for derivada in derivadas:\n",
    "    print(f\"a = {derivada[0]}, f(a) = {derivada[1]}, f'(a) = {derivada[2]}\")\n"
   ]
  },
  {
   "cell_type": "code",
   "execution_count": null,
   "id": "3b837b78-83fe-4c6c-ab8f-81d0bb995a31",
   "metadata": {},
   "outputs": [],
   "source": []
  },
  {
   "cell_type": "markdown",
   "id": "77ac9f93-734b-4ac9-a5c1-a35d7435632d",
   "metadata": {},
   "source": [
    "### Ejercicio 3:\n",
    "\n",
    "- Usando el resultado del ejercicio anterior, grafica la función $f(x)$, los puntos tangentes y las rectas tangentes para los valores: $1$ y $10$.\n",
    "- Usa _**x = np.linspace(0, 15, 1000)**_\n",
    "- Usa los notebooks de teoría para guiarte.\n",
    "\n",
    "Usaremos $f(x) = \\sqrt[]{x}$, para reutilizar las funciones de los ejercicios anteriores."
   ]
  },
  {
   "cell_type": "code",
   "execution_count": 12,
   "id": "3911b912-282b-41fb-a759-c9c2593e69e6",
   "metadata": {},
   "outputs": [
    {
     "name": "stderr",
     "output_type": "stream",
     "text": [
      "<>:10: SyntaxWarning: invalid escape sequence '\\s'\n",
      "<>:29: SyntaxWarning: invalid escape sequence '\\s'\n",
      "<>:10: SyntaxWarning: invalid escape sequence '\\s'\n",
      "<>:29: SyntaxWarning: invalid escape sequence '\\s'\n",
      "C:\\Users\\cpami\\AppData\\Local\\Temp\\ipykernel_14248\\835059468.py:10: SyntaxWarning: invalid escape sequence '\\s'\n",
      "  plt.plot(x, y, label='$f(x) = \\sqrt{x}$')\n",
      "C:\\Users\\cpami\\AppData\\Local\\Temp\\ipykernel_14248\\835059468.py:29: SyntaxWarning: invalid escape sequence '\\s'\n",
      "  plt.title('Función $f(x) = \\sqrt{x}$, Puntos Tangentes y Rectas Tangentes')\n"
     ]
    },
    {
     "data": {
      "image/png": "[encoded data removed]",
      "text/plain": [
       "<Figure size 640x480 with 1 Axes>"
      ]
     },
     "metadata": {},
     "output_type": "display_data"
    }
   ],
   "source": [
    "\n",
    "\n",
    "# Valores de x para la gráfica\n",
    "x = np.linspace(0, 15, 1000)\n",
    "y = python_sqrt(x)\n",
    "\n",
    "# Calcular los valores de las rectas tangentes en x = 1 y x = 10\n",
    "puntos = [1, 10]\n",
    "rectas = [recta_tangente(punto) for punto in puntos]\n",
    "\n",
    "# Graficar la función f(x) = sqrt(x)\n",
    "plt.plot(x, y, label='$f(x) = \\sqrt{x}$')\n",
    "\n",
    "# Graficar los puntos tangentes y las rectas tangentes\n",
    "for punto, f_a, f_prime_a in rectas:\n",
    "    # Punto tangente\n",
    "    plt.scatter(punto, f_a, color='red')\n",
    "    plt.text(punto, f_a, f'({punto}, {f_a:.2f})', fontsize=12, ha='right')\n",
    "    \n",
    "    # Recta tangente\n",
    "    y_tangente = f_prime_a * (x - punto) + f_a\n",
    "    plt.plot(x, y_tangente, linestyle='--', label=f'Tangente en x = {punto}')\n",
    "\n",
    "# Configurar la gráfica\n",
    "plt.axhline(0, color='black', linewidth=0.5)\n",
    "plt.axvline(0, color='black', linewidth=0.5)\n",
    "plt.grid(color='gray', linestyle='--', linewidth=0.5)\n",
    "plt.xlabel('x')\n",
    "plt.ylabel('y')\n",
    "plt.legend()\n",
    "plt.title('Función $f(x) = \\sqrt{x}$, Puntos Tangentes y Rectas Tangentes')\n",
    "\n",
    "# Mostrar la gráfica\n",
    "plt.show();\n"
   ]
  },
  {
   "cell_type": "code",
   "execution_count": null,
   "id": "7f1c8edc-dae9-4545-8d32-4c75e040539e",
   "metadata": {},
   "outputs": [],
   "source": []
  },
  {
   "cell_type": "code",
   "execution_count": null,
   "id": "da526f41-7372-4ad5-82c0-0e5f978f4066",
   "metadata": {},
   "outputs": [],
   "source": []
  },
  {
   "cell_type": "markdown",
   "id": "dbc7280d-10ce-438a-99e4-9d7f5f307aa5",
   "metadata": {},
   "source": [
    "### Ejercicio 4 (_Extra_):\n",
    "\n",
    "- Repite los pasos de los ejercicios 1, 2 para la siguiente función:\n",
    "\n",
    "$$f(x) = sin(x^2) + 10$$\n",
    "\n",
    "- Repite los pasos del ejercicio 3, los puntos a evaluar son:\n",
    "    - $-1$\n",
    "    - $1$\n",
    "    - $-\\pi$\n",
    "    - $\\pi$\n",
    "\n",
    "- Usa _**x = np.linspace(-5, 5, 1000)**_ para la gráficas.\n",
    "\n",
    "Para usar el número $\\pi$, usamos _**np.pi**_."
   ]
  },
  {
   "cell_type": "code",
   "execution_count": null,
   "id": "4bbfb8c7-8561-424d-bcc7-1ac246bce98b",
   "metadata": {},
   "outputs": [],
   "source": []
  },
  {
   "cell_type": "code",
   "execution_count": null,
   "id": "464e473c-4e1f-45f7-9982-f71b689ffda4",
   "metadata": {},
   "outputs": [],
   "source": []
  },
  {
   "cell_type": "code",
   "execution_count": null,
   "id": "7d67f680-3b16-41bf-b67d-c9e9106c3da5",
   "metadata": {},
   "outputs": [],
   "source": []
  },
  {
   "cell_type": "code",
   "execution_count": null,
   "id": "598dcb8a-9668-49d0-af9e-44781c158bee",
   "metadata": {},
   "outputs": [],
   "source": []
  },
  {
   "cell_type": "code",
   "execution_count": null,
   "id": "5cf3593a-724a-4720-8eb5-3e3a0e29278b",
   "metadata": {},
   "outputs": [],
   "source": []
  },
  {
   "cell_type": "code",
   "execution_count": null,
   "id": "6ebb7ae7-dd26-455f-9cc9-ae2a88d194e2",
   "metadata": {},
   "outputs": [],
   "source": []
  },
  {
   "cell_type": "code",
   "execution_count": 10,
   "id": "bdef78f7-5f72-4011-bd50-43ab9f457577",
   "metadata": {
    "tags": []
   },
   "outputs": [],
   "source": [
    "##############################################################################################################################"
   ]
  }
 ],
 "metadata": {
  "kernelspec": {
   "display_name": "Python 3",
   "language": "python",
   "name": "python3"
  },
  "language_info": {
   "codemirror_mode": {
    "name": "ipython",
    "version": 3
   },
   "file_extension": ".py",
   "mimetype": "text/x-python",
   "name": "python",
   "nbconvert_exporter": "python",
   "pygments_lexer": "ipython3",
   "version": "3.13.1"
  }
 },
 "nbformat": 4,
 "nbformat_minor": 5
}
