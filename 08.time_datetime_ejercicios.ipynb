{
 "cells": [
  {
   "cell_type": "markdown",
   "id": "81cc3390",
   "metadata": {},
   "source": [
    "## Ejercicios - datetime"
   ]
  },
  {
   "cell_type": "code",
   "execution_count": 35,
   "id": "570de22e",
   "metadata": {},
   "outputs": [],
   "source": [
    "import time\n",
    "import datetime"
   ]
  },
  {
   "cell_type": "markdown",
   "id": "f9db0e96",
   "metadata": {},
   "source": [
    "### Ejercicio 1\n",
    "- Determina si el año actual es bisiesto, imprime el resultado por pantalla. Usa la libreria **datetime**.+"
   ]
  },
  {
   "cell_type": "code",
   "execution_count": 36,
   "id": "7f8fbd2e",
   "metadata": {},
   "outputs": [
    {
     "ename": "SyntaxError",
     "evalue": "unterminated f-string literal (detected at line 9) (1597553758.py, line 9)",
     "output_type": "error",
     "traceback": [
      "\u001b[1;36m  Cell \u001b[1;32mIn[36], line 9\u001b[1;36m\u001b[0m\n\u001b[1;33m    print(f'El año {año_actual} es bisiesto.\")\u001b[0m\n\u001b[1;37m          ^\u001b[0m\n\u001b[1;31mSyntaxError\u001b[0m\u001b[1;31m:\u001b[0m unterminated f-string literal (detected at line 9)\n"
     ]
    }
   ],
   "source": [
    "\n",
    "def es_bisiesto(year):\n",
    "    # Un año es bisiesto si es divisible por 4 pero no por 100, a menos que también sea divisible por 400\n",
    "    return (year % 4 == 0 and year % 100 != 0) or (year % 400 == 0)\n",
    "\n",
    "año_actual = datetime.datetime.now().year\n",
    "\n",
    "def comprobar(año_actual):\n",
    "    if es_bisiesto(año_actual):\n",
    "        print(f'El año {año_actual} es bisiesto.\")\n",
    "    else:\n",
    "        print(f'El año {año_actual} no es bisiesto.\")\n",
    "        \n",
    "comprobar(año_actual)\n"
   ]
  },
  {
   "cell_type": "code",
   "execution_count": null,
   "id": "586752c5",
   "metadata": {},
   "outputs": [],
   "source": []
  },
  {
   "cell_type": "code",
   "execution_count": null,
   "id": "8f7131c0",
   "metadata": {},
   "outputs": [],
   "source": []
  },
  {
   "cell_type": "markdown",
   "id": "9ec19d61",
   "metadata": {},
   "source": [
    "### Ejercicio 2\n",
    "- Utiliza el año 2000 y el año 2100 para verificar que el código anterior funciona correctamente.\n",
    "- Nota: El año 2000 fue bisiesto y el año 2100 no lo será."
   ]
  },
  {
   "cell_type": "code",
   "execution_count": 9,
   "id": "6d7ac90e",
   "metadata": {},
   "outputs": [
    {
     "name": "stdout",
     "output_type": "stream",
     "text": [
      "El año 2000 es bisiesto.\n",
      "El año 2100 no es bisiesto.\n"
     ]
    }
   ],
   "source": [
    "comprobar(2000)\n",
    "comprobar(2100)"
   ]
  },
  {
   "cell_type": "code",
   "execution_count": null,
   "id": "ae63e7cd",
   "metadata": {},
   "outputs": [],
   "source": []
  },
  {
   "cell_type": "code",
   "execution_count": null,
   "id": "516fe1fc",
   "metadata": {},
   "outputs": [],
   "source": []
  },
  {
   "cell_type": "markdown",
   "id": "30aaf8f9",
   "metadata": {},
   "source": [
    "### Ejercicio 3\n",
    "- Convierte la fecha _**'Oct 16 2019 2:43PM'**_ en un objecto de tipo **datetime**.\n",
    "- Nota: Convertir una fecha string a una fecha tipo datetime."
   ]
  },
  {
   "cell_type": "code",
   "execution_count": 11,
   "id": "5a5aee2e",
   "metadata": {},
   "outputs": [
    {
     "name": "stdout",
     "output_type": "stream",
     "text": [
      "Fecha convertida: 2019-10-16 14:43:00\n"
     ]
    }
   ],
   "source": [
    "from datetime import datetime\n",
    "fecha_string = 'Oct 16 2019 2:43PM'\n",
    "\n",
    "fecha_datetime = datetime.strptime(fecha_string, '%b %d %Y %I:%M%p')\n",
    "\n",
    "print(f'Fecha convertida: {fecha_datetime}')\n"
   ]
  },
  {
   "cell_type": "code",
   "execution_count": null,
   "id": "3473f225",
   "metadata": {},
   "outputs": [],
   "source": []
  },
  {
   "cell_type": "code",
   "execution_count": null,
   "id": "e86e8008",
   "metadata": {},
   "outputs": [],
   "source": []
  },
  {
   "cell_type": "markdown",
   "id": "dac7380d",
   "metadata": {},
   "source": [
    "### Ejercicio 4\n",
    "- Muestra la hora actual."
   ]
  },
  {
   "cell_type": "code",
   "execution_count": 12,
   "id": "1d0c0aea",
   "metadata": {},
   "outputs": [
    {
     "name": "stdout",
     "output_type": "stream",
     "text": [
      "La hora actual es: 11:55:07.342415\n"
     ]
    }
   ],
   "source": [
    "hora_actual = datetime.now().time()\n",
    "\n",
    "print(f'La hora actual es: {hora_actual}')\n"
   ]
  },
  {
   "cell_type": "code",
   "execution_count": null,
   "id": "7da1f286",
   "metadata": {},
   "outputs": [],
   "source": []
  },
  {
   "cell_type": "code",
   "execution_count": null,
   "id": "0faf7615",
   "metadata": {},
   "outputs": [],
   "source": []
  },
  {
   "cell_type": "markdown",
   "id": "4888b068",
   "metadata": {},
   "source": [
    "### Ejercicio 5\n",
    "\n",
    "- Utilizando la fecha y hora actual imprime la siguiente información:\n",
    "\n",
    "1. Fecha y hora actual\n",
    "2. Año actual\n",
    "3. Mes del año\n",
    "4. Numero de la semana del año\n",
    "5. Numero del dia de la semana\n",
    "6. Dia del año\n",
    "7. Dia del mes\n",
    "8. Dia de la semana"
   ]
  },
  {
   "cell_type": "code",
   "execution_count": 14,
   "id": "2be25c27",
   "metadata": {},
   "outputs": [
    {
     "name": "stdout",
     "output_type": "stream",
     "text": [
      "1. Fecha y hora actual: 2024-12-13 12:07:22.107868\n",
      "2. Año actual: 2024\n",
      "3. Mes del año: 12\n",
      "4. Número de la semana del año: 49\n",
      "5. Número del día de la semana: 5\n",
      "6. Día del año: 348\n",
      "7. Día del mes: 13\n",
      "8. Día de la semana: Friday\n"
     ]
    }
   ],
   "source": [
    "fecha_actual = datetime.now()\n",
    "\n",
    "print(f'1. Fecha y hora actual: {fecha_actual}')\n",
    "print(f'2. Año actual: {fecha_actual.year}')\n",
    "print(f'3. Mes del año: {fecha_actual.month}')\n",
    "print(f'4. Número de la semana del año: {fecha_actual.strftime(\"%U\")}')\n",
    "print(f'5. Número del día de la semana: {fecha_actual.weekday() + 1}') \n",
    "print(f'6. Día del año: {fecha_actual.strftime(\"%j\")}')\n",
    "print(f'7. Día del mes: {fecha_actual.day}')\n",
    "print(f'8. Día de la semana: {fecha_actual.strftime(\"%A\")}')\n"
   ]
  },
  {
   "cell_type": "code",
   "execution_count": null,
   "id": "f96e8eb6",
   "metadata": {},
   "outputs": [],
   "source": []
  },
  {
   "cell_type": "code",
   "execution_count": null,
   "id": "4f5fe2b2",
   "metadata": {},
   "outputs": [],
   "source": []
  },
  {
   "cell_type": "markdown",
   "id": "2b6c624f",
   "metadata": {},
   "source": [
    "### Ejercicio 6\n",
    "\n",
    "- Escribe un código que convierta la siguiente cadena que se encuentra en formato timestamp unix **\"1284105682\"** a un formato que se pueda leer."
   ]
  },
  {
   "cell_type": "code",
   "execution_count": 16,
   "id": "5eaab7d8",
   "metadata": {},
   "outputs": [
    {
     "name": "stdout",
     "output_type": "stream",
     "text": [
      "Fecha y hora legible: 2010-09-10 10:01:22\n"
     ]
    }
   ],
   "source": [
    "\n",
    "timestamp_unix = 1284105682\n",
    "\n",
    "fecha_legible = datetime.datetime.fromtimestamp(timestamp_unix)\n",
    "\n",
    "print(f'Fecha y hora legible: {fecha_legible}')\n"
   ]
  },
  {
   "cell_type": "code",
   "execution_count": null,
   "id": "6580497b",
   "metadata": {},
   "outputs": [],
   "source": []
  },
  {
   "cell_type": "code",
   "execution_count": null,
   "id": "b863e2d9",
   "metadata": {},
   "outputs": [],
   "source": []
  },
  {
   "cell_type": "markdown",
   "id": "9fa710a8",
   "metadata": {},
   "source": [
    "### Ejercicio 7\n",
    "- Escribe un programa que imprima la fecha de 5 días atras."
   ]
  },
  {
   "cell_type": "code",
   "execution_count": 25,
   "id": "c2508c37",
   "metadata": {},
   "outputs": [
    {
     "name": "stdout",
     "output_type": "stream",
     "text": [
      "La fecha de hace 5 días es: 08-12-2024\n"
     ]
    }
   ],
   "source": [
    "from datetime import datetime, timedelta\n",
    "\n",
    "fecha_actual = datetime.now()\n",
    "\n",
    "fecha_atras = fecha_actual - timedelta(days=5)\n",
    "\n",
    "print(f'La fecha de hace 5 días es: {fecha_atras.strftime('%d-%m-%Y')}')\n"
   ]
  },
  {
   "cell_type": "code",
   "execution_count": null,
   "id": "e95406c6",
   "metadata": {},
   "outputs": [],
   "source": []
  },
  {
   "cell_type": "code",
   "execution_count": null,
   "id": "e4161e92",
   "metadata": {},
   "outputs": [],
   "source": []
  },
  {
   "cell_type": "markdown",
   "id": "ea3d4997",
   "metadata": {},
   "source": [
    "### Ejercicio 8\n",
    "- Utiliza un bucle **for** para imprimir los proximos 5 dias."
   ]
  },
  {
   "cell_type": "code",
   "execution_count": 24,
   "id": "311bfc3d",
   "metadata": {},
   "outputs": [
    {
     "name": "stdout",
     "output_type": "stream",
     "text": [
      "Las fechas de los próximos 5 días son:\n",
      "14-12-2024\n",
      "15-12-2024\n",
      "16-12-2024\n",
      "17-12-2024\n",
      "18-12-2024\n"
     ]
    }
   ],
   "source": [
    "fecha_actual = datetime.now()\n",
    "\n",
    "\n",
    "print(\"Las fechas de los próximos 5 días son:\")\n",
    "for i in range(1, 6):\n",
    "    fecha_futura = fecha_actual + timedelta(days=i)\n",
    "    print(fecha_futura.strftime('%d-%m-%Y'))\n"
   ]
  },
  {
   "cell_type": "code",
   "execution_count": null,
   "id": "891c5751",
   "metadata": {},
   "outputs": [],
   "source": []
  },
  {
   "cell_type": "code",
   "execution_count": null,
   "id": "107310ee",
   "metadata": {},
   "outputs": [],
   "source": []
  },
  {
   "cell_type": "markdown",
   "id": "9f2f692d",
   "metadata": {},
   "source": [
    "### Ejercicio 9\n",
    "- Escribe un código que agregue 5 segundos a la hora actual."
   ]
  },
  {
   "cell_type": "code",
   "execution_count": 26,
   "id": "6299f143",
   "metadata": {},
   "outputs": [
    {
     "name": "stdout",
     "output_type": "stream",
     "text": [
      "Hora actual: 13-12-2024 12:20:33\n",
      "Hora después de agregar 5 segundos: 13-12-2024 12:20:38\n"
     ]
    }
   ],
   "source": [
    "hora_actual = datetime.now()\n",
    "\n",
    "hora_futura = hora_actual + timedelta(seconds=5)\n",
    "\n",
    "print(f'Hora actual: {hora_actual.strftime('%d-%m-%Y %H:%M:%S')}')\n",
    "print(f'Hora después de agregar 5 segundos: {hora_futura.strftime('%d-%m-%Y %H:%M:%S')}')\n"
   ]
  },
  {
   "cell_type": "code",
   "execution_count": null,
   "id": "828c806b",
   "metadata": {},
   "outputs": [],
   "source": []
  },
  {
   "cell_type": "code",
   "execution_count": null,
   "id": "30269f13",
   "metadata": {},
   "outputs": [],
   "source": []
  },
  {
   "cell_type": "markdown",
   "id": "e6fa33cc",
   "metadata": {},
   "source": [
    "### Ejercicio 10\n",
    "\n",
    "- Escribe un código que muestre la fecha de ayer, hoy y mañana."
   ]
  },
  {
   "cell_type": "code",
   "execution_count": 27,
   "id": "a1b81653",
   "metadata": {},
   "outputs": [
    {
     "name": "stdout",
     "output_type": "stream",
     "text": [
      "Fecha de ayer: 12-12-2024\n",
      "Fecha de hoy: 13-12-2024\n",
      "Fecha de mañana: 14-12-2024\n"
     ]
    }
   ],
   "source": [
    "fecha_actual = datetime.now()\n",
    "\n",
    "fecha_ayer = fecha_actual - timedelta(days=1)\n",
    "fecha_hoy = fecha_actual\n",
    "fecha_manana = fecha_actual + timedelta(days=1)\n",
    "\n",
    "# Imprimir las fechas\n",
    "print(f'Fecha de ayer: {fecha_ayer.strftime('%d-%m-%Y')}')\n",
    "print(f'Fecha de hoy: {fecha_hoy.strftime('%d-%m-%Y')}')\n",
    "print(f'Fecha de mañana: {fecha_manana.strftime('%d-%m-%Y')}')\n"
   ]
  },
  {
   "cell_type": "code",
   "execution_count": null,
   "id": "01cf4839",
   "metadata": {},
   "outputs": [],
   "source": []
  },
  {
   "cell_type": "code",
   "execution_count": null,
   "id": "5c397c62",
   "metadata": {},
   "outputs": [],
   "source": []
  },
  {
   "cell_type": "markdown",
   "id": "bf3cb171",
   "metadata": {},
   "source": [
    "### Ejercicio 11\n",
    "- Escribe un código que convierta una fecha a unix timestamp."
   ]
  },
  {
   "cell_type": "code",
   "execution_count": 28,
   "id": "87e59068",
   "metadata": {},
   "outputs": [
    {
     "name": "stdout",
     "output_type": "stream",
     "text": [
      "La fecha en Timestamp Unix es: 1734089696\n"
     ]
    }
   ],
   "source": [
    "fecha_string = '2024-12-13 12:34:56'\n",
    "fecha_datetime = datetime.strptime(fecha_string, '%Y-%m-%d %H:%M:%S')\n",
    "\n",
    "timestamp_unix = int(fecha_datetime.timestamp())\n",
    "\n",
    "print(f'La fecha en Timestamp Unix es: {timestamp_unix}')\n"
   ]
  },
  {
   "cell_type": "code",
   "execution_count": null,
   "id": "a07a78aa",
   "metadata": {},
   "outputs": [],
   "source": []
  },
  {
   "cell_type": "code",
   "execution_count": null,
   "id": "e88b97c1",
   "metadata": {},
   "outputs": [],
   "source": []
  },
  {
   "cell_type": "markdown",
   "id": "44994dbb",
   "metadata": {},
   "source": [
    "### Ejercicio 12\n",
    "\n",
    "- Escribe un código que genere la fecha y hora actual del tipo **datetime** como **string**. (Dale el formato que quieras.)"
   ]
  },
  {
   "cell_type": "code",
   "execution_count": 29,
   "id": "c7e38f97",
   "metadata": {},
   "outputs": [
    {
     "name": "stdout",
     "output_type": "stream",
     "text": [
      "La fecha y hora actual es: 13-12-2024 12:30:19\n"
     ]
    }
   ],
   "source": [
    "fecha_actual = datetime.now()\n",
    "\n",
    "formato = '%d-%m-%Y %H:%M:%S'\n",
    "fecha_actual_string = fecha_actual.strftime(formato)\n",
    "\n",
    "# Imprimir la fecha y hora actual como string\n",
    "print(f'La fecha y hora actual es: {fecha_actual_string}')\n"
   ]
  },
  {
   "cell_type": "code",
   "execution_count": null,
   "id": "d4fa4a49",
   "metadata": {},
   "outputs": [],
   "source": []
  },
  {
   "cell_type": "code",
   "execution_count": null,
   "id": "cba05354",
   "metadata": {},
   "outputs": [],
   "source": []
  },
  {
   "cell_type": "markdown",
   "id": "ed6e7b81",
   "metadata": {},
   "source": [
    "### Ejercicio 13\n",
    "\n",
    "- Calcula la cantidad de segundos que han pasado desde el **01-Jan-2000**."
   ]
  },
  {
   "cell_type": "code",
   "execution_count": 34,
   "id": "66ebcc7c",
   "metadata": {},
   "outputs": [
    {
     "name": "stdout",
     "output_type": "stream",
     "text": [
      "Los segundos transcurridos desde el 01-01-2000 a 13-12-2024 12:36:56: 787408616\n"
     ]
    }
   ],
   "source": [
    "fecha_inicio = datetime(2000, 1, 1)\n",
    "\n",
    "fecha_actual = datetime.now()\n",
    "formato = '%d-%m-%Y %H:%M:%S'\n",
    "fecha_actual_string = fecha_actual.strftime(formato)\n",
    "\n",
    "diferencia_tiempo = fecha_actual - fecha_inicio\n",
    "\n",
    "segundos_transcurridos = diferencia_tiempo.total_seconds()\n",
    "\n",
    "print(f'Los segundos transcurridos desde el 01-01-2000 a {fecha_actual_string}: {int(segundos_transcurridos)}')\n"
   ]
  },
  {
   "cell_type": "code",
   "execution_count": null,
   "id": "462a0e80",
   "metadata": {},
   "outputs": [],
   "source": []
  },
  {
   "cell_type": "code",
   "execution_count": null,
   "id": "862141bf",
   "metadata": {},
   "outputs": [],
   "source": []
  },
  {
   "cell_type": "code",
   "execution_count": null,
   "id": "9defe1ce",
   "metadata": {},
   "outputs": [],
   "source": [
    "##############################################################################################################################"
   ]
  }
 ],
 "metadata": {
  "kernelspec": {
   "display_name": "Python 3",
   "language": "python",
   "name": "python3"
  },
  "language_info": {
   "codemirror_mode": {
    "name": "ipython",
    "version": 3
   },
   "file_extension": ".py",
   "mimetype": "text/x-python",
   "name": "python",
   "nbconvert_exporter": "python",
   "pygments_lexer": "ipython3",
   "version": "3.13.1"
  }
 },
 "nbformat": 4,
 "nbformat_minor": 5
}
