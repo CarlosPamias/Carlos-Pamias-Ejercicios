{
 "cells": [
  {
   "cell_type": "markdown",
   "id": "bd9af8bb",
   "metadata": {},
   "source": [
    "## Ejercicios - Tuplas, Sets y Diccionarios"
   ]
  },
  {
   "cell_type": "markdown",
   "id": "5cd0dbdf",
   "metadata": {},
   "source": [
    "### Tuplas"
   ]
  },
  {
   "cell_type": "markdown",
   "id": "5fcfd082",
   "metadata": {},
   "source": [
    "### Ejercicio 1\n",
    "- Crea una tupla utilizando la función **range()**, que tenga un rango del 11 al 19.\n",
    "    - Ejemplo: **tupla = tuple(range(3))**"
   ]
  },
  {
   "cell_type": "code",
   "execution_count": 1,
   "id": "5767cc8f",
   "metadata": {
    "tags": []
   },
   "outputs": [
    {
     "name": "stdout",
     "output_type": "stream",
     "text": [
      "(11, 12, 13, 14, 15, 16, 17, 18, 19)\n"
     ]
    }
   ],
   "source": [
    "tupla = tuple(range(11, 20))\n",
    "print(tupla)\n"
   ]
  },
  {
   "cell_type": "code",
   "execution_count": null,
   "id": "69f61ed6",
   "metadata": {
    "tags": []
   },
   "outputs": [],
   "source": []
  },
  {
   "cell_type": "markdown",
   "id": "dd868625",
   "metadata": {},
   "source": [
    "### Ejercicio 2\n",
    "- Crea una lista vacia y llenala con los números de la tupla anterior usando un bucle."
   ]
  },
  {
   "cell_type": "code",
   "execution_count": 2,
   "id": "e261324e",
   "metadata": {},
   "outputs": [
    {
     "name": "stdout",
     "output_type": "stream",
     "text": [
      "[11, 12, 13, 14, 15, 16, 17, 18, 19]\n"
     ]
    }
   ],
   "source": [
    "lista = []\n",
    "\n",
    "for numero in tupla:\n",
    "    lista.append(numero)\n",
    "\n",
    "print(lista)\n"
   ]
  },
  {
   "cell_type": "code",
   "execution_count": null,
   "id": "a42632ec",
   "metadata": {},
   "outputs": [],
   "source": []
  },
  {
   "cell_type": "markdown",
   "id": "8fa8417c",
   "metadata": {},
   "source": [
    "### Ejercicio 3\n",
    "- Ordena la lista de mayor a menor."
   ]
  },
  {
   "cell_type": "code",
   "execution_count": 3,
   "id": "9b9fe725",
   "metadata": {},
   "outputs": [
    {
     "name": "stdout",
     "output_type": "stream",
     "text": [
      "[19, 18, 17, 16, 15, 14, 13, 12, 11]\n"
     ]
    }
   ],
   "source": [
    "\n",
    "lista.sort(reverse=True)\n",
    "print(lista)\n"
   ]
  },
  {
   "cell_type": "code",
   "execution_count": null,
   "id": "3c27e0b7",
   "metadata": {},
   "outputs": [],
   "source": []
  },
  {
   "cell_type": "markdown",
   "id": "a4aba352",
   "metadata": {},
   "source": [
    "### Ejercicio 4\n",
    "- Transforma la lista a tupla y ordenala de menor a mayor."
   ]
  },
  {
   "cell_type": "code",
   "execution_count": 4,
   "id": "9693f765",
   "metadata": {},
   "outputs": [
    {
     "name": "stdout",
     "output_type": "stream",
     "text": [
      "(11, 12, 13, 14, 15, 16, 17, 18, 19)\n"
     ]
    }
   ],
   "source": [
    "\n",
    "tupla = tuple(lista)\n",
    "\n",
    "tupla_ordenada = tuple(sorted(tupla))\n",
    "\n",
    "print(tupla_ordenada)\n"
   ]
  },
  {
   "cell_type": "code",
   "execution_count": null,
   "id": "0042ff89",
   "metadata": {},
   "outputs": [],
   "source": []
  },
  {
   "cell_type": "markdown",
   "id": "11e327bc",
   "metadata": {},
   "source": [
    "### Ejercicio 5\n",
    "- ¿Que tipo de dato es la variable resultante?"
   ]
  },
  {
   "cell_type": "code",
   "execution_count": 5,
   "id": "de6614c0",
   "metadata": {},
   "outputs": [
    {
     "data": {
      "text/plain": [
       "tuple"
      ]
     },
     "execution_count": 5,
     "metadata": {},
     "output_type": "execute_result"
    }
   ],
   "source": [
    "type(tupla_ordenada)"
   ]
  },
  {
   "cell_type": "code",
   "execution_count": null,
   "id": "6825680a",
   "metadata": {},
   "outputs": [],
   "source": []
  },
  {
   "cell_type": "markdown",
   "id": "51174939",
   "metadata": {},
   "source": [
    "### Ejercicio 6\n",
    "- Dada la siguiente **frase = \"Fui programado para servir, no para destruir - C3PO\"**, conviertela en tupla, ordenala y manten la tupla. (El resultado final debe ser una tupla)"
   ]
  },
  {
   "cell_type": "code",
   "execution_count": 6,
   "id": "22386983",
   "metadata": {},
   "outputs": [
    {
     "name": "stdout",
     "output_type": "stream",
     "text": [
      "(' ', ' ', ' ', ' ', ' ', ' ', ' ', ' ', ',', '-', '3', 'C', 'F', 'O', 'P', 'a', 'a', 'a', 'a', 'a', 'a', 'd', 'd', 'e', 'e', 'g', 'i', 'i', 'i', 'm', 'n', 'o', 'o', 'o', 'p', 'p', 'p', 'r', 'r', 'r', 'r', 'r', 'r', 'r', 'r', 's', 's', 't', 'u', 'u', 'v')\n"
     ]
    }
   ],
   "source": [
    "frase = \"Fui programado para servir, no para destruir - C3PO\"\n",
    "\n",
    "lista_caracteres = list(frase)\n",
    "\n",
    "lista_caracteres.sort()\n",
    "\n",
    "tupla_ordenada = tuple(lista_caracteres)\n",
    "\n",
    "print(tupla_ordenada)\n"
   ]
  },
  {
   "cell_type": "code",
   "execution_count": null,
   "id": "abb46d56",
   "metadata": {
    "scrolled": true
   },
   "outputs": [],
   "source": []
  },
  {
   "cell_type": "code",
   "execution_count": null,
   "id": "e7a47319",
   "metadata": {},
   "outputs": [],
   "source": []
  },
  {
   "cell_type": "code",
   "execution_count": null,
   "id": "1c137acf",
   "metadata": {},
   "outputs": [],
   "source": []
  },
  {
   "cell_type": "markdown",
   "id": "12437162",
   "metadata": {},
   "source": [
    "### Ejercicio 7\n",
    "- Del resultado anterior, muestra cuantas veces aparece cada vocal.\n",
    "    - Utiliza un bucle **for** que recorra la siguiente tupla: **(\"a\", \"e\", \"i\", \"o\", \"u\")**"
   ]
  },
  {
   "cell_type": "code",
   "execution_count": 7,
   "id": "fee4bc57",
   "metadata": {},
   "outputs": [
    {
     "name": "stdout",
     "output_type": "stream",
     "text": [
      "La vocal 'a' aparece 6 veces\n",
      "La vocal 'e' aparece 2 veces\n",
      "La vocal 'i' aparece 3 veces\n",
      "La vocal 'o' aparece 3 veces\n",
      "La vocal 'u' aparece 2 veces\n"
     ]
    }
   ],
   "source": [
    "vocales = (\"a\", \"e\", \"i\", \"o\", \"u\")\n",
    "\n",
    "for vocal in vocales:\n",
    "    conteo = tupla_ordenada.count(vocal)\n",
    "    print(f\"La vocal '{vocal}' aparece {conteo} veces\")\n"
   ]
  },
  {
   "cell_type": "code",
   "execution_count": null,
   "id": "3faf738d",
   "metadata": {},
   "outputs": [],
   "source": []
  },
  {
   "cell_type": "code",
   "execution_count": null,
   "id": "17451ea0-b6c1-491d-a2a1-8fef75062e11",
   "metadata": {},
   "outputs": [],
   "source": []
  },
  {
   "cell_type": "markdown",
   "id": "f8790981",
   "metadata": {},
   "source": [
    "### Ejercicio 8\n",
    "- Dada la siguiente tupla: **(9, 8, 7, 5, \"a\", 3, 6, 5)**, encuentra la forma para eliminar la letra **\"a\"**. (El resultado final debe ser una tupla)"
   ]
  },
  {
   "cell_type": "code",
   "execution_count": 8,
   "id": "7fbf5374",
   "metadata": {},
   "outputs": [
    {
     "name": "stdout",
     "output_type": "stream",
     "text": [
      "(9, 8, 7, 5, 3, 6, 5)\n"
     ]
    }
   ],
   "source": [
    "tupla_original = (9, 8, 7, 5, \"a\", 3, 6, 5)\n",
    "\n",
    "# Convertir la tupla a una lista\n",
    "lista = list(tupla_original)\n",
    "\n",
    "# Eliminar el elemento \"a\"\n",
    "lista.remove(\"a\")\n",
    "\n",
    "# Convertir la lista de nuevo a una tupla\n",
    "tupla_modificada = tuple(lista)\n",
    "\n",
    "print(tupla_modificada)\n"
   ]
  },
  {
   "cell_type": "code",
   "execution_count": null,
   "id": "8165221e",
   "metadata": {},
   "outputs": [],
   "source": []
  },
  {
   "cell_type": "markdown",
   "id": "82c7eea3",
   "metadata": {},
   "source": [
    "### Ejercicio 9\n",
    "- Pregunta a un usuario que ingrese 5 elementos diferentes separados por coma y convierte estos elementos a una tupla, pueden ser palabras o un números."
   ]
  },
  {
   "cell_type": "code",
   "execution_count": 10,
   "id": "20c8cf64",
   "metadata": {},
   "outputs": [
    {
     "name": "stdout",
     "output_type": "stream",
     "text": [
      "Por favor, asegúrese de ingresar 5 elementos diferentes separados por comas.\n",
      "Por favor, asegúrese de ingresar 5 elementos diferentes separados por comas.\n",
      "La tupla de elementos es: ('2', '5', '6', '7', '9')\n"
     ]
    }
   ],
   "source": [
    "while True:\n",
    "   \n",
    "    entrada = input(\"Ingrese 5 elementos diferentes separados por comas: \")\n",
    "\n",
    "    lista_elementos = entrada.split(',')\n",
    "\n",
    "    # Eliminar espacios en blanco adicionales alrededor de cada elemento\n",
    "    lista_elementos = [elemento.strip() for elemento in lista_elementos]\n",
    "\n",
    "    # Comprobar que la lista tiene exactamente 5 elementos y que no hay elementos duplicados\n",
    "    if len(lista_elementos) == 5 and len(set(lista_elementos)) == 5:\n",
    "        # Convertir la lista de elementos a una tupla\n",
    "        tupla_elementos = tuple(lista_elementos)\n",
    "        print(\"La tupla de elementos es:\", tupla_elementos)\n",
    "        break\n",
    "    else:\n",
    "        print(\"Por favor, asegúrese de ingresar 5 elementos diferentes separados por comas.\")\n"
   ]
  },
  {
   "cell_type": "code",
   "execution_count": null,
   "id": "bf819dbf",
   "metadata": {},
   "outputs": [],
   "source": []
  },
  {
   "cell_type": "markdown",
   "id": "1743bc9c",
   "metadata": {},
   "source": [
    "### Ejercicio 10\n",
    "- Dada la siguiente lista de tuplas: **[(10, 20, 40), (40, 50, 60), (70, 80, 90)]**, elimina el último elemento de cada tupla dentro de la lista."
   ]
  },
  {
   "cell_type": "code",
   "execution_count": 11,
   "id": "bf3562a3",
   "metadata": {},
   "outputs": [
    {
     "name": "stdout",
     "output_type": "stream",
     "text": [
      "[(10, 20), (40, 50), (70, 80)]\n"
     ]
    }
   ],
   "source": [
    "lista_de_tuplas = [(10, 20, 40), (40, 50, 60), (70, 80, 90)]\n",
    "\n",
    "nueva_lista = []\n",
    "for tupla in lista_de_tuplas:\n",
    "    nueva_lista.append(tupla[:-1])\n",
    "\n",
    "print(nueva_lista)\n"
   ]
  },
  {
   "cell_type": "code",
   "execution_count": null,
   "id": "073bceb1",
   "metadata": {},
   "outputs": [],
   "source": []
  },
  {
   "cell_type": "code",
   "execution_count": null,
   "id": "780e0be9",
   "metadata": {},
   "outputs": [],
   "source": []
  },
  {
   "cell_type": "markdown",
   "id": "3b2ac10b",
   "metadata": {},
   "source": [
    "### Sets"
   ]
  },
  {
   "cell_type": "markdown",
   "id": "47aecaf8",
   "metadata": {},
   "source": [
    "### Ejercicio 11\n",
    "- Pide al usuario que ingrese 3 empresas de tecnología, estos elementos agregalos al **set_1 = {\"Meta\", \"Google\", \"Amazon\"}**\n",
    "\n",
    "- Verifica que no se repita ninguna empresa y dile al usuario que no se repitio ninguna empresa."
   ]
  },
  {
   "cell_type": "code",
   "execution_count": 12,
   "id": "a7d1d7b5",
   "metadata": {},
   "outputs": [
    {
     "name": "stdout",
     "output_type": "stream",
     "text": [
      "Se ingresaron empresas repetidas.\n",
      "Conjunto de empresas actualizado: {'Microsoft', 'Google', 'Meta', 'Amazon'}\n"
     ]
    }
   ],
   "source": [
    "\n",
    "empresas_usset_1 = {\"Meta\", \"Google\", \"Amazon\"}\n",
    "\n",
    "entrada = input(\"Ingrese 3 empresas de tecnología separadas por comas: \")\n",
    "\n",
    "empresas_usuario = entrada.replace(\" \", \"\").split(',')\n",
    "\n",
    "for empresa in empresas_usuario:\n",
    "    empresas_usset_1.add(empresa)\n",
    "\n",
    "if len(empresas_usset_1) == 3 + len(empresas_usuario):\n",
    "    print(\"No se repitió ninguna empresa.\")\n",
    "else:\n",
    "    print(\"Se ingresaron empresas repetidas.\")\n",
    "\n",
    "\n",
    "print(\"Conjunto de empresas actualizado:\", empresas_usset_1)\n"
   ]
  },
  {
   "cell_type": "code",
   "execution_count": null,
   "id": "e6b9b4e8",
   "metadata": {},
   "outputs": [],
   "source": []
  },
  {
   "cell_type": "code",
   "execution_count": null,
   "id": "66785b60",
   "metadata": {},
   "outputs": [],
   "source": []
  },
  {
   "cell_type": "code",
   "execution_count": null,
   "id": "36ec123d",
   "metadata": {},
   "outputs": [],
   "source": []
  },
  {
   "cell_type": "markdown",
   "id": "1d24f6da",
   "metadata": {},
   "source": [
    "### Ejercicio 12\n",
    "- Repite el ejercicio anterior pero ahora imprime las empresas que se repiten en caso de que existiera uno o más que se repitan."
   ]
  },
  {
   "cell_type": "code",
   "execution_count": 13,
   "id": "b8f919bc",
   "metadata": {},
   "outputs": [
    {
     "name": "stdout",
     "output_type": "stream",
     "text": [
      "Se ingresaron empresas repetidas: {'Google', 'Meta'}\n",
      "Conjunto de empresas actualizado: {'Microsoft', 'Google', 'Meta', 'Amazon'}\n"
     ]
    }
   ],
   "source": [
    "set_1 = {\"Meta\", \"Google\", \"Amazon\"}\n",
    "\n",
    "entrada = input(\"Ingrese 3 empresas de tecnología separadas por comas: \")\n",
    "\n",
    "empresas_usuario = entrada.replace(\" \", \"\").split(',')\n",
    "\n",
    "duplicados = set()\n",
    "\n",
    "for empresa in empresas_usuario:\n",
    "    if empresa in set_1:\n",
    "        duplicados.add(empresa)\n",
    "    set_1.add(empresa)\n",
    "\n",
    "if len(duplicados) == 0:\n",
    "    print(\"No se repitió ninguna empresa.\")\n",
    "else:\n",
    "    print(f'Se ingresaron empresas repetidas: {duplicados}')\n",
    "\n",
    "print(f'Conjunto de empresas actualizado: {set_1}')\n"
   ]
  },
  {
   "cell_type": "code",
   "execution_count": null,
   "id": "f27eda2a",
   "metadata": {},
   "outputs": [],
   "source": []
  },
  {
   "cell_type": "code",
   "execution_count": null,
   "id": "8d4aac1a",
   "metadata": {},
   "outputs": [],
   "source": []
  },
  {
   "cell_type": "code",
   "execution_count": null,
   "id": "4c043fc5",
   "metadata": {},
   "outputs": [],
   "source": []
  },
  {
   "cell_type": "code",
   "execution_count": null,
   "id": "0dc66a42",
   "metadata": {},
   "outputs": [],
   "source": []
  },
  {
   "cell_type": "markdown",
   "id": "090eb0fb",
   "metadata": {},
   "source": [
    "### Ejercicio 13\n",
    "- Dadas las siguientes **frases_1 = \"En una galaxia lejana\"** y **frase_2 = \"Una galaxia llamadá Via Lactea\"**, haz la intersección de las palabras."
   ]
  },
  {
   "cell_type": "code",
   "execution_count": 14,
   "id": "656f4cf7",
   "metadata": {},
   "outputs": [
    {
     "name": "stdout",
     "output_type": "stream",
     "text": [
      "Palabras comunes en ambas frases: {'una', 'galaxia'}\n"
     ]
    }
   ],
   "source": [
    "frase_1 = \"En una galaxia lejana\"\n",
    "frase_2 = \"Una galaxia llamada Via Lactea\"\n",
    "\n",
    "palabras_1 = set(frase_1.lower().split())\n",
    "palabras_2 = set(frase_2.lower().split())\n",
    "\n",
    "interseccion = palabras_1.intersection(palabras_2)\n",
    "\n",
    "print(f'Palabras comunes en ambas frases: {interseccion}')\n"
   ]
  },
  {
   "cell_type": "code",
   "execution_count": null,
   "id": "b2dd0b00",
   "metadata": {},
   "outputs": [],
   "source": []
  },
  {
   "cell_type": "code",
   "execution_count": null,
   "id": "93a2643a",
   "metadata": {},
   "outputs": [],
   "source": []
  },
  {
   "cell_type": "markdown",
   "id": "4783b135",
   "metadata": {},
   "source": [
    "### Ejercicio 14\n",
    "- Encuentra la diferencia entre el **set_1 = {9, 8, 7, 6, 5, 4, 3, 2}** y el **set_2 = {9, 8, 10}**\n",
    "- **Extra**: hazlo utilizando un bucle **for** y no la función."
   ]
  },
  {
   "cell_type": "code",
   "execution_count": 15,
   "id": "b9c1f6da",
   "metadata": {},
   "outputs": [
    {
     "name": "stdout",
     "output_type": "stream",
     "text": [
      "La diferencia entre set_1 y set_2 es: {2, 3, 4, 5, 6, 7}\n"
     ]
    }
   ],
   "source": [
    "set_1 = {9, 8, 7, 6, 5, 4, 3, 2}\n",
    "set_2 = {9, 8, 10}\n",
    "\n",
    "diferencia = set()\n",
    "\n",
    "for elemento in set_1:\n",
    "    if elemento not in set_2:\n",
    "        diferencia.add(elemento)\n",
    "\n",
    "print(f'La diferencia entre set_1 y set_2 es: {diferencia}')\n"
   ]
  },
  {
   "cell_type": "code",
   "execution_count": null,
   "id": "9c022e32",
   "metadata": {},
   "outputs": [],
   "source": []
  },
  {
   "cell_type": "code",
   "execution_count": null,
   "id": "bacca9a5",
   "metadata": {},
   "outputs": [],
   "source": []
  },
  {
   "cell_type": "markdown",
   "id": "551a5435",
   "metadata": {},
   "source": [
    "### Diccionarios"
   ]
  },
  {
   "cell_type": "markdown",
   "id": "d8f629e4",
   "metadata": {},
   "source": [
    "### Ejercicio 15\n",
    "- Crea un diccionario con 5 elementos (5 llaves y 5 valores)\n",
    "    - **Llave**: Color\n",
    "    - **Valor**: Numero de letras del color"
   ]
  },
  {
   "cell_type": "code",
   "execution_count": 16,
   "id": "19a8538b",
   "metadata": {},
   "outputs": [
    {
     "name": "stdout",
     "output_type": "stream",
     "text": [
      "{'rojo': 4, 'azul': 4, 'verde': 5, 'amarillo': 8, 'morado': 6}\n"
     ]
    }
   ],
   "source": [
    "colores = {\n",
    "    \"rojo\": len(\"rojo\"),\n",
    "    \"azul\": len(\"azul\"),\n",
    "    \"verde\": len(\"verde\"),\n",
    "    \"amarillo\": len(\"amarillo\"),\n",
    "    \"morado\": len(\"morado\")\n",
    "}\n",
    "\n",
    "print(colores)\n"
   ]
  },
  {
   "cell_type": "code",
   "execution_count": null,
   "id": "93b5e05d-e06b-4af8-afc8-9f01953a883d",
   "metadata": {},
   "outputs": [],
   "source": []
  },
  {
   "cell_type": "code",
   "execution_count": null,
   "id": "09c5ec06",
   "metadata": {},
   "outputs": [],
   "source": []
  },
  {
   "cell_type": "markdown",
   "id": "e8f4f57c",
   "metadata": {},
   "source": [
    "### Ejercicio 16\n",
    "- Crea un diccionario con 5 elementos pero esta vez pregunta el usuario por cada llave y valor.\n",
    "    - **Llave**: Color\n",
    "    - **Valor**: Numero de letras del color"
   ]
  },
  {
   "cell_type": "code",
   "execution_count": 17,
   "id": "90c9b8de",
   "metadata": {},
   "outputs": [
    {
     "name": "stdout",
     "output_type": "stream",
     "text": [
      "Diccionario de colores y su número de letras: {'Azul': 4, 'Rojo': 4, 'Verde': 5, 'Amarillo': 8, 'Negro': 5}\n"
     ]
    }
   ],
   "source": [
    "colores = {}\n",
    "\n",
    "for i in range(5):\n",
    "    color = input(\"Ingrese el nombre de un color: \")\n",
    "    colores[color] = len(color)\n",
    "\n",
    "print(f'Diccionario de colores y su número de letras: {colores}')\n"
   ]
  },
  {
   "cell_type": "code",
   "execution_count": null,
   "id": "506738f1",
   "metadata": {},
   "outputs": [],
   "source": []
  },
  {
   "cell_type": "code",
   "execution_count": null,
   "id": "21c199ae-a350-427a-bd96-9d8971a0249b",
   "metadata": {},
   "outputs": [],
   "source": []
  },
  {
   "cell_type": "markdown",
   "id": "f1d25834",
   "metadata": {},
   "source": [
    "### Ejercicio 17\n",
    "- Repite el ejercicio anterior pero de la siguiente forma:\n",
    "    - Primero crea en una lista los colores y en otra lista el numero de letras\n",
    "    - Después crea el diccionario a partir de las listas."
   ]
  },
  {
   "cell_type": "code",
   "execution_count": 18,
   "id": "55cae263",
   "metadata": {},
   "outputs": [
    {
     "name": "stdout",
     "output_type": "stream",
     "text": [
      "Diccionario de colores y su número de letras: {'Azul': 4, 'Rojo': 4, 'Amarillo': 8, 'Verde': 5, 'Violeta': 7}\n"
     ]
    }
   ],
   "source": [
    "lista_colores = []\n",
    "lista_numeros = []\n",
    "\n",
    "for i in range(5):\n",
    "    color = input(\"Ingrese el nombre de un color: \")\n",
    "    lista_colores.append(color)\n",
    "    lista_numeros.append(len(color))\n",
    "\n",
    "diccionario_colores = dict(zip(lista_colores, lista_numeros))\n",
    "\n",
    "print(f'Diccionario de colores y su número de letras: {diccionario_colores}')\n"
   ]
  },
  {
   "cell_type": "code",
   "execution_count": null,
   "id": "5559f84c",
   "metadata": {},
   "outputs": [],
   "source": []
  },
  {
   "cell_type": "code",
   "execution_count": null,
   "id": "e00b8e81",
   "metadata": {},
   "outputs": [],
   "source": []
  },
  {
   "cell_type": "markdown",
   "id": "07d54429",
   "metadata": {},
   "source": [
    "### Ejercicio 18\n",
    "- Pide al usuario que ingrese 3 números distintos y guarda esos números como llaves y crea los valores utilizando la siguiente formula:\n",
    "    - x : x**2\n",
    "    \n",
    "Donde x es la llave."
   ]
  },
  {
   "cell_type": "code",
   "execution_count": 20,
   "id": "84ada027",
   "metadata": {},
   "outputs": [
    {
     "name": "stdout",
     "output_type": "stream",
     "text": [
      "Diccionario de números y sus cuadrados: {5: 25, 9: 81, 4: 16}\n"
     ]
    }
   ],
   "source": [
    "numeros_diccionario = {}\n",
    "\n",
    "for i in range(3):\n",
    "    while True:\n",
    "        try:\n",
    "            numero = int(input(f\"Ingrese un número: \"))\n",
    "            if numero not in numeros_diccionario:\n",
    "                numeros_diccionario[numero] = numero ** 2\n",
    "                break\n",
    "            else:\n",
    "                print(\"El número ya fue ingresado. Ingrese un número distinto.\")\n",
    "        except ValueError:\n",
    "            print(\"Por favor, ingrese un número válido.\")\n",
    "\n",
    "print(f'Diccionario de números y sus cuadrados: {numeros_diccionario}')\n"
   ]
  },
  {
   "cell_type": "code",
   "execution_count": null,
   "id": "5d99fe70-8a80-478f-8e91-32bd6bffa446",
   "metadata": {},
   "outputs": [],
   "source": []
  },
  {
   "cell_type": "code",
   "execution_count": null,
   "id": "7d2ea857",
   "metadata": {},
   "outputs": [],
   "source": []
  },
  {
   "cell_type": "markdown",
   "id": "225eef27",
   "metadata": {},
   "source": [
    "### Ejercicio 19\n",
    "- Pide al usuario que ingrese una frase y agrega las palabras como keys y la frecuencia de cada palabra como value en un diccionario. Usa la función **Counter**."
   ]
  },
  {
   "cell_type": "code",
   "execution_count": 24,
   "id": "31dc2dbc",
   "metadata": {},
   "outputs": [
    {
     "name": "stdout",
     "output_type": "stream",
     "text": [
      "Diccionario de frecuencias de palabras: Counter({'de': 2, 'la': 2, 'mancha': 2, 'en': 1, 'un': 1, 'lugar': 1, 'limnpia': 1})\n"
     ]
    }
   ],
   "source": [
    "from collections import Counter\n",
    "\n",
    "frase = input(\"Ingrese una frase: \").lower()\n",
    "\n",
    "palabras = frase.split()\n",
    "\n",
    "frecuencias = Counter(palabras)\n",
    "\n",
    "print(\"Diccionario de frecuencias de palabras:\", frecuencias)\n"
   ]
  },
  {
   "cell_type": "code",
   "execution_count": null,
   "id": "b82f3136",
   "metadata": {},
   "outputs": [],
   "source": []
  },
  {
   "cell_type": "code",
   "execution_count": null,
   "id": "f6dfdf29",
   "metadata": {},
   "outputs": [],
   "source": []
  },
  {
   "cell_type": "markdown",
   "id": "9cce66c7",
   "metadata": {},
   "source": [
    "### Ejercicio 20\n",
    "- Crea un programa donde las keys son 7 números aleatorios entre el 100 y el 200 y en los values debe de estar la palabra par o impar, si el número es par o impar"
   ]
  },
  {
   "cell_type": "code",
   "execution_count": 25,
   "id": "2bbd2645",
   "metadata": {},
   "outputs": [
    {
     "name": "stdout",
     "output_type": "stream",
     "text": [
      "Diccionario de números y su paridad: {155: 'impar', 158: 'par', 195: 'impar', 121: 'impar', 139: 'impar', 125: 'impar', 169: 'impar'}\n"
     ]
    }
   ],
   "source": [
    "import random\n",
    "\n",
    "numeros_dict = {}\n",
    "\n",
    "for _ in range(7):\n",
    "    numero = random.randint(100, 200)\n",
    "    if numero not in numeros_dict:\n",
    "        if numero % 2 == 0:\n",
    "            numeros_dict[numero] = \"par\"\n",
    "        else:\n",
    "            numeros_dict[numero] = \"impar\"\n",
    "\n",
    "print(\"Diccionario de números y su paridad:\", numeros_dict)\n"
   ]
  },
  {
   "cell_type": "code",
   "execution_count": null,
   "id": "fee58480",
   "metadata": {},
   "outputs": [],
   "source": []
  },
  {
   "cell_type": "code",
   "execution_count": null,
   "id": "7da4aeaf-7ed3-45cd-a724-e162e5939ff7",
   "metadata": {},
   "outputs": [],
   "source": []
  },
  {
   "cell_type": "markdown",
   "id": "4d474a3b",
   "metadata": {},
   "source": [
    "### Ejercicio 21\n",
    "- Crea un programa donde las keys son 10 números enteros aleatorios entre el 1 y el 50 y para cada value del diccionario vamos a utilizar la siguiente formula x : 1/x"
   ]
  },
  {
   "cell_type": "code",
   "execution_count": 26,
   "id": "3db65c7a",
   "metadata": {},
   "outputs": [
    {
     "name": "stdout",
     "output_type": "stream",
     "text": [
      "Diccionario de números y 1/x: {40: 0.025, 30: 0.03333333333333333, 50: 0.02, 8: 0.125, 22: 0.045454545454545456, 11: 0.09090909090909091, 15: 0.06666666666666667, 4: 0.25, 5: 0.2, 3: 0.3333333333333333}\n"
     ]
    }
   ],
   "source": [
    "numeros_dict = {}\n",
    "\n",
    "while len(numeros_dict) < 10:\n",
    "    numero = random.randint(1, 50)\n",
    "    if numero not in numeros_dict:\n",
    "        numeros_dict[numero] = 1 / numero\n",
    "\n",
    "# Imprimir el diccionario resultante\n",
    "print(f'Diccionario de números y 1/x: {numeros_dict}')\n"
   ]
  },
  {
   "cell_type": "code",
   "execution_count": null,
   "id": "d70f79ef-a163-4649-ab4b-223b025b4ff6",
   "metadata": {},
   "outputs": [],
   "source": []
  },
  {
   "cell_type": "code",
   "execution_count": null,
   "id": "227b7aa5",
   "metadata": {},
   "outputs": [],
   "source": []
  },
  {
   "cell_type": "markdown",
   "id": "d2fb33ad",
   "metadata": {},
   "source": [
    "### Ejercicio 22\n",
    "- Crea un programa que dados los siguientes diccionarios: **d1 = {\"a\" : 125, \"b\" : 130, \"c\" : 150}**, **d2 = {\"e\" :  10, \"b\" : 20, \"a\" : 30}**, sume los items que tienen la misma key y guarde esas keys con la suma de los values en un nuevo diccionario"
   ]
  },
  {
   "cell_type": "code",
   "execution_count": 28,
   "id": "c0b2d94b",
   "metadata": {},
   "outputs": [
    {
     "name": "stdout",
     "output_type": "stream",
     "text": [
      "Diccionario con las sumas de los valores: {'a': 155, 'b': 150}\n"
     ]
    }
   ],
   "source": [
    "d1 = {\"a\": 125, \"b\": 130, \"c\": 150}\n",
    "d2 = {\"e\": 10, \"b\": 20, \"a\": 30}\n",
    "\n",
    "d_sum = {}\n",
    "\n",
    "for key in d1:\n",
    "    if key in d2:\n",
    "        d_sum[key] = d1[key] + d2[key]\n",
    "\n",
    "print(f'Diccionario con las sumas de los valores: {d_sum}')\n"
   ]
  },
  {
   "cell_type": "code",
   "execution_count": null,
   "id": "ba84795f",
   "metadata": {},
   "outputs": [],
   "source": []
  },
  {
   "cell_type": "code",
   "execution_count": null,
   "id": "4cc64315",
   "metadata": {},
   "outputs": [],
   "source": []
  },
  {
   "cell_type": "code",
   "execution_count": null,
   "id": "06bc46b2",
   "metadata": {},
   "outputs": [],
   "source": [
    "##############################################################################################################################"
   ]
  }
 ],
 "metadata": {
  "kernelspec": {
   "display_name": "Python 3",
   "language": "python",
   "name": "python3"
  },
  "language_info": {
   "codemirror_mode": {
    "name": "ipython",
    "version": 3
   },
   "file_extension": ".py",
   "mimetype": "text/x-python",
   "name": "python",
   "nbconvert_exporter": "python",
   "pygments_lexer": "ipython3",
   "version": "3.13.1"
  }
 },
 "nbformat": 4,
 "nbformat_minor": 5
}
