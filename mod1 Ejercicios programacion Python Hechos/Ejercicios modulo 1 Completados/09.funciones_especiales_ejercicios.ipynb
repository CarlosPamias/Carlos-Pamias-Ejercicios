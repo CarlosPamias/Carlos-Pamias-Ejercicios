{
 "cells": [
  {
   "cell_type": "markdown",
   "id": "de36e953",
   "metadata": {},
   "source": [
    "## Ejercicios - Funciones Especiales"
   ]
  },
  {
   "cell_type": "code",
   "execution_count": 2,
   "id": "a05cc9d4",
   "metadata": {},
   "outputs": [],
   "source": [
    "import random"
   ]
  },
  {
   "cell_type": "markdown",
   "id": "14724448",
   "metadata": {
    "tags": []
   },
   "source": [
    "### Operador Ternario"
   ]
  },
  {
   "cell_type": "markdown",
   "id": "15bb5ca3",
   "metadata": {},
   "source": [
    "### Ejercicio 1:\n",
    "- Transforma el siguiente condicional usando el operador ternario:"
   ]
  },
  {
   "cell_type": "code",
   "execution_count": 3,
   "id": "9be8af0f",
   "metadata": {},
   "outputs": [
    {
     "name": "stdout",
     "output_type": "stream",
     "text": [
      "impar\n"
     ]
    }
   ],
   "source": [
    "valor = random.randint(1000, 2000)\n",
    "\n",
    "if valor % 2 == 0:\n",
    "    \n",
    "    x = \"par\"\n",
    "    \n",
    "else:\n",
    "    \n",
    "    x = \"impar\"\n",
    "    \n",
    "print(x)"
   ]
  },
  {
   "cell_type": "code",
   "execution_count": 5,
   "id": "6a84011a",
   "metadata": {},
   "outputs": [
    {
     "name": "stdout",
     "output_type": "stream",
     "text": [
      "par\n"
     ]
    }
   ],
   "source": [
    "valor = random.randint(1000, 2000)\n",
    "x = \"par\" if valor % 2 == 0 else \"impar\"\n",
    "print(x)\n"
   ]
  },
  {
   "cell_type": "code",
   "execution_count": null,
   "id": "1c4e5f8c",
   "metadata": {},
   "outputs": [],
   "source": []
  },
  {
   "cell_type": "markdown",
   "id": "712de00b",
   "metadata": {},
   "source": [
    "### Ejercicio 2:\n",
    "- Transforma el siguiente condicional usando el operador ternario:"
   ]
  },
  {
   "cell_type": "code",
   "execution_count": 6,
   "id": "0d642085",
   "metadata": {},
   "outputs": [
    {
     "name": "stdout",
     "output_type": "stream",
     "text": [
      "a: 0.7775469328431904\n",
      "b: 0.6511536353220545\n",
      "x: 0.7775469328431904\n"
     ]
    }
   ],
   "source": [
    "a = random.random()\n",
    "b = random.random()\n",
    "\n",
    "if a > b:\n",
    "    x = a\n",
    "else:\n",
    "    x = b\n",
    "print(\"a:\", a)\n",
    "print(\"b:\", b)\n",
    "print(\"x:\", x)"
   ]
  },
  {
   "cell_type": "code",
   "execution_count": 7,
   "id": "95405c14",
   "metadata": {},
   "outputs": [
    {
     "name": "stdout",
     "output_type": "stream",
     "text": [
      "a: 0.6252663126193693\n",
      "b: 0.896049099917146\n",
      "x: 0.896049099917146\n"
     ]
    }
   ],
   "source": [
    "a = random.random()\n",
    "b = random.random()\n",
    "\n",
    "x = a if a > b else b\n",
    "\n",
    "print(\"a:\", a)\n",
    "print(\"b:\", b)\n",
    "print(\"x:\", x)\n"
   ]
  },
  {
   "cell_type": "code",
   "execution_count": null,
   "id": "9c8bedc2",
   "metadata": {},
   "outputs": [],
   "source": []
  },
  {
   "cell_type": "markdown",
   "id": "6a223d59",
   "metadata": {},
   "source": [
    "### Ejercicio 3:\n",
    "- Transforma el siguiente condicional usando el operador ternario:"
   ]
  },
  {
   "cell_type": "code",
   "execution_count": 8,
   "id": "72b57020",
   "metadata": {},
   "outputs": [
    {
     "name": "stdout",
     "output_type": "stream",
     "text": [
      "6\n"
     ]
    }
   ],
   "source": [
    "string = input(\"Ingresa una frase con palabras separadas por espacios: \")\n",
    "\n",
    "if len(string.split()) > 5:\n",
    "    x = len(string.split())\n",
    "    \n",
    "else:\n",
    "    x = 0\n",
    "    \n",
    "print(x)"
   ]
  },
  {
   "cell_type": "code",
   "execution_count": 10,
   "id": "2500650b",
   "metadata": {},
   "outputs": [
    {
     "name": "stdout",
     "output_type": "stream",
     "text": [
      "6\n"
     ]
    }
   ],
   "source": [
    "string = input(\"Ingresa una frase con palabras separadas por espacios: \")\n",
    "\n",
    "x = len(string.split()) if len(string.split()) > 5 else 0\n",
    "\n",
    "print(x)\n"
   ]
  },
  {
   "cell_type": "code",
   "execution_count": null,
   "id": "3dcb26e6",
   "metadata": {},
   "outputs": [],
   "source": []
  },
  {
   "cell_type": "code",
   "execution_count": null,
   "id": "ecf45d2d",
   "metadata": {},
   "outputs": [],
   "source": []
  },
  {
   "cell_type": "markdown",
   "id": "7047f230",
   "metadata": {},
   "source": [
    "### Ejercicio 4:\n",
    "- Transforma el siguiente condicional usando el operador ternario:"
   ]
  },
  {
   "cell_type": "code",
   "execution_count": 11,
   "id": "411b9767",
   "metadata": {},
   "outputs": [
    {
     "name": "stdout",
     "output_type": "stream",
     "text": [
      "25\n"
     ]
    }
   ],
   "source": [
    "numero = 5\n",
    "\n",
    "if type(numero) == int:\n",
    "    x = numero**2\n",
    "    \n",
    "else:\n",
    "    x = numero\n",
    "    \n",
    "print(x)"
   ]
  },
  {
   "cell_type": "code",
   "execution_count": 12,
   "id": "620c3c31",
   "metadata": {},
   "outputs": [
    {
     "name": "stdout",
     "output_type": "stream",
     "text": [
      "25\n"
     ]
    }
   ],
   "source": [
    "numero = 5\n",
    "\n",
    "x = numero**2 if type(numero) == int else numero\n",
    "\n",
    "print(x)\n"
   ]
  },
  {
   "cell_type": "code",
   "execution_count": null,
   "id": "b31e4e41",
   "metadata": {},
   "outputs": [],
   "source": []
  },
  {
   "cell_type": "code",
   "execution_count": null,
   "id": "465ac4f8",
   "metadata": {},
   "outputs": [],
   "source": []
  },
  {
   "cell_type": "markdown",
   "id": "89ef4b85",
   "metadata": {},
   "source": [
    "### List Comprehensions"
   ]
  },
  {
   "cell_type": "markdown",
   "id": "933f5b6f",
   "metadata": {},
   "source": [
    "### Ejercicio 5:\n",
    "- Inicializa una lista vacia.\n",
    "- Llena la lista 15 números enteros aleatorios entre 0 y 10 utilizando la función: **random.randint()** y un bucle **for**.\n",
    "- Después repite el ejercicio utilizando **list comprehension**."
   ]
  },
  {
   "cell_type": "code",
   "execution_count": 13,
   "id": "79eb56a7",
   "metadata": {},
   "outputs": [
    {
     "data": {
      "text/plain": [
       "[0, 9, 5, 1, 9, 3, 10, 7, 9, 3, 6, 7, 3, 10, 9]"
      ]
     },
     "execution_count": 13,
     "metadata": {},
     "output_type": "execute_result"
    }
   ],
   "source": [
    "lista_vacia = []\n",
    "\n",
    "for i in range(15):\n",
    "    lista_vacia.append(random.randint(0, 10))\n",
    "\n",
    "lista_vacia"
   ]
  },
  {
   "cell_type": "code",
   "execution_count": null,
   "id": "0bdefdf3",
   "metadata": {},
   "outputs": [],
   "source": []
  },
  {
   "cell_type": "code",
   "execution_count": null,
   "id": "2d6912f1",
   "metadata": {},
   "outputs": [],
   "source": []
  },
  {
   "cell_type": "markdown",
   "id": "59a80178",
   "metadata": {},
   "source": [
    "### Ejercicio 6:\n",
    "- Inicializa una lista vacia.\n",
    "- Llena la lista 15 números enteros aleatorios entre 1 y 100 utilizando la función: **random.randint()** y un bucle **for**.\n",
    "- Después inicializa otra lista vacia y llenala con los números impares de la primera lista.\n",
    "\n",
    "\n",
    "\n",
    "- Repite este proceso usando **list comprehension**.\n",
    "    - Tendras que hacer dos **list comprehensions**, uno para crear la lista con los 15 elementos y el segundo para filtrar."
   ]
  },
  {
   "cell_type": "code",
   "execution_count": 14,
   "id": "476d2a8b",
   "metadata": {},
   "outputs": [
    {
     "name": "stdout",
     "output_type": "stream",
     "text": [
      "Lista original: [70, 39, 51, 64, 59, 65, 20, 15, 3, 7, 41, 65, 64, 86, 97]\n",
      "Lista de números impares: [39, 51, 59, 65, 15, 3, 7, 41, 65, 97]\n"
     ]
    }
   ],
   "source": [
    "lista_vacia = []\n",
    "\n",
    "for _ in range(15):\n",
    "    lista_vacia.append(random.randint(1, 100))\n",
    "\n",
    "lista_impares = []\n",
    "\n",
    "for numero in lista_vacia:\n",
    "    if numero % 2 != 0:\n",
    "        lista_impares.append(numero)\n",
    "\n",
    "# Imprimir las listas\n",
    "print(f'Lista original: {lista_vacia}')\n",
    "print(f'Lista de números impares: {lista_impares}')\n"
   ]
  },
  {
   "cell_type": "code",
   "execution_count": 15,
   "id": "4f7c86e8",
   "metadata": {},
   "outputs": [
    {
     "name": "stdout",
     "output_type": "stream",
     "text": [
      "Lista original: [96, 42, 93, 2, 67, 35, 7, 18, 25, 77, 19, 15, 35, 80, 78]\n",
      "Lista de números impares: [93, 67, 35, 7, 25, 77, 19, 15, 35]\n"
     ]
    }
   ],
   "source": [
    "lista_vacia_2 = [random.randint(1, 100) for _ in range(15)]\n",
    "\n",
    "lista_impares = [numero for numero in lista_vacia_2 if numero % 2 != 0]\n",
    "\n",
    "print(f'Lista original: {lista_vacia_2}')\n",
    "print(f'Lista de números impares: {lista_impares}')\n"
   ]
  },
  {
   "cell_type": "code",
   "execution_count": null,
   "id": "723800e5",
   "metadata": {},
   "outputs": [],
   "source": []
  },
  {
   "cell_type": "markdown",
   "id": "a8e42b5b",
   "metadata": {},
   "source": [
    "### Ejercicio 6:\n",
    "- A partir de la siguiente **lista = [\"1\",\"2\",\"3\",\"4\",\"5\",\"6\"]**, usando bucles **for**, obten el siguiente resultado **lista = [11, 22, 33, 44, 55, 66]**.\n",
    "    - **Nota:** los elementos de la primera lista son **strings** y los elementos de la segunda lista son **enteros**.\n",
    "    \n",
    "- Repite el ejercicio pero usando **list comprehensions**."
   ]
  },
  {
   "cell_type": "code",
   "execution_count": 16,
   "id": "61a55d17",
   "metadata": {},
   "outputs": [
    {
     "name": "stdout",
     "output_type": "stream",
     "text": [
      "Lista resultado usando bucles for: [11, 22, 33, 44, 55, 66]\n"
     ]
    }
   ],
   "source": [
    "lista = [\"1\", \"2\", \"3\", \"4\", \"5\", \"6\"]\n",
    "\n",
    "lista_resultado = []\n",
    "\n",
    "for item in lista:\n",
    "    numero = int(item) * 11\n",
    "    lista_resultado.append(numero)\n",
    "\n",
    "print(f'Lista resultado usando bucles for: {lista_resultado}')\n"
   ]
  },
  {
   "cell_type": "code",
   "execution_count": 17,
   "id": "0aaf6d27",
   "metadata": {},
   "outputs": [
    {
     "name": "stdout",
     "output_type": "stream",
     "text": [
      "Lista resultado usando bucles for: [11, 22, 33, 44, 55, 66]\n"
     ]
    }
   ],
   "source": [
    "lista = [\"1\", \"2\", \"3\", \"4\", \"5\", \"6\"]\n",
    "\n",
    "lista_resultado = [int(item) * 11 for item in lista]\n",
    "\n",
    "print(f'Lista resultado usando bucles for: {lista_resultado}')\n"
   ]
  },
  {
   "cell_type": "code",
   "execution_count": null,
   "id": "36aa487d",
   "metadata": {},
   "outputs": [],
   "source": []
  },
  {
   "cell_type": "markdown",
   "id": "184a56f2",
   "metadata": {},
   "source": [
    "### Ejercicio 7:\n",
    "- Inicializa una lista vacia y llenala de 20 números enteros aleatorios del 1 al 100 (llamala **lista_1**).\n",
    "- Inicializa otra lista vacia y recorriendo la primera lista, llenala con 0's o 1's si los elementos son pares o impares, respectivamente (llamala **lista_2**).\n",
    "    - Ejemplo: \n",
    "        - input: **lista_1 = [58, 42, 47, 26, 45, 93, 24, 29, 16, 92]**\n",
    "        - output: **lista_2 = [0, 0, 1, 0, 1, 1, 0, 1, 0, 0]**\n",
    "        \n",
    "        \n",
    "- Repite el mismo ejercicio usando **list comprehension**."
   ]
  },
  {
   "cell_type": "code",
   "execution_count": 18,
   "id": "af5a77de",
   "metadata": {},
   "outputs": [
    {
     "name": "stdout",
     "output_type": "stream",
     "text": [
      "Lista 1: [74, 96, 20, 64, 95, 7, 49, 47, 50, 17, 50, 89, 97, 25, 53, 15, 46, 4, 33, 69]\n",
      "Lista 2: [0, 0, 0, 0, 1, 1, 1, 1, 0, 1, 0, 1, 1, 1, 1, 1, 0, 0, 1, 1]\n"
     ]
    }
   ],
   "source": [
    "lista_1 = []\n",
    "\n",
    "for _ in range(20):\n",
    "    lista_1.append(random.randint(1, 100))\n",
    "\n",
    "lista_2 = []\n",
    "\n",
    "for numero in lista_1:\n",
    "    if numero % 2 == 0:\n",
    "        lista_2.append(0)\n",
    "    else:\n",
    "        lista_2.append(1)\n",
    "\n",
    "print(f'Lista 1: {lista_1}')\n",
    "print(f'Lista 2: {lista_2}')\n"
   ]
  },
  {
   "cell_type": "code",
   "execution_count": 19,
   "id": "e16f3ba5",
   "metadata": {},
   "outputs": [
    {
     "name": "stdout",
     "output_type": "stream",
     "text": [
      "Lista 1: [25, 17, 49, 56, 17, 59, 66, 28, 65, 83, 71, 92, 21, 7, 60, 91, 61, 8, 6, 44]\n",
      "Lista 2: [1, 1, 1, 0, 1, 1, 0, 0, 1, 1, 1, 0, 1, 1, 0, 1, 1, 0, 0, 0]\n"
     ]
    }
   ],
   "source": [
    "\n",
    "lista_1 = [random.randint(1, 100) for _ in range(20)]\n",
    "\n",
    "lista_2 = [0 if numero % 2 == 0 else 1 for numero in lista_1]\n",
    "\n",
    "print(f'Lista 1: {lista_1}')\n",
    "print(f'Lista 2: {lista_2}')\n"
   ]
  },
  {
   "cell_type": "code",
   "execution_count": null,
   "id": "edcc6ae6",
   "metadata": {},
   "outputs": [],
   "source": []
  },
  {
   "cell_type": "markdown",
   "id": "aca8f0ef",
   "metadata": {},
   "source": [
    "### Dictionaries Comprehensions"
   ]
  },
  {
   "cell_type": "markdown",
   "id": "aa503199",
   "metadata": {},
   "source": [
    "### Ejercicio 8:\n",
    "- Inicializa un diccionario vacio (llamado **dict_1**).\n",
    "- Llenalo utilizando la siguiente formula: **i : int((i\\*random.random())\\*\\*-1)** donde **i** son los números del 1 hasta el 10. Hazlo usando un bucle **for**.\n",
    "\n",
    "\n",
    "\n",
    "- Repite este ejercicio pero usando **dictionaries comprehensions**."
   ]
  },
  {
   "cell_type": "code",
   "execution_count": 20,
   "id": "28390c9a",
   "metadata": {},
   "outputs": [
    {
     "name": "stdout",
     "output_type": "stream",
     "text": [
      "El Diccionario dict_1 usando bucle for: {1: 2, 2: 2, 3: 0, 4: 0, 5: 0, 6: 0, 7: 0, 8: 18, 9: 2, 10: 0}\n"
     ]
    }
   ],
   "source": [
    "dict_1 = {}\n",
    "\n",
    "for i in range(1, 11):\n",
    "    dict_1[i] = int((i * random.random()) ** -1)\n",
    "\n",
    "print(f'El Diccionario dict_1 usando bucle for: {dict_1}')\n"
   ]
  },
  {
   "cell_type": "code",
   "execution_count": 21,
   "id": "936eab90",
   "metadata": {},
   "outputs": [
    {
     "name": "stdout",
     "output_type": "stream",
     "text": [
      "El Diccionario dict_1 usando bucle for: {1: 23, 2: 0, 3: 1, 4: 0, 5: 39, 6: 0, 7: 0, 8: 0, 9: 0, 10: 0}\n"
     ]
    }
   ],
   "source": [
    "dict_1 = {i: int((i * random.random()) ** -1) for i in range(1, 11)}\n",
    "\n",
    "print(f'El Diccionario dict_1 usando bucle for: {dict_1}')\n"
   ]
  },
  {
   "cell_type": "code",
   "execution_count": null,
   "id": "217100ca",
   "metadata": {},
   "outputs": [],
   "source": []
  },
  {
   "cell_type": "markdown",
   "id": "6d2182b0",
   "metadata": {},
   "source": [
    "### Ejercicio 9:\n",
    "- Inicializa un diccionario vacio (llamado **dict_1**).\n",
    "- Llenalo utilizando los elementos de **lista_1** y los elementos de **lista_2** de forma que los elementos de **lista_1** sean las llaves y los elementos de **lista_2** sean los valores.\n",
    "\n",
    "\n",
    "- Repite este ejercicio pero usando **dictionaries comprehensions**."
   ]
  },
  {
   "cell_type": "code",
   "execution_count": 22,
   "id": "b563777f",
   "metadata": {},
   "outputs": [
    {
     "name": "stdout",
     "output_type": "stream",
     "text": [
      "El Diccionario dict_1 usando bucle for: {25: 1, 17: 1, 49: 1, 56: 0, 59: 1, 66: 0, 28: 0, 65: 1, 83: 1, 71: 1, 92: 0, 21: 1, 7: 1, 60: 0, 91: 1, 61: 1, 8: 0, 6: 0, 44: 0}\n"
     ]
    }
   ],
   "source": [
    "dict_1 = {}\n",
    "\n",
    "for i in range(len(lista_1)):\n",
    "    dict_1[lista_1[i]] = lista_2[i]\n",
    "\n",
    "print(f'El Diccionario dict_1 usando bucle for: {dict_1}')"
   ]
  },
  {
   "cell_type": "code",
   "execution_count": 23,
   "id": "84b8d749",
   "metadata": {},
   "outputs": [
    {
     "name": "stdout",
     "output_type": "stream",
     "text": [
      "El Diccionario dict_1 usando bucle for: {25: 1, 17: 1, 49: 1, 56: 0, 59: 1, 66: 0, 28: 0, 65: 1, 83: 1, 71: 1, 92: 0, 21: 1, 7: 1, 60: 0, 91: 1, 61: 1, 8: 0, 6: 0, 44: 0}\n"
     ]
    }
   ],
   "source": [
    "dict_1 = {lista_1[i]: lista_2[i] for i in range(len(lista_1))}\n",
    "\n",
    "print(f'El Diccionario dict_1 usando bucle for: {dict_1}')\n"
   ]
  },
  {
   "cell_type": "code",
   "execution_count": null,
   "id": "d393f1f3",
   "metadata": {},
   "outputs": [],
   "source": []
  },
  {
   "cell_type": "code",
   "execution_count": null,
   "id": "a1ca3b38",
   "metadata": {},
   "outputs": [],
   "source": [
    "##############################################################################################################################"
   ]
  }
 ],
 "metadata": {
  "kernelspec": {
   "display_name": "Python 3",
   "language": "python",
   "name": "python3"
  },
  "language_info": {
   "codemirror_mode": {
    "name": "ipython",
    "version": 3
   },
   "file_extension": ".py",
   "mimetype": "text/x-python",
   "name": "python",
   "nbconvert_exporter": "python",
   "pygments_lexer": "ipython3",
   "version": "3.13.1"
  }
 },
 "nbformat": 4,
 "nbformat_minor": 5
}
