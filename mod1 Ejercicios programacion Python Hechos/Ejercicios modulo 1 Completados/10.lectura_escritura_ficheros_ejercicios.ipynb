{
 "cells": [
  {
   "cell_type": "markdown",
   "id": "4a0bea5a",
   "metadata": {},
   "source": [
    "## Lectura y Escritura de ficheros Ejercicios"
   ]
  },
  {
   "cell_type": "markdown",
   "id": "84a0c448",
   "metadata": {},
   "source": [
    "### Ejercicio 1:\n",
    "- Pide al usuario por pantalla un número entero.\n",
    "- Crear un fichero llamado _**\"ejercicio_1.txt\"**_ y llenalo con la tabla de multiplicar de ese número.\n",
    "\n",
    "**Output**:\n",
    "\n",
    "**1 X 0 = 0**<br>\n",
    "**1 X 1 = 1**<br>\n",
    "**1 X 2 = 2**<br>\n",
    "**1 X 3 = 3**<br>\n",
    "**1 X 4 = 4**<br>\n",
    "**1 X 5 = 5**<br>\n",
    "**1 X 6 = 6**<br>\n",
    "**1 X 7 = 7**<br>\n",
    "**1 X 8 = 8**<br>\n",
    "**1 X 9 = 9**<br>"
   ]
  },
  {
   "cell_type": "code",
   "execution_count": 2,
   "id": "39b9884e",
   "metadata": {},
   "outputs": [],
   "source": [
    "numero = int(input(\"Introduce un número entero: \"))\n",
    "\n",
    "with open(\"ejercicio_1.txt\", \"w\") as file:\n",
    "    \n",
    "    for i in range(10):\n",
    "        file.write(f\"{numero} X {i} = {numero * i}\\n\")\n"
   ]
  },
  {
   "cell_type": "code",
   "execution_count": null,
   "id": "40c92fc9",
   "metadata": {},
   "outputs": [],
   "source": []
  },
  {
   "cell_type": "code",
   "execution_count": null,
   "id": "fef78603",
   "metadata": {},
   "outputs": [],
   "source": []
  },
  {
   "cell_type": "markdown",
   "id": "33537aec",
   "metadata": {},
   "source": [
    "### Ejercicio 2:\n",
    "- Lee el archivo _**\"ejercicio_2.txt\"**_ y guarda su contenido en una variable.\n",
    "- Muestra cuantas palabras hay en total y su frecuencia."
   ]
  },
  {
   "cell_type": "code",
   "execution_count": 5,
   "id": "004625e1",
   "metadata": {},
   "outputs": [
    {
     "name": "stdout",
     "output_type": "stream",
     "text": [
      "Número total de palabras: 382\n",
      "Frecuencia de las palabras:\n",
      "let: 1\n",
      "Source: 1\n",
      "=: 29\n",
      "#\"FactTable\"[Fecha],: 1\n",
      "FechaInicio: 1\n",
      "#date(Date.Year(List.Min(Source)),1,1),: 1\n",
      "FechaFinal: 1\n",
      "#date(Date.Year(List.Max(Source)),12,31),: 1\n",
      "ListaInicioFinal: 1\n",
      "{Number.From(FechaInicio)..Number.From(FechaFinal)},: 1\n",
      "#\"Converted: 1\n",
      "to: 2\n",
      "Table\": 1\n",
      "Table.FromList(ListaInicioFinal,: 1\n",
      "Splitter.SplitByNothing(),: 1\n",
      "null,: 2\n",
      "ExtraValues.Error),: 1\n",
      "#\"Changed: 1\n",
      "Type\": 1\n",
      "Table.TransformColumnTypes(#\"Converted: 1\n",
      "Table\",{{\"Column1\",: 1\n",
      "type: 11\n",
      "date}}),: 1\n",
      "#\"Renamed: 3\n",
      "Columns\": 2\n",
      "Table.RenameColumns(#\"Changed: 1\n",
      "Type\",{{\"Column1\",: 1\n",
      "\"Fecha\"}}),: 1\n",
      "#\"Added: 1\n",
      "Custom: 2\n",
      "Column\": 2\n",
      "Table.AddColumn(#\"Renamed: 1\n",
      "Columns\",: 2\n",
      "\"Custom\",: 1\n",
      "each: 18\n",
      "Text.Combine({Date.ToText([Fecha],: 1\n",
      "\"yyyy\"),: 1\n",
      "Date.ToText([Fecha],: 2\n",
      "\"MM\"),: 1\n",
      "\"dd\")}),: 1\n",
      "text),: 9\n",
      "#\"Inserted: 17\n",
      "Year\": 3\n",
      "Table.AddColumn(#\"Added: 1\n",
      "Column\",: 2\n",
      "\"Year\",: 1\n",
      "Date.Year([Fecha]),: 1\n",
      "Int64.Type),: 8\n",
      "Quarter\": 1\n",
      "Table.AddColumn(#\"Inserted: 15\n",
      "Year\",: 7\n",
      "\"Quarter\",: 1\n",
      "Date.QuarterOfYear([Fecha]),: 1\n",
      "Month\": 2\n",
      "Quarter\",: 1\n",
      "\"Month\",: 1\n",
      "Date.Month([Fecha]),: 1\n",
      "Day\": 1\n",
      "Month\",: 4\n",
      "\"Day\",: 1\n",
      "Date.Day([Fecha]),: 1\n",
      "Merged: 6\n",
      "Day\",: 1\n",
      "\"Merged\",: 1\n",
      "Text.Combine({\"T\",: 1\n",
      "Text.From([Quarter],: 1\n",
      "\"es-MX\")}),: 1\n",
      "Month: 2\n",
      "Name\": 2\n",
      "\"Month: 1\n",
      "Name\",: 6\n",
      "Date.MonthName([Fecha]),: 1\n",
      "First: 6\n",
      "Characters\": 1\n",
      "\"First: 6\n",
      "Characters\",: 3\n",
      "Text.Start([Month: 1\n",
      "Name],: 2\n",
      "3),: 2\n",
      "Day: 6\n",
      "of: 21\n",
      "Week\": 2\n",
      "\"Day: 3\n",
      "Week\",: 6\n",
      "Date.DayOfWeek([Fecha]),: 1\n",
      "Week: 4\n",
      "\"Week: 2\n",
      "Date.WeekOfYear([Fecha]),: 1\n",
      "Date.WeekOfMonth([Fecha]),: 1\n",
      "End: 2\n",
      "\"End: 1\n",
      "Date.EndOfWeek([Fecha],Day.Monday),: 1\n",
      "date),: 1\n",
      "Date.DayOfYear([Fecha]),: 1\n",
      "Date.DayOfWeekName([Fecha]),: 1\n",
      "Characters1\": 1\n",
      "Characters.1\",: 2\n",
      "Text.Start([Day: 1\n",
      "Column1\": 1\n",
      "Characters1\",: 1\n",
      "\"Merged.1\",: 1\n",
      "Text.Combine({Text.From([Year],: 2\n",
      "\"es-MX\"),: 2\n",
      "[Merged]},: 1\n",
      "\"/\"),: 1\n",
      "Characters2\": 1\n",
      "Column1\",: 1\n",
      "Characters.2\",: 2\n",
      "Text.Start([Custom],: 1\n",
      "6),: 1\n",
      "#\"Split: 1\n",
      "Column: 2\n",
      "by: 2\n",
      "Position\": 1\n",
      "Table.SplitColumn(#\"Inserted: 1\n",
      "Characters2\",: 1\n",
      "Splitter.SplitTextByPositions({0,: 1\n",
      "4},: 1\n",
      "false),: 1\n",
      "{\"First: 3\n",
      "Characters.2.1\",: 2\n",
      "Characters.2.2\"}),: 1\n",
      "#\"Merged: 1\n",
      "Table.CombineColumns(#\"Split: 1\n",
      "Position\",{\"First: 1\n",
      "Characters.2.2\"},Combiner.CombineTextByDelimiter(\"/\",: 1\n",
      "QuoteStyle.None),\"Merged.3\"),: 1\n",
      "Column2\": 1\n",
      "Table.AddColumn(#\"Merged: 1\n",
      "\"Merged.2\",: 1\n",
      "\"/\",: 1\n",
      "[First: 1\n",
      "Characters]}),: 1\n",
      "#\"Replaced: 1\n",
      "Value\": 1\n",
      "Table.ReplaceValue(#\"Inserted: 1\n",
      "Column2\",0,7,Replacer.ReplaceValue,{\"Day: 1\n",
      "Week\"}),: 1\n",
      "Columns1\": 2\n",
      "Table.RenameColumns(#\"Replaced: 1\n",
      "Value\",{{\"Custom\",: 1\n",
      "\"FechaSK\"},: 1\n",
      "{\"Year\",: 1\n",
      "\"#A: 1\n",
      "o\"},: 3\n",
      "{\"Quarter\",: 1\n",
      "\"#Trimestre\"},: 1\n",
      "{\"Month\",: 1\n",
      "\"#Mes\"},: 1\n",
      "{\"Day\",: 1\n",
      "\"#D: 3\n",
      "a\"},: 2\n",
      "{\"Merged\",: 1\n",
      "\"Trimestre\"},: 1\n",
      "{\"Month: 1\n",
      "\"Mes\"},: 1\n",
      "\"MesCorto\"},: 1\n",
      "{\"Day: 3\n",
      "aSemana\"},: 1\n",
      "{\"Week: 2\n",
      "\"#SemanaA: 1\n",
      "\"#SemanaMes\"},: 1\n",
      "{\"End: 1\n",
      "\"CierreSemana\"},: 1\n",
      "aA: 1\n",
      "\"D: 2\n",
      "aCorto\"},: 1\n",
      "{\"Merged.1\",: 1\n",
      "\"A: 3\n",
      "oTrimestre\"},: 1\n",
      "{\"Merged.3\",: 1\n",
      "o#Mes\"},: 1\n",
      "{\"Merged.2\",: 1\n",
      "oMesCorto\"}}): 1\n",
      "in: 1\n"
     ]
    }
   ],
   "source": [
    "with open(\"ejercicio_2.txt\", \"r\") as file:\n",
    "    contenido = file.read()\n",
    "\n",
    "palabras = contenido.split()\n",
    "\n",
    "frecuencia_palabras = {}\n",
    "\n",
    "for palabra in palabras:\n",
    "    if palabra in frecuencia_palabras:\n",
    "        frecuencia_palabras[palabra] += 1\n",
    "    else:\n",
    "        frecuencia_palabras[palabra] = 1\n",
    "\n",
    "print(f'Número total de palabras: {len(palabras)}')\n",
    "\n",
    "print(\"Frecuencia de las palabras:\")\n",
    "for palabra, frecuencia in frecuencia_palabras.items():\n",
    "    print(f\"{palabra}: {frecuencia}\")\n"
   ]
  },
  {
   "cell_type": "code",
   "execution_count": null,
   "id": "92fb0817",
   "metadata": {},
   "outputs": [],
   "source": []
  },
  {
   "cell_type": "code",
   "execution_count": null,
   "id": "777a3541",
   "metadata": {},
   "outputs": [],
   "source": []
  },
  {
   "cell_type": "markdown",
   "id": "1019cac0",
   "metadata": {},
   "source": [
    "### Ejercicio 3:\n",
    "- Define una función que se llame _**func_datos**_ que tome como parametro el nombre de un archivo y que pida por pantalla al usuario:\n",
    "    1. **Nombre**\n",
    "    2. **Un número entero**\n",
    "    3. **Una palabra**\n",
    "    4. **Nombre de Ciudad**\n",
    "    5. Escribe el código para escribir esos datos en una sola linea en el archivo (**Sin sobreescribir el archivo**).\n",
    "    6. No debe retornar nada.\n",
    "- LLama al archivo: _**\"ejercicio_3.txt\"**_.\n",
    "- Ejecuta esa función 5 veces. Asegurate de que el código funciona correctamente."
   ]
  },
  {
   "cell_type": "code",
   "execution_count": null,
   "id": "b0e0a862",
   "metadata": {},
   "outputs": [],
   "source": [
    "def func_datos(nombre_archivo):\n",
    "    nombre = input(\"Introduce tu nombre: \")\n",
    "    numero_entero = int(input(\"Introduce un número entero: \"))\n",
    "    palabra = input(\"Introduce una palabra: \")\n",
    "    ciudad = input(\"Introduce el nombre de una ciudad: \")\n",
    "    \n",
    "    with open(nombre_archivo, \"a\") as file:\n",
    "        file.write(f\"{nombre}, {numero_entero}, {palabra}, {ciudad}\\n\")\n",
    "\n",
    "nombre_archivo = \"ejercicio_3.txt\"\n",
    "\n",
    "for _ in range(5):\n",
    "    func_datos(nombre_archivo)\n",
    "\n"
   ]
  },
  {
   "cell_type": "code",
   "execution_count": null,
   "id": "eb12038e",
   "metadata": {},
   "outputs": [],
   "source": []
  },
  {
   "cell_type": "code",
   "execution_count": null,
   "id": "226f27f9",
   "metadata": {},
   "outputs": [],
   "source": []
  },
  {
   "cell_type": "markdown",
   "id": "25f2034e",
   "metadata": {},
   "source": [
    "### Ejercicio 4:\n",
    "- Lee el archivo binario **\"datos.pkl\"** (recuerda importar la libreria).\n",
    "- Guarda ese objeto en la variable **datos**."
   ]
  },
  {
   "cell_type": "code",
   "execution_count": null,
   "id": "39822a32",
   "metadata": {},
   "outputs": [],
   "source": [
    "import pickle\n",
    "\n",
    "with open(\"datos.pkl\", \"rb\") as file:\n",
    "    datos = pickle.load(file)\n"
   ]
  },
  {
   "cell_type": "code",
   "execution_count": null,
   "id": "a975a6c7",
   "metadata": {},
   "outputs": [],
   "source": []
  },
  {
   "cell_type": "code",
   "execution_count": null,
   "id": "117b51d4",
   "metadata": {},
   "outputs": [],
   "source": []
  },
  {
   "cell_type": "markdown",
   "id": "53b31ff3",
   "metadata": {},
   "source": [
    "### Ejercicio 5:\n",
    "- Usando el diccionario _**datos**_ imprime el nombre de los elementos que tengan **\"V1\"** en su nombre."
   ]
  },
  {
   "cell_type": "code",
   "execution_count": 2,
   "id": "5594d127",
   "metadata": {},
   "outputs": [
    {
     "name": "stdout",
     "output_type": "stream",
     "text": [
      "ElementoV1A\n",
      "ElementoV1C\n"
     ]
    }
   ],
   "source": [
    "datos = {\n",
    "    \"ElementoV1A\": \"Valor1\",\n",
    "    \"ElementoB\": \"Valor2\",\n",
    "    \"ElementoV1C\": \"Valor3\",\n",
    "    \"ElementoD\": \"Valor4\"\n",
    "}\n",
    "\n",
    "for nombre in datos.keys():\n",
    "    if \"V1\" in nombre:\n",
    "        print(nombre)\n"
   ]
  },
  {
   "cell_type": "code",
   "execution_count": null,
   "id": "180f3121",
   "metadata": {},
   "outputs": [],
   "source": []
  },
  {
   "cell_type": "code",
   "execution_count": null,
   "id": "15e148fc",
   "metadata": {},
   "outputs": [],
   "source": []
  },
  {
   "cell_type": "markdown",
   "id": "04dae01e",
   "metadata": {},
   "source": [
    "### Ejercicio 6:\n",
    "- Usando la variable _**datos**_ muestra los _**id**_ donde _**tipo**_ sea _**entrada**_."
   ]
  },
  {
   "cell_type": "code",
   "execution_count": 1,
   "id": "de5d1eb1",
   "metadata": {
    "scrolled": true
   },
   "outputs": [
    {
     "name": "stdout",
     "output_type": "stream",
     "text": [
      "1\n",
      "3\n",
      "5\n"
     ]
    }
   ],
   "source": [
    "datos3 = {\n",
    "    1: {\"tipo\": \"entrada\", \"nombre\": \"Elemento1\"},\n",
    "    2: {\"tipo\": \"salida\", \"nombre\": \"Elemento2\"},\n",
    "    3: {\"tipo\": \"entrada\", \"nombre\": \"Elemento3\"},\n",
    "    4: {\"tipo\": \"salida\", \"nombre\": \"Elemento4\"},\n",
    "    5: {\"tipo\": \"entrada\", \"nombre\": \"Elemento5\"}\n",
    "}\n",
    "\n",
    "for id, info in datos3.items():\n",
    "    if info[\"tipo\"] == \"entrada\":\n",
    "        print(id)\n"
   ]
  },
  {
   "cell_type": "code",
   "execution_count": null,
   "id": "44910c33",
   "metadata": {},
   "outputs": [],
   "source": []
  },
  {
   "cell_type": "code",
   "execution_count": null,
   "id": "5ea3c2ca",
   "metadata": {},
   "outputs": [],
   "source": []
  },
  {
   "cell_type": "markdown",
   "id": "af28191e",
   "metadata": {},
   "source": [
    "### Ejercicio 7:\n",
    "- Usando la variable **datos** muestra los **id** que sean del año **2016**."
   ]
  },
  {
   "cell_type": "code",
   "execution_count": 3,
   "id": "b967a92e",
   "metadata": {},
   "outputs": [
    {
     "name": "stdout",
     "output_type": "stream",
     "text": [
      "1\n",
      "3\n",
      "5\n"
     ]
    }
   ],
   "source": [
    "datos = {\n",
    "    1: {\"fecha\": \"2016-03-25\", \"nombre\": \"Elemento1\"},\n",
    "    2: {\"fecha\": \"2015-07-19\", \"nombre\": \"Elemento2\"},\n",
    "    3: {\"fecha\": \"2016-11-12\", \"nombre\": \"Elemento3\"},\n",
    "    4: {\"fecha\": \"2017-01-05\", \"nombre\": \"Elemento4\"},\n",
    "    5: {\"fecha\": \"2016-08-30\", \"nombre\": \"Elemento5\"}\n",
    "}\n",
    "\n",
    "for id, info in datos.items():\n",
    "    if info[\"fecha\"].startswith(\"2016\"):\n",
    "        print(id)\n"
   ]
  },
  {
   "cell_type": "code",
   "execution_count": null,
   "id": "d163d387",
   "metadata": {},
   "outputs": [],
   "source": []
  },
  {
   "cell_type": "code",
   "execution_count": null,
   "id": "394f8a71-4fe6-4782-8542-1f8cbf261cd6",
   "metadata": {},
   "outputs": [],
   "source": []
  },
  {
   "cell_type": "code",
   "execution_count": null,
   "id": "7af75f3a-bf10-4434-8189-8ef76704921c",
   "metadata": {
    "tags": []
   },
   "outputs": [],
   "source": [
    "##############################################################################################################################"
   ]
  }
 ],
 "metadata": {
  "kernelspec": {
   "display_name": "Python 3",
   "language": "python",
   "name": "python3"
  },
  "language_info": {
   "codemirror_mode": {
    "name": "ipython",
    "version": 3
   },
   "file_extension": ".py",
   "mimetype": "text/x-python",
   "name": "python",
   "nbconvert_exporter": "python",
   "pygments_lexer": "ipython3",
   "version": "3.13.1"
  }
 },
 "nbformat": 4,
 "nbformat_minor": 5
}
