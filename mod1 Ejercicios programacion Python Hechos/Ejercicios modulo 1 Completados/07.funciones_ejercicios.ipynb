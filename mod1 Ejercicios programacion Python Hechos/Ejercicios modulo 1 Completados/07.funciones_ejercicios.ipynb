{
 "cells": [
  {
   "cell_type": "markdown",
   "id": "617e80df",
   "metadata": {},
   "source": [
    "## Ejercicios - Funciones"
   ]
  },
  {
   "cell_type": "markdown",
   "id": "9ff17fdc",
   "metadata": {},
   "source": [
    "### Ejercicio 1\n",
    "- Crea una función que retorne el minimo de 2 números, no puedes usar la función **min()**."
   ]
  },
  {
   "cell_type": "code",
   "execution_count": 1,
   "id": "b2988ac2",
   "metadata": {},
   "outputs": [
    {
     "data": {
      "text/plain": [
       "5"
      ]
     },
     "execution_count": 1,
     "metadata": {},
     "output_type": "execute_result"
    }
   ],
   "source": [
    "def minimo_dos_numeros(numero1, numero2):\n",
    "    numero = 0\n",
    "    if numero1 >= numero2:\n",
    "        numero = numero2\n",
    "    else:\n",
    "        numero = numero1\n",
    "    return numero\n",
    "\n",
    "minimo = minimo_dos_numeros(7, 5)\n",
    "minimo"
   ]
  },
  {
   "cell_type": "code",
   "execution_count": null,
   "id": "c1bf472d",
   "metadata": {},
   "outputs": [],
   "source": []
  },
  {
   "cell_type": "code",
   "execution_count": null,
   "id": "1a08c3b9",
   "metadata": {},
   "outputs": [],
   "source": []
  },
  {
   "cell_type": "markdown",
   "id": "299d07e1",
   "metadata": {},
   "source": [
    "### Ejercicio 2\n",
    "- Crea una función que tenga como parametro de entrada 4 números y devuelva la suma y multiplicación de dichos números en dos variables."
   ]
  },
  {
   "cell_type": "code",
   "execution_count": 2,
   "id": "29dc4315",
   "metadata": {},
   "outputs": [
    {
     "name": "stdout",
     "output_type": "stream",
     "text": [
      "20 384\n"
     ]
    }
   ],
   "source": [
    "def operaciones(n1,n2,n3,n4):\n",
    "    suma = n1 + n2 + n3 + n4\n",
    "    multicacion = n1 * n2 * n3 * n4\n",
    "    return suma, multicacion\n",
    "\n",
    "suma, multicacion = operaciones(2,4,6,8)\n",
    "print(suma, multicacion)"
   ]
  },
  {
   "cell_type": "code",
   "execution_count": null,
   "id": "771dd0ed",
   "metadata": {},
   "outputs": [],
   "source": []
  },
  {
   "cell_type": "code",
   "execution_count": null,
   "id": "06eb5e0e",
   "metadata": {},
   "outputs": [],
   "source": []
  },
  {
   "cell_type": "markdown",
   "id": "b33d16b5",
   "metadata": {},
   "source": [
    "### Ejercicio 3\n",
    "- Crea una función que devuelva los dos números menores (en forma de lista) de 4 números."
   ]
  },
  {
   "cell_type": "code",
   "execution_count": 3,
   "id": "413447a6",
   "metadata": {},
   "outputs": [
    {
     "name": "stdout",
     "output_type": "stream",
     "text": [
      "Los dos números menores son: [3, 5]\n"
     ]
    }
   ],
   "source": [
    "def dos_menores(numeros):\n",
    "    \n",
    "    if len(numeros) != 4:\n",
    "        raise ValueError(\"La lista debe contener exactamente 4 números.\")\n",
    "    \n",
    "    return sorted(numeros)[:2]\n",
    "\n",
    "numeros = [10, 5, 8, 3]\n",
    "menores = dos_menores(numeros)\n",
    "print(f'Los dos números menores son: {menores}')\n"
   ]
  },
  {
   "cell_type": "code",
   "execution_count": null,
   "id": "763659b4",
   "metadata": {},
   "outputs": [],
   "source": []
  },
  {
   "cell_type": "code",
   "execution_count": null,
   "id": "6c0e5415",
   "metadata": {},
   "outputs": [],
   "source": []
  },
  {
   "cell_type": "markdown",
   "id": "b5b102ac",
   "metadata": {},
   "source": [
    "### Ejercicio 4\n",
    "- Crea una función que devuelva los 10 números menores de una lista de 20 números aleatorios entre 10 y 50. (Recuerda importar la libreria)\n",
    "- La lista de número aleatorios se puede crear fuera o dentro de la función."
   ]
  },
  {
   "cell_type": "code",
   "execution_count": 4,
   "id": "6f33698b",
   "metadata": {},
   "outputs": [
    {
     "name": "stdout",
     "output_type": "stream",
     "text": [
      "Los 10 números menores son: [12, 12, 16, 17, 20, 22, 23, 23, 24, 25]\n"
     ]
    }
   ],
   "source": [
    "import random\n",
    "\n",
    "def diez_menores():\n",
    "   \n",
    "    lista_numeros = []\n",
    "\n",
    "    for i in range(20):\n",
    "        numero = random.randint(10, 50)\n",
    "        lista_numeros.append(numero)\n",
    "        \n",
    "    return sorted(lista_numeros)[:10]\n",
    "\n",
    "menores = diez_menores()\n",
    "print(\"Los 10 números menores son:\", menores)\n",
    "\n"
   ]
  },
  {
   "cell_type": "code",
   "execution_count": null,
   "id": "77d7dacb",
   "metadata": {},
   "outputs": [],
   "source": []
  },
  {
   "cell_type": "code",
   "execution_count": null,
   "id": "f80ee060",
   "metadata": {},
   "outputs": [],
   "source": []
  },
  {
   "cell_type": "markdown",
   "id": "af2c3e2a",
   "metadata": {},
   "source": [
    "### Ejercicio 5\n",
    "- Crea una función que realice la misma tarea que **len()**. "
   ]
  },
  {
   "cell_type": "code",
   "execution_count": 5,
   "id": "fd7e71ac",
   "metadata": {},
   "outputs": [
    {
     "name": "stdout",
     "output_type": "stream",
     "text": [
      "La longitud de la cadena es:15\n",
      "La longitud de la lista es:5\n"
     ]
    }
   ],
   "source": [
    "def longitud(iterable):\n",
    "    contador = 0\n",
    "    for i in iterable:\n",
    "        contador += 1\n",
    "    return contador\n",
    "\n",
    "# Ejemplo de uso con una cadena\n",
    "cadena = \"Hola, mundo¡¡¡¡\"\n",
    "print(f'La longitud de la cadena es:{longitud(cadena)}')\n",
    "\n",
    "# Ejemplo de uso con una lista\n",
    "lista = [1, 2, 3, 4, 5]\n",
    "print(f'La longitud de la lista es:{longitud(lista)}')\n"
   ]
  },
  {
   "cell_type": "code",
   "execution_count": null,
   "id": "d0271389",
   "metadata": {},
   "outputs": [],
   "source": []
  },
  {
   "cell_type": "code",
   "execution_count": null,
   "id": "68d70a18",
   "metadata": {},
   "outputs": [],
   "source": []
  },
  {
   "cell_type": "markdown",
   "id": "16725232",
   "metadata": {},
   "source": [
    "### Ejercicio 6\n",
    "- Escribe una función que:\n",
    "- Tome como parametro de entrada una lista de números y letras\n",
    "- Convierta las letras a su forma en mayuscula.\n",
    "- Que calcule el cuadrado de los números\n",
    "- Que retorne ese resultado en una lista en el mismo orden.\n",
    "\n",
    "**Ejemplo:**\n",
    "\n",
    "**entrada = [1, 2, 3, 4, \"a\", \"b\", \"c\", \"d\"]**\n",
    "\n",
    "**salida = [1, 4, 9, 16, \"A\", \"B\", \"C\", \"D\"]**"
   ]
  },
  {
   "cell_type": "code",
   "execution_count": 6,
   "id": "f47c456d",
   "metadata": {},
   "outputs": [
    {
     "name": "stdout",
     "output_type": "stream",
     "text": [
      "Entrada: [1, 2, 3, 4, 'a', 'b', 'c', 'd']\n",
      "Salia: [1, 4, 9, 16, 'A', 'B', 'C', 'D']\n"
     ]
    }
   ],
   "source": [
    "def procesar_lista(lista):\n",
    "    resultado = []\n",
    "    for item in lista:\n",
    "        if isinstance(item, int):\n",
    "            resultado.append(item ** 2)\n",
    "        elif isinstance(item, str):\n",
    "            resultado.append(item.upper())\n",
    "    return resultado\n",
    "\n",
    "# Ejemplo de uso\n",
    "entrada = [1, 2, 3, 4, \"a\", \"b\", \"c\", \"d\"]\n",
    "salida = procesar_lista(entrada)\n",
    "print(f'Entrada: {entrada}')\n",
    "print(f'Salia: {salida}')\n"
   ]
  },
  {
   "cell_type": "code",
   "execution_count": null,
   "id": "ca5a46ed",
   "metadata": {},
   "outputs": [],
   "source": []
  },
  {
   "cell_type": "code",
   "execution_count": null,
   "id": "73fc8a6f",
   "metadata": {},
   "outputs": [],
   "source": []
  },
  {
   "cell_type": "markdown",
   "id": "b4a5e1be",
   "metadata": {},
   "source": [
    "### Ejercicio 7\n",
    "\n",
    "- Crea una funcion que reciba una lista de enteros y que retorne la misma lista sin numeros repetidos y ordenados."
   ]
  },
  {
   "cell_type": "code",
   "execution_count": 7,
   "id": "1b368b6a",
   "metadata": {},
   "outputs": [
    {
     "name": "stdout",
     "output_type": "stream",
     "text": [
      "Entrada: [4, 2, 9, 1, 5, 2, 4, 7, 8, 1, 0, 6, 3]\n",
      "Salia: [0, 1, 2, 3, 4, 5, 6, 7, 8, 9]\n"
     ]
    }
   ],
   "source": [
    "def eliminar_repetidos_y_ordenar(lista):\n",
    "    conjunto_unico = set(lista)\n",
    "    lista_ordenada = sorted(conjunto_unico)\n",
    "    return lista_ordenada\n",
    "\n",
    "entrada = [4, 2, 9, 1, 5, 2, 4, 7, 8, 1, 0, 6, 3]\n",
    "salida = eliminar_repetidos_y_ordenar(entrada)\n",
    "print(f'Entrada: {entrada}')\n",
    "print(f'Salia: {salida}')\n"
   ]
  },
  {
   "cell_type": "code",
   "execution_count": null,
   "id": "65caaaf1",
   "metadata": {},
   "outputs": [],
   "source": []
  },
  {
   "cell_type": "code",
   "execution_count": null,
   "id": "9210d8ac",
   "metadata": {},
   "outputs": [],
   "source": []
  },
  {
   "cell_type": "markdown",
   "id": "46a6ff3d",
   "metadata": {},
   "source": [
    "### Ejercicio 8\n",
    "- Dada una lista de numeros enteros, retornar cuantos numeros hay con un numero par de digitos."
   ]
  },
  {
   "cell_type": "code",
   "execution_count": 8,
   "id": "d1077bbf",
   "metadata": {},
   "outputs": [
    {
     "name": "stdout",
     "output_type": "stream",
     "text": [
      "La cantidad de números con un número par de dígitos es: 4\n"
     ]
    }
   ],
   "source": [
    "def contar_numeros_digitos_pares(lista):\n",
    "    contador = 0\n",
    "    for numero in lista:\n",
    "        if len(str(abs(numero))) % 2 == 0:\n",
    "            contador += 1\n",
    "    return contador\n",
    "\n",
    "# Ejemplo de uso\n",
    "entrada = [123, 4567, 89, 12, 345, 67890, 4, 56]\n",
    "resultado = contar_numeros_digitos_pares(entrada)\n",
    "print(f'La cantidad de números con un número par de dígitos es: {resultado}')\n"
   ]
  },
  {
   "cell_type": "code",
   "execution_count": null,
   "id": "dfe055e2",
   "metadata": {},
   "outputs": [],
   "source": []
  },
  {
   "cell_type": "code",
   "execution_count": null,
   "id": "ccf746a3",
   "metadata": {},
   "outputs": [],
   "source": []
  },
  {
   "cell_type": "code",
   "execution_count": 9,
   "id": "f3a41a72-ec75-4125-a921-435af6484930",
   "metadata": {},
   "outputs": [],
   "source": [
    "##############################################################################################################################"
   ]
  }
 ],
 "metadata": {
  "kernelspec": {
   "display_name": "Python 3",
   "language": "python",
   "name": "python3"
  },
  "language_info": {
   "codemirror_mode": {
    "name": "ipython",
    "version": 3
   },
   "file_extension": ".py",
   "mimetype": "text/x-python",
   "name": "python",
   "nbconvert_exporter": "python",
   "pygments_lexer": "ipython3",
   "version": "3.13.1"
  }
 },
 "nbformat": 4,
 "nbformat_minor": 5
}
