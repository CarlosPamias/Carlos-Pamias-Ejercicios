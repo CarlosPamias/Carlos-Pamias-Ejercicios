{
 "cells": [
  {
   "cell_type": "markdown",
   "id": "d8dae965-3470-4b4f-8274-93fddc43dc44",
   "metadata": {},
   "source": [
    "## Ejercicios - Cálculo Diferencial"
   ]
  },
  {
   "cell_type": "code",
   "execution_count": 1,
   "id": "04e4fedf-520c-403e-9c37-29bd074fe8bf",
   "metadata": {
    "tags": []
   },
   "outputs": [],
   "source": [
    "import numpy as np\n",
    "import matplotlib\n",
    "import matplotlib.pyplot as plt"
   ]
  },
  {
   "cell_type": "code",
   "execution_count": 2,
   "id": "9b68b171-d3ec-48e4-9ba7-3da5ac3fb801",
   "metadata": {
    "tags": []
   },
   "outputs": [
    {
     "name": "stdout",
     "output_type": "stream",
     "text": [
      "numpy==2.2.0\n",
      "matplotlib==3.10.0\n"
     ]
    }
   ],
   "source": [
    "# Versiones\n",
    "\n",
    "print(f\"numpy=={np.__version__}\")\n",
    "print(f\"matplotlib=={matplotlib.__version__}\")"
   ]
  },
  {
   "cell_type": "markdown",
   "id": "4f7153d8-720d-4dba-8325-d852fa6d9615",
   "metadata": {},
   "source": [
    "### Ejercicio 1:\n",
    "\n",
    "- Define una función en Python, llamala _**python_sqrt**_, esta función debe recibir un valor $x$ y retornar la raíz cuadrada de $x$.\n",
    "$$f(x) = \\sqrt[]{x}$$\n",
    "\n",
    "- Define una función en Python, llamala _**derivada_sqrt**_, esta función debe de recibir un valor $a$ y debe de tener como parámetro por defecto $h = 0.0000001$, debe retornar la derivada de $f(x)$ en el punto $a$. Usa la función _**python_sqrt**_ creada en el punto anterior.\n",
    "\n",
    "$$\n",
    "\\large f'(x) = \\frac{dy}{dx} = \\lim_{h \\to 0} \\frac{f(x + h) - f(x)}{h}\n",
    "$$\n",
    "\n",
    "- Calcula la derivada para los números del 1 al 100."
   ]
  },
  {
   "cell_type": "code",
   "execution_count": 8,
   "id": "67bf4e2b-257d-447f-8a5c-472f303f6688",
   "metadata": {},
   "outputs": [],
   "source": [
    "\n",
    "def python_sqrt(x):\n",
    "    return np.sqrt(x)\n"
   ]
  },
  {
   "cell_type": "code",
   "execution_count": 9,
   "id": "d827f3b5",
   "metadata": {},
   "outputs": [],
   "source": [
    "\n",
    "def derivada_sqrt(a, h=0.0000001):\n",
    "    return (python_sqrt(a + h) - python_sqrt(a)) / h\n",
    "\n"
   ]
  },
  {
   "cell_type": "code",
   "execution_count": 10,
   "id": "f23ea191",
   "metadata": {},
   "outputs": [
    {
     "name": "stdout",
     "output_type": "stream",
     "text": [
      "Derivada de sqrt en el punto 1: 0.4999999880794803\n",
      "Derivada de sqrt en el punto 2: 0.3535533843468386\n",
      "Derivada de sqrt en el punto 3: 0.288675132686933\n",
      "Derivada de sqrt en el punto 4: 0.24999999848063226\n",
      "Derivada de sqrt en el punto 5: 0.22360679530208927\n",
      "Derivada de sqrt en el punto 6: 0.20412414869497297\n",
      "Derivada de sqrt en el punto 7: 0.18898223430596772\n",
      "Derivada de sqrt en el punto 8: 0.17677669106319627\n",
      "Derivada de sqrt en el punto 9: 0.1666666671340522\n",
      "Derivada de sqrt en el punto 10: 0.15811387754638417\n",
      "Derivada de sqrt en el punto 11: 0.15075567016964442\n",
      "Derivada de sqrt en el punto 12: 0.14433756856391255\n",
      "Derivada de sqrt en el punto 13: 0.13867504922160379\n",
      "Derivada de sqrt en el punto 14: 0.13363062212334853\n",
      "Derivada de sqrt en el punto 15: 0.1290994422475933\n",
      "Derivada de sqrt en el punto 16: 0.12500000146076218\n",
      "Derivada de sqrt en el punto 17: 0.12126781356869287\n",
      "Derivada de sqrt en el punto 18: 0.11785113329665364\n",
      "Derivada de sqrt en el punto 19: 0.1147078609875507\n",
      "Derivada de sqrt en el punto 20: 0.11180340209193673\n",
      "Derivada de sqrt en el punto 21: 0.10910894410187666\n",
      "Derivada de sqrt en el punto 22: 0.10660035520970723\n",
      "Derivada de sqrt en el punto 23: 0.10425721619355954\n",
      "Derivada de sqrt en el punto 24: 0.10206207434748649\n",
      "Derivada de sqrt en el punto 25: 0.0999999993922529\n",
      "Derivada de sqrt en el punto 26: 0.09805806833185216\n",
      "Derivada de sqrt en el punto 27: 0.09622504570927504\n",
      "Derivada de sqrt en el punto 28: 0.09449111715298386\n",
      "Derivada de sqrt en el punto 29: 0.09284767621409173\n",
      "Derivada de sqrt en el punto 30: 0.09128709343997343\n",
      "Derivada de sqrt en el punto 31: 0.08980265420177602\n",
      "Derivada de sqrt en el punto 32: 0.08838834553159813\n",
      "Derivada de sqrt en el punto 33: 0.08703882947713737\n",
      "Derivada de sqrt en el punto 34: 0.08574929211135895\n",
      "Derivada de sqrt en el punto 35: 0.08451542576892734\n",
      "Derivada de sqrt en el punto 36: 0.08333333134658005\n",
      "Derivada de sqrt en el punto 37: 0.08219950053955927\n",
      "Derivada de sqrt en el punto 38: 0.08111071814198567\n",
      "Derivada de sqrt en el punto 39: 0.08006407981042685\n",
      "Derivada de sqrt en el punto 40: 0.07905693877319209\n",
      "Derivada de sqrt en el punto 41: 0.07808687918497981\n",
      "Derivada de sqrt en el punto 42: 0.07715167171795656\n",
      "Derivada de sqrt en el punto 43: 0.07624929132532543\n",
      "Derivada de sqrt en el punto 44: 0.07537783730526826\n",
      "Derivada de sqrt en el punto 45: 0.07453559547343502\n",
      "Derivada de sqrt en el punto 46: 0.07372097599045446\n",
      "Derivada de sqrt en el punto 47: 0.07293249559836568\n",
      "Derivada de sqrt en el punto 48: 0.07216878650240233\n",
      "Derivada de sqrt en el punto 49: 0.07142856972564005\n",
      "Derivada de sqrt en el punto 50: 0.07071067287256483\n",
      "Derivada de sqrt en el punto 51: 0.07001400348372044\n",
      "Derivada de sqrt en el punto 52: 0.06933753127214004\n",
      "Derivada de sqrt en el punto 53: 0.06868028812334614\n",
      "Derivada de sqrt en el punto 54: 0.06804137697713486\n",
      "Derivada de sqrt en el punto 55: 0.06741998959114426\n",
      "Derivada de sqrt en el punto 56: 0.06681530884122822\n",
      "Derivada de sqrt en el punto 57: 0.06622661530286678\n",
      "Derivada de sqrt en el punto 58: 0.06565321619689257\n",
      "Derivada de sqrt en el punto 59: 0.06509446315305922\n",
      "Derivada de sqrt en el punto 60: 0.06454971668290455\n",
      "Derivada de sqrt en el punto 61: 0.06401844387937672\n",
      "Derivada de sqrt en el punto 62: 0.06350006742650294\n",
      "Derivada de sqrt en el punto 63: 0.06299407218079978\n",
      "Derivada de sqrt en el punto 64: 0.06249999628948899\n",
      "Derivada de sqrt en el punto 65: 0.06201736013622394\n",
      "Derivada de sqrt en el punto 66: 0.061545737395363176\n",
      "Derivada de sqrt en el punto 67: 0.06108471950483363\n",
      "Derivada de sqrt en el punto 68: 0.06063389790256224\n",
      "Derivada de sqrt en el punto 69: 0.06019291731718113\n",
      "Derivada de sqrt en el punto 70: 0.05976142247732241\n",
      "Derivada de sqrt en el punto 71: 0.05933907587518661\n",
      "Derivada de sqrt en el punto 72: 0.05892557553011102\n",
      "Derivada de sqrt en el punto 73: 0.058520583934296155\n",
      "Derivada de sqrt en el punto 74: 0.058123816870647715\n",
      "Derivada de sqrt en el punto 75: 0.05773500788563979\n",
      "Derivada de sqrt en el punto 76: 0.05735392605288325\n",
      "Derivada de sqrt en el punto 77: 0.056980287155283804\n",
      "Derivada de sqrt en el punto 78: 0.056613842502883926\n",
      "Derivada de sqrt en el punto 79: 0.056254396696431286\n",
      "Derivada de sqrt en el punto 80: 0.05590168328239997\n",
      "Derivada de sqrt en el punto 81: 0.05555556015224283\n",
      "Derivada de sqrt en el punto 82: 0.05521576085243396\n",
      "Derivada de sqrt en el punto 83: 0.054882125510857804\n",
      "Derivada de sqrt en el punto 84: 0.05455447649183043\n",
      "Derivada de sqrt en el punto 85: 0.0542326183960995\n",
      "Derivada de sqrt en el punto 86: 0.05391637358798107\n",
      "Derivada de sqrt en el punto 87: 0.05360561772249639\n",
      "Derivada de sqrt en el punto 88: 0.05330017316396152\n",
      "Derivada de sqrt en el punto 89: 0.0529998978038293\n",
      "Derivada de sqrt en el punto 90: 0.05270463176998419\n",
      "Derivada de sqrt en el punto 91: 0.05241425071744743\n",
      "Derivada de sqrt en el punto 92: 0.05212861253767187\n",
      "Derivada de sqrt en el punto 93: 0.051847575122110356\n",
      "Derivada de sqrt en el punto 94: 0.05157104965292092\n",
      "Derivada de sqrt en el punto 95: 0.051298929548693195\n",
      "Derivada de sqrt en el punto 96: 0.05103103717374324\n",
      "Derivada de sqrt en el punto 97: 0.05076731923736588\n",
      "Derivada de sqrt en el punto 98: 0.050507615867445566\n",
      "Derivada de sqrt en el punto 99: 0.050251891536845505\n",
      "Derivada de sqrt en el punto 100: 0.05000000413701855\n"
     ]
    }
   ],
   "source": [
    "\n",
    "for i in range(1, 101):\n",
    "    derivada = derivada_sqrt(i)\n",
    "    print(f\"Derivada de sqrt en el punto {i}: {derivada}\")\n"
   ]
  },
  {
   "cell_type": "markdown",
   "id": "78be2e17-6967-41b8-8689-45b0287244dd",
   "metadata": {},
   "source": [
    "### Ejercicio 2:\n",
    "\n",
    "- Define una función en Python, llamala _**recta_tangente**_, esta función debe recibir un valor $a$ y retornar:\n",
    "    - El punto $a$.\n",
    "    - El punto $a$ evaluado en la función $f(x)$. En otras palabras, debe retornar $f(a)$.\n",
    "    - La derivada de $f(x)$ en $a$. En decir $f'(a)$.\n",
    "\n",
    "$$y = f'(a)\\cdot(x - a) + f(a)$$\n",
    "\n",
    "- Prueba la función con los números del 1 al 10.\n",
    "\n",
    "La función retornará los elementos necesarios para calcular la recta, no la recta en si.\n",
    "\n",
    "Usaremos $f(x) = \\sqrt[]{x}$, para reutilizar las funciones del ejercicio anterior."
   ]
  },
  {
   "cell_type": "code",
   "execution_count": null,
   "id": "c4b722ce-86da-48c8-9026-8e78b52413ba",
   "metadata": {},
   "outputs": [],
   "source": []
  },
  {
   "cell_type": "code",
   "execution_count": null,
   "id": "46febc22-f564-47a7-b42e-e209f0e91d84",
   "metadata": {},
   "outputs": [],
   "source": []
  },
  {
   "cell_type": "code",
   "execution_count": null,
   "id": "3b837b78-83fe-4c6c-ab8f-81d0bb995a31",
   "metadata": {},
   "outputs": [],
   "source": []
  },
  {
   "cell_type": "markdown",
   "id": "77ac9f93-734b-4ac9-a5c1-a35d7435632d",
   "metadata": {},
   "source": [
    "### Ejercicio 3:\n",
    "\n",
    "- Usando el resultado del ejercicio anterior, grafica la función $f(x)$, los puntos tangentes y las rectas tangentes para los valores: $1$ y $10$.\n",
    "- Usa _**x = np.linspace(0, 15, 1000)**_\n",
    "- Usa los notebooks de teoría para guiarte.\n",
    "\n",
    "Usaremos $f(x) = \\sqrt[]{x}$, para reutilizar las funciones de los ejercicios anteriores."
   ]
  },
  {
   "cell_type": "code",
   "execution_count": null,
   "id": "3911b912-282b-41fb-a759-c9c2593e69e6",
   "metadata": {},
   "outputs": [],
   "source": []
  },
  {
   "cell_type": "code",
   "execution_count": null,
   "id": "7f1c8edc-dae9-4545-8d32-4c75e040539e",
   "metadata": {},
   "outputs": [],
   "source": []
  },
  {
   "cell_type": "code",
   "execution_count": null,
   "id": "da526f41-7372-4ad5-82c0-0e5f978f4066",
   "metadata": {},
   "outputs": [],
   "source": []
  },
  {
   "cell_type": "markdown",
   "id": "dbc7280d-10ce-438a-99e4-9d7f5f307aa5",
   "metadata": {},
   "source": [
    "### Ejercicio 4 (_Extra_):\n",
    "\n",
    "- Repite los pasos de los ejercicios 1, 2 para la siguiente función:\n",
    "\n",
    "$$f(x) = sin(x^2) + 10$$\n",
    "\n",
    "- Repite los pasos del ejercicio 3, los puntos a evaluar son:\n",
    "    - $-1$\n",
    "    - $1$\n",
    "    - $-\\pi$\n",
    "    - $\\pi$\n",
    "\n",
    "- Usa _**x = np.linspace(-5, 5, 1000)**_ para la gráficas.\n",
    "\n",
    "Para usar el número $\\pi$, usamos _**np.pi**_."
   ]
  },
  {
   "cell_type": "code",
   "execution_count": null,
   "id": "4bbfb8c7-8561-424d-bcc7-1ac246bce98b",
   "metadata": {},
   "outputs": [],
   "source": []
  },
  {
   "cell_type": "code",
   "execution_count": null,
   "id": "464e473c-4e1f-45f7-9982-f71b689ffda4",
   "metadata": {},
   "outputs": [],
   "source": []
  },
  {
   "cell_type": "code",
   "execution_count": null,
   "id": "7d67f680-3b16-41bf-b67d-c9e9106c3da5",
   "metadata": {},
   "outputs": [],
   "source": []
  },
  {
   "cell_type": "code",
   "execution_count": null,
   "id": "598dcb8a-9668-49d0-af9e-44781c158bee",
   "metadata": {},
   "outputs": [],
   "source": []
  },
  {
   "cell_type": "code",
   "execution_count": null,
   "id": "5cf3593a-724a-4720-8eb5-3e3a0e29278b",
   "metadata": {},
   "outputs": [],
   "source": []
  },
  {
   "cell_type": "code",
   "execution_count": null,
   "id": "6ebb7ae7-dd26-455f-9cc9-ae2a88d194e2",
   "metadata": {},
   "outputs": [],
   "source": []
  },
  {
   "cell_type": "code",
   "execution_count": 3,
   "id": "bdef78f7-5f72-4011-bd50-43ab9f457577",
   "metadata": {
    "tags": []
   },
   "outputs": [],
   "source": [
    "##############################################################################################################################"
   ]
  }
 ],
 "metadata": {
  "kernelspec": {
   "display_name": "Python 3",
   "language": "python",
   "name": "python3"
  },
  "language_info": {
   "codemirror_mode": {
    "name": "ipython",
    "version": 3
   },
   "file_extension": ".py",
   "mimetype": "text/x-python",
   "name": "python",
   "nbconvert_exporter": "python",
   "pygments_lexer": "ipython3",
   "version": "3.13.1"
  }
 },
 "nbformat": 4,
 "nbformat_minor": 5
}
