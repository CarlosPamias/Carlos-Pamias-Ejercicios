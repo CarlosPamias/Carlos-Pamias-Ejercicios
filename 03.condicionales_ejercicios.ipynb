{
 "cells": [
  {
   "cell_type": "markdown",
   "id": "cc6f0931",
   "metadata": {},
   "source": [
    "## Ejecicios - Condicionales"
   ]
  },
  {
   "cell_type": "markdown",
   "id": "45bf39fc",
   "metadata": {},
   "source": [
    "### Ejercicio 1\n",
    "\n",
    "- Perdirle al usuario que ingrese un número mayor a 0\n",
    "- Luego que imprima por pantalla si el número es par o impar."
   ]
  },
  {
   "cell_type": "code",
   "execution_count": 1,
   "id": "ce78094c",
   "metadata": {},
   "outputs": [
    {
     "name": "stdout",
     "output_type": "stream",
     "text": [
      "numero incorrecto\n",
      "numero incorrecto\n",
      "25\n",
      "numero impar\n"
     ]
    }
   ],
   "source": [
    "while True:\n",
    "    try:\n",
    "        numero = int(input(\"Ingrese un número mayor que 0\"))\n",
    "        if numero > 0 and numero < 50:\n",
    "            break\n",
    "    except ValueError:\n",
    "        pass # ignoramos el error no hacemos nada con él. Se podría utilizar un logger para imprimir un error formateado\n",
    "        \n",
    "    print(\"numero incorrecto\")\n",
    "   \n",
    "print(numero)\n",
    "if numero % 2 == 0:\n",
    "    print(\"numero par\")\n",
    "else:\n",
    "    print(\"numero impar\")\n"
   ]
  },
  {
   "cell_type": "code",
   "execution_count": null,
   "id": "4047176c",
   "metadata": {},
   "outputs": [],
   "source": []
  },
  {
   "cell_type": "code",
   "execution_count": null,
   "id": "b98b7cc7",
   "metadata": {},
   "outputs": [],
   "source": []
  },
  {
   "cell_type": "markdown",
   "id": "50f7c887",
   "metadata": {},
   "source": [
    "### Ejercicio 2\n",
    "- Pedirle al usuario que ingrese una palabra.\n",
    "- Contar el número de letras y decir si es una palabra larga (10 caracteres o más) o corta."
   ]
  },
  {
   "cell_type": "code",
   "execution_count": 6,
   "id": "dd695bac",
   "metadata": {},
   "outputs": [
    {
     "name": "stdout",
     "output_type": "stream",
     "text": [
      "La palabra: Despiadado, es una palabra larga. Tiene 10 letras.\n"
     ]
    }
   ],
   "source": [
    "palabra = input('Introduzca una palabra:')\n",
    "letras_palabra = len(palabra)\n",
    "\n",
    "if letras_palabra >= 10:\n",
    "    print(f\"La palabra: {palabra}, es una palabra larga. Tiene {letras_palabra} letras.\")\n",
    "else:\n",
    "    print(f\"La palabra: {palabra}, es una palabra corta. Tiene {letras_palabra} letras.\")\n"
   ]
  },
  {
   "cell_type": "code",
   "execution_count": null,
   "id": "9fbdea13",
   "metadata": {},
   "outputs": [],
   "source": []
  },
  {
   "cell_type": "code",
   "execution_count": null,
   "id": "8f385606",
   "metadata": {},
   "outputs": [],
   "source": []
  },
  {
   "cell_type": "markdown",
   "id": "c3b58038",
   "metadata": {},
   "source": [
    "### Ejercicio 3\n",
    "- Pedirle al usuario que ingrese una palabra.\n",
    "- Contar cuantas vocales tiene e imprimir cuantas hay de cada una.\n",
    "- Luego imprimir por pantalla si tiene más vocales que consonantes."
   ]
  },
  {
   "cell_type": "code",
   "execution_count": 9,
   "id": "e31e702d",
   "metadata": {},
   "outputs": [
    {
     "name": "stdout",
     "output_type": "stream",
     "text": [
      "a: 4\n",
      "e: 2\n",
      "i: 0\n",
      "o: 0\n",
      "u: 2\n",
      "La frase: \"en un lugar de la mancha\" tiene más consonantes que vocales.\n"
     ]
    }
   ],
   "source": [
    "frase = input(\"Ingrese una frase: \").lower()\n",
    "\n",
    "# Inicializar contadores\n",
    "a_count = e_count = i_count = o_count = u_count = consonantes = 0\n",
    "vocales = 'aeiou'\n",
    "\n",
    "# Contar vocales y consonantes\n",
    "index = 0\n",
    "while index < len(frase):\n",
    "    letra = frase[index]\n",
    "    if letra == 'a':\n",
    "        a_count += 1\n",
    "    if letra == 'e':\n",
    "        e_count += 1\n",
    "    if letra == 'i':\n",
    "        i_count += 1\n",
    "    if letra == 'o':\n",
    "        o_count += 1\n",
    "    if letra == 'u':\n",
    "        u_count += 1\n",
    "    if letra.isalpha() and letra not in vocales:\n",
    "        consonantes += 1\n",
    "    index += 1\n",
    "\n",
    "# Imprimir el conteo de cada vocal\n",
    "print(f\"a: {a_count}\")\n",
    "print(f\"e: {e_count}\")\n",
    "print(f\"i: {i_count}\")\n",
    "print(f\"o: {o_count}\")\n",
    "print(f\"u: {u_count}\")\n",
    "\n",
    "# Calcular el total de vocales\n",
    "total_vocales = a_count + e_count + i_count + o_count + u_count\n",
    "\n",
    "# Imprimir si tiene más vocales que consonantes\n",
    "if total_vocales > consonantes:\n",
    "    print(f'La frase: \"{frase}\" tiene más vocales que consonantes.')\n",
    "if total_vocales <= consonantes:\n",
    "    print(f'La frase: \"{frase}\" tiene más consonantes que vocales.')\n",
    "\n"
   ]
  },
  {
   "cell_type": "code",
   "execution_count": null,
   "id": "21726bb9",
   "metadata": {},
   "outputs": [],
   "source": []
  },
  {
   "cell_type": "code",
   "execution_count": null,
   "id": "0e3bb7e3",
   "metadata": {},
   "outputs": [],
   "source": []
  },
  {
   "cell_type": "markdown",
   "id": "c075c77b",
   "metadata": {},
   "source": [
    "### Ejercicio 4\n",
    "- Pedir al usuario que ingrese una frase.\n",
    "- Contar el número de palabras.\n",
    "- Si el número de palabras es impar imprimir \"El número de palabras es impar\" de lo contrario imprimir \"El número de palabras es par\"."
   ]
  },
  {
   "cell_type": "code",
   "execution_count": 13,
   "id": "67962e21",
   "metadata": {},
   "outputs": [
    {
     "name": "stdout",
     "output_type": "stream",
     "text": [
      "La frase: \"En la fiesta de Blas\", contiene un numero de palabras impar (5).\n"
     ]
    }
   ],
   "source": [
    "frase = input('Introduzca una frase:')\n",
    "palabras_frase = len(frase.split())\n",
    "\n",
    "if palabras_frase % 2 == 0:\n",
    "    print(f'La frase: \"{frase}\", contiene un numero de palabras par ({palabras_frase}).')\n",
    "else:\n",
    "    print(f'La frase: \"{frase}\", contiene un numero de palabras impar ({palabras_frase}).')"
   ]
  },
  {
   "cell_type": "code",
   "execution_count": null,
   "id": "0cdfdbbd",
   "metadata": {},
   "outputs": [],
   "source": []
  },
  {
   "cell_type": "code",
   "execution_count": null,
   "id": "8c1baece",
   "metadata": {},
   "outputs": [],
   "source": []
  },
  {
   "cell_type": "code",
   "execution_count": null,
   "id": "38fb44c7",
   "metadata": {},
   "outputs": [],
   "source": [
    "##############################################################################################################################"
   ]
  }
 ],
 "metadata": {
  "kernelspec": {
   "display_name": "Python 3",
   "language": "python",
   "name": "python3"
  },
  "language_info": {
   "codemirror_mode": {
    "name": "ipython",
    "version": 3
   },
   "file_extension": ".py",
   "mimetype": "text/x-python",
   "name": "python",
   "nbconvert_exporter": "python",
   "pygments_lexer": "ipython3",
   "version": "3.13.1"
  }
 },
 "nbformat": 4,
 "nbformat_minor": 5
}
